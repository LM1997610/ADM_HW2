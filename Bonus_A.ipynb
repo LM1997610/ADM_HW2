{
 "cells": [
  {
   "cell_type": "markdown",
   "id": "60e2094f-a16f-4d89-a53a-4d7ff8af3cf1",
   "metadata": {},
   "source": [
    "### Libraries Required"
   ]
  },
  {
   "cell_type": "code",
   "execution_count": 1,
   "id": "20999c80-6def-4407-a82c-125317f5422b",
   "metadata": {},
   "outputs": [],
   "source": [
    "import pandas as pd \n",
    "import numpy as np\n",
    "from tqdm import tqdm\n",
    "import datetime"
   ]
  },
  {
   "cell_type": "markdown",
   "id": "a3c54122-4358-416c-afd9-6ce5e4138ff9",
   "metadata": {},
   "source": [
    "#### Bonus A\n",
    "<p>  Sort the users in terms of number of followers and divide them into two groups: for the first group, take only the top 10% regarding \"followers\", and for the second one, take the rest. <br>\n",
    " Now compare the mean of time intervals between posts for the two categories. <br> Do you notice something relevant?</p>"
   ]
  },
  {
   "cell_type": "markdown",
   "id": "7fad1876-a8e9-45e1-8341-051150036140",
   "metadata": {},
   "source": [
    "#### *Approach*:\n",
    "\n",
    "##### Task divided in three parts:\n",
    " - Order users descending by number of followers from instagram_profiles.csv and split them into two groups\n",
    " - Create a post_finder funtion to get all posts cts (Timestamp when the post was created) for each group\n",
    " - Calculate the mean of timedeltas for each group"
   ]
  },
  {
   "cell_type": "code",
   "execution_count": 2,
   "id": "6688edf6-2159-4eca-9a91-237ef5cbd0a7",
   "metadata": {},
   "outputs": [
    {
     "name": "stderr",
     "output_type": "stream",
     "text": [
      "10it [00:12,  1.20s/it]\n"
     ]
    },
    {
     "name": "stdout",
     "output_type": "stream",
     "text": [
      "(345277, 2) (3107494, 2)\n"
     ]
    }
   ],
   "source": [
    "## Sort the users in terms of number of followers and divide them into two groups (named a and b):\n",
    "\n",
    "appended_data = []\n",
    "for chunk in tqdm(pd.read_csv('~/instagram_profiles.zip', delimiter='\\t', usecols=['sid','followers'], chunksize=500000)):  \n",
    "    \n",
    "    chunk = chunk.dropna()        ## Remove missing values\n",
    "    appended_data.append(chunk)\n",
    "\n",
    "df_followers = pd.concat(appended_data)\n",
    "\n",
    "df_followers['followers'] = df_followers['followers'].astype(\"int\")    # Cast Followers column to a specified dtype (integer)\n",
    "df_followers['sid'] = df_followers['sid'].astype(\"int\")                # Cast Sid column to a specified dtype (integer)\n",
    "\n",
    "result = df_followers.sort_values(by=['followers'], ascending=False)\n",
    "\n",
    "a, b = np.split(result, [int(.1*len(result))])   # splitting df sorted by followers in 10 % and rest\n",
    "\n",
    "ten_list = a['sid'].tolist()    ## sid needed as a list for post_finder function input\n",
    "rest_list = b['sid'].tolist()   ## sid needed as a list for post_finder function input\n",
    "\n",
    "print(a.shape, b.shape)"
   ]
  },
  {
   "cell_type": "code",
   "execution_count": 3,
   "id": "1d8f9a60-f29d-4627-a28a-6595a292a336",
   "metadata": {},
   "outputs": [],
   "source": [
    "# function to get posts's datetime information from instagram_posts.zip\n",
    "\n",
    "def post_finder(lis):\n",
    "    \n",
    "    ''' Arg: list of sid from profiles.csv used to match with sid_profile in posts.csv in order to retrieve their posts .\n",
    "    \n",
    "        Returns: posts that belong to the users in input list as a pandas DataFrame. '''\n",
    "    \n",
    "    big_lista = []\n",
    "    for chunk in tqdm(pd.read_csv('~/instagram_posts.zip', delimiter='\\t', usecols=['sid_profile','cts'], chunksize=500000)):\n",
    "        \n",
    "        chunk = chunk.dropna()     ## Remove missing values\n",
    "        result = chunk.loc[chunk['sid_profile'].isin(lis)]\n",
    "\n",
    "        if not result.empty:\n",
    "                big_lista.append(result)\n",
    "\n",
    "    data = pd.concat(big_lista)\n",
    "    data['cts'] = pd.to_datetime(data['cts'])  ## converts values to pandas datetime objects.\n",
    "    print(\"shape :\", data.shape)\n",
    "    \n",
    "    return (data)  ## return dataFrame with cts of the posts with matching sid from two tables"
   ]
  },
  {
   "cell_type": "code",
   "execution_count": 23,
   "id": "16571d53-1bb9-4590-bc39-b248a86867fd",
   "metadata": {},
   "outputs": [
    {
     "name": "stderr",
     "output_type": "stream",
     "text": [
      "86it [03:34,  2.49s/it]\n"
     ]
    },
    {
     "name": "stdout",
     "output_type": "stream",
     "text": [
      "shape : (4861946, 2)\n",
      " mean of time intervals between posts for 10 % : 22 days 09:14:56\n"
     ]
    }
   ],
   "source": [
    "## top 10 % \n",
    "\n",
    "data_10 = post_finder(ten_list)  ## call the function on 10 % list\n",
    "\n",
    "##  mean of time intervals between posts:\n",
    "\n",
    "df_top = data_10.sort_values([\"sid_profile\",'cts'], ascending = [True, True])\n",
    "df_top['cts'] = pd.to_datetime(df_top['cts'], utc=True)\n",
    "y = df_top.diff()         ### Calculates the difference of a DataFrame element compared with element in previous row\n",
    "\n",
    "result1 = y[y.sid_profile == 0]['cts'].mean()\n",
    "print(\" mean of time intervals between posts for 10 % users regarding 'followers' :\", str(result1).split(\".\")[0])"
   ]
  },
  {
   "cell_type": "code",
   "execution_count": 24,
   "id": "497a5019-8dfd-4654-a5f7-06119ea1810c",
   "metadata": {},
   "outputs": [
    {
     "name": "stderr",
     "output_type": "stream",
     "text": [
      "86it [04:14,  2.96s/it]\n"
     ]
    },
    {
     "name": "stdout",
     "output_type": "stream",
     "text": [
      "shape : (22268940, 2)\n",
      " mean of time intervals between posts for rest users regarding 'followers' : 20 days 02:38:57\n"
     ]
    }
   ],
   "source": [
    "## rest \n",
    "\n",
    "data_rest = post_finder(rest_list) ## call the function on rest list\n",
    "\n",
    "##  mean of time intervals between posts:\n",
    "\n",
    "df_rest = data_rest.sort_values(['sid_profile','cts'], ascending = [True, True])\n",
    "df_rest['cts'] = pd.to_datetime(df_rest['cts'], utc=True)\n",
    "z = df_rest.diff()      ### Calculates the difference of a DataFrame element compared with element in previous row\n",
    "\n",
    "result2 = z[z.sid_profile == 0]['cts'].mean()\n",
    "print(\" mean of time intervals between posts for rest users regarding 'followers' :\", str(result2).split(\".\")[0])"
   ]
  },
  {
   "cell_type": "markdown",
   "id": "9488f060-9e4e-4aa1-8a61-05edff0555c1",
   "metadata": {},
   "source": [
    "**Comment :** <br>\n",
    "<br>The data shows that the mean frequency of posts for the two groups is very similar, 22 days for top followers and 20 days for the rest users.\n",
    "<br> Intuitively we expected a different result: more influential profiles (with more followers) posting more frequently than others"
   ]
  }
 ],
 "metadata": {
  "kernelspec": {
   "display_name": "conda_python3",
   "language": "python",
   "name": "conda_python3"
  },
  "language_info": {
   "codemirror_mode": {
    "name": "ipython",
    "version": 3
   },
   "file_extension": ".py",
   "mimetype": "text/x-python",
   "name": "python",
   "nbconvert_exporter": "python",
   "pygments_lexer": "ipython3",
   "version": "3.8.12"
  }
 },
 "nbformat": 4,
 "nbformat_minor": 5
}
