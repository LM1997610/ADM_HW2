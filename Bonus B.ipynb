{
 "cells": [
  {
   "cell_type": "markdown",
   "id": "0a7d203a-8a53-4999-bb6d-e6ace8657a32",
   "metadata": {},
   "source": [
    "### Work division\n",
    "#### The work for this notebook is done and compiled by Nemish Murawat."
   ]
  },
  {
   "cell_type": "markdown",
   "id": "d0c9b214-36cf-47b3-9bb1-517a6cd7272f",
   "metadata": {
    "tags": []
   },
   "source": [
    "### Libraries Required"
   ]
  },
  {
   "cell_type": "code",
   "execution_count": 1,
   "id": "a8dee84b-561a-4bd1-b168-9363c32b2720",
   "metadata": {},
   "outputs": [
    {
     "name": "stderr",
     "output_type": "stream",
     "text": [
      "Matplotlib is building the font cache; this may take a moment.\n"
     ]
    }
   ],
   "source": [
    "# Import Requirements\n",
    "import pandas as pd\n",
    "from tqdm import tqdm as tq\n",
    "import numpy as np\n",
    "import matplotlib.pyplot as plt\n",
    "import datetime\n",
    "from collections import Counter"
   ]
  },
  {
   "cell_type": "markdown",
   "id": "90e15443-9ab8-4689-8f5c-556aea1ec83d",
   "metadata": {},
   "source": [
    "### Bonus B\n",
    "## Assume users publish their posts the same day pictures or videos are taken: Are there users that have visited the same location on the same day? How about the same week? Extract the results and explain them."
   ]
  },
  {
   "cell_type": "markdown",
   "id": "a049ac4d-e384-4644-97dc-ce9d8a84b86d",
   "metadata": {},
   "source": [
    "### *Flow of Execution*:\n",
    "\n",
    "#### - To answer the given question, I use three datasets to evaluate the required subparts of the questions. \n",
    "#### - I find those users which are present in *Instagram_Profiles.csv* and they have atleast one post in the *Instagram_Posts.csv* dataset. Further I filter those posts whose location-id is not present in the *Instagram_location.csv* dataset."
   ]
  },
  {
   "cell_type": "markdown",
   "id": "28a91e56-ac46-44a7-85da-793f32eb4644",
   "metadata": {},
   "source": [
    "#### Step-1: \n",
    "##### - I read the complete Location dataset( Just one column containing Location-ID) in one-go  as the size of the dataset is not that big. \n",
    "##### - I drop rows with any NaN value present"
   ]
  },
  {
   "cell_type": "code",
   "execution_count": 2,
   "id": "86281d14-8ace-481d-ad57-1c1aa5c27161",
   "metadata": {},
   "outputs": [],
   "source": [
    "\n",
    "df_locations=pd.read_csv('/home/ec2-user/SageMaker/Data/instagram_locations.csv',usecols=['id'],sep='\\t')\n",
    "df_locations=df_locations.dropna()"
   ]
  },
  {
   "cell_type": "markdown",
   "id": "9ebd8340-1300-4682-b541-11013434fff1",
   "metadata": {},
   "source": [
    "#### Step-2: \n",
    "##### - I read the complete Profiles dataset( Just one column containing SID) in one-go  as the size of the dataset is not that big. \n",
    "##### - I drop rows with any NaN value present"
   ]
  },
  {
   "cell_type": "code",
   "execution_count": 3,
   "id": "060d8f01-e0d8-465d-b904-08966e7c9ed0",
   "metadata": {},
   "outputs": [],
   "source": [
    "\n",
    "df_profiles=pd.read_csv('/home/ec2-user/SageMaker/Data/instagram_profiles.csv',usecols=['sid'],sep='\\t')\n",
    "df_profiles=df_profiles.dropna()"
   ]
  },
  {
   "cell_type": "markdown",
   "id": "94e25555-e62b-4f96-b182-e60d9a4a4652",
   "metadata": {},
   "source": [
    "#### Step-3: \n",
    "##### - I read the Posts dataset( Columns='profile_id','location_id','cts') in chunks due to the large datasize of the dataset\n",
    "##### - I drop rows with any NaN value present\n",
    "##### - For every Chunk I perform three operations:\n",
    "> ######    I merge Chunk and Location dataset on those Location_id which are present in both the dataframe\n",
    "> ######    I find those users which are present in both the previously-merged dataframe and Profile dataset. In the end I get users whose required information is present in all datasets.\n",
    "> ######    I Concatenate the Final merged Dataframe(df_merged) for all the chunks and would use this for further analysis.\n"
   ]
  },
  {
   "cell_type": "code",
   "execution_count": null,
   "id": "2334987c-d718-4917-b9f6-13389ac7b516",
   "metadata": {},
   "outputs": [
    {
     "name": "stderr",
     "output_type": "stream",
     "text": [
      "428it [1:20:05, 11.23s/it]\n"
     ]
    }
   ],
   "source": [
    "\n",
    "for i,chunk in tq(enumerate(pd.read_csv('/home/ec2-user/SageMaker/Data/instagram_posts.csv',sep='\\t',usecols=['profile_id','location_id','cts'],chunksize=100000,keep_default_na=True))):\n",
    "           chunk=chunk.dropna()\n",
    "           df_final=pd.merge(chunk,df_locations,left_on='location_id',right_on='id')\n",
    "           df_final=pd.merge(df_final,df_profiles,left_on='profile_id',right_on='sid')\n",
    "           df_final=df_final.drop(['id','sid'],axis=1)\n",
    "           df_merged=pd.concat([x,df_final],axis=0) if i!=0 else df_final"
   ]
  },
  {
   "cell_type": "markdown",
   "id": "0777d567-fa43-4f8b-9495-4621f1ce39b1",
   "metadata": {},
   "source": [
    "#### Step-4: Further modifying the Dataframe\n",
    "##### - I convert the string Timestamps in (cts) column to datetime objects to be able to use the data more efficiently.\n",
    "##### - I create two new more columns to get date and time from the Datetime objects created for every user.\n",
    "\n"
   ]
  },
  {
   "cell_type": "code",
   "execution_count": 65,
   "id": "bc449c64-5b6b-4d2b-a28f-52547929ce06",
   "metadata": {},
   "outputs": [],
   "source": [
    "#df_merged=pd.read_csv('/home/ec2-user/SageMaker/Data/Three_intersection.csv')\n",
    "df_merged['cts']=pd.to_datetime(df_merged['cts'])\n",
    "df_merged['date']=pd.DatetimeIndex(df_merged['cts']).date\n",
    "df_merged['time']=pd.DatetimeIndex(df_merged['cts']).time\n"
   ]
  },
  {
   "cell_type": "markdown",
   "id": "65307a1d-56f4-4fc8-bd67-7779ee5e0899",
   "metadata": {},
   "source": [
    "#### Step-5: Towards finding users who would have visited the locations on Same-day\n",
    "##### - I create a Counter(c) over the Location-Id which helps me to identify:\n",
    "> ###### Number of distinct Location\n",
    "##### - I Iterate over the key values(distinct locations) of the counter\n",
    "> ###### I find those rows with the jth Location-ID to get the users visiting the location(df_location)\n",
    "> ###### I create a counter(c1) over the possible dates for that location visited by the user.\n",
    "##### - Now I Iterate over the possible dates of that Location-ID\n",
    "> ###### Now,using the df_location dataframe I find those rows(users) which have visited that location on that day (df_location_date).\n",
    "> ###### I create a counter(c2) over all the possible users('Profile_ID') that would a visited a particular location on a particular date.\n",
    "> ###### I store those users in a dictionary(location_date) for which I can get a more than one-users for a location and on a particular date. The format for the stored dictionary:\n",
    ">>###### Key: Location Value: [ Date, Counter_Object( Key: Profile_id, Value: Number of time the user visited the location on that day)]\n",
    "\n"
   ]
  },
  {
   "cell_type": "code",
   "execution_count": 66,
   "id": "ae17412e-6f26-4acc-94f9-f6d96fdaec0c",
   "metadata": {},
   "outputs": [
    {
     "name": "stderr",
     "output_type": "stream",
     "text": [
      "218115it [07:06, 511.90it/s]\n"
     ]
    }
   ],
   "source": [
    "c=Counter(df_merged['location_id'].values)\n",
    "location_date={}\n",
    "for i,j in tq(enumerate(c.keys())):\n",
    "    df_location=df_merged[df_merged['location_id']==j]\n",
    "    c1=Counter(df_location['date'].values)\n",
    "    \n",
    "    for k in c1.keys():\n",
    "        df_location_date=df_location[df_location['date']==k]\n",
    "        c2=Counter(df_location_date['profile_id'])\n",
    "        \n",
    "        if (len(location_date)==0) and ((sum(c2.values())>1) and (len(c2)>1)): \n",
    "            location_date={j:[[k,dict(c2)]]}\n",
    "            \n",
    "        elif (j not in location_date.keys()) and ((sum(c2.values())>1) and (len(c2)>1)):\n",
    "            location_date[j]=[[k,dict(c2)]]\n",
    "            \n",
    "        elif ((sum(c2.values())>1) and (len(c2)>1)):\n",
    "            location_date[j].append([k,dict(c2)])\n",
    "\n",
    "                "
   ]
  },
  {
   "cell_type": "markdown",
   "id": "e8d015b7-89bc-4563-9486-ca8d7898fb78",
   "metadata": {},
   "source": [
    "#### Step-6: Towards finding users who would have visited the locations on Same-day\n",
    "##### - I convert the stored dictionary into Dataframe(df_location) with Columns: Location_id','Date','n_users'\n",
    "##### - I create a new Column: Count to get the actual value of users that have visited a particular location on a given date."
   ]
  },
  {
   "cell_type": "code",
   "execution_count": 67,
   "id": "4bdd8b2f-894a-4a5c-a152-2c0cb9f09b36",
   "metadata": {},
   "outputs": [
    {
     "name": "stderr",
     "output_type": "stream",
     "text": [
      "11416it [00:00, 876882.60it/s]\n"
     ]
    },
    {
     "data": {
      "text/html": [
       "<div>\n",
       "<style scoped>\n",
       "    .dataframe tbody tr th:only-of-type {\n",
       "        vertical-align: middle;\n",
       "    }\n",
       "\n",
       "    .dataframe tbody tr th {\n",
       "        vertical-align: top;\n",
       "    }\n",
       "\n",
       "    .dataframe thead th {\n",
       "        text-align: right;\n",
       "    }\n",
       "</style>\n",
       "<table border=\"1\" class=\"dataframe\">\n",
       "  <thead>\n",
       "    <tr style=\"text-align: right;\">\n",
       "      <th></th>\n",
       "      <th>Location_id</th>\n",
       "      <th>Date</th>\n",
       "      <th>n_users</th>\n",
       "      <th>Count</th>\n",
       "    </tr>\n",
       "  </thead>\n",
       "  <tbody>\n",
       "    <tr>\n",
       "      <th>0</th>\n",
       "      <td>1.355426e+15</td>\n",
       "      <td>2019-06-03</td>\n",
       "      <td>{138932.0: 1, 1873096.0: 1}</td>\n",
       "      <td>2</td>\n",
       "    </tr>\n",
       "    <tr>\n",
       "      <th>1</th>\n",
       "      <td>1.957827e+15</td>\n",
       "      <td>2019-05-25</td>\n",
       "      <td>{311771.0: 1, 2750189.0: 1}</td>\n",
       "      <td>2</td>\n",
       "    </tr>\n",
       "    <tr>\n",
       "      <th>2</th>\n",
       "      <td>3.226783e+08</td>\n",
       "      <td>2019-05-09</td>\n",
       "      <td>{632129.0: 1, 650406.0: 2}</td>\n",
       "      <td>2</td>\n",
       "    </tr>\n",
       "    <tr>\n",
       "      <th>3</th>\n",
       "      <td>2.696303e+08</td>\n",
       "      <td>2019-05-30</td>\n",
       "      <td>{3465032.0: 1, 2234616.0: 2}</td>\n",
       "      <td>2</td>\n",
       "    </tr>\n",
       "    <tr>\n",
       "      <th>4</th>\n",
       "      <td>1.276207e+14</td>\n",
       "      <td>2019-05-05</td>\n",
       "      <td>{1661025.0: 1, 4125475.0: 1}</td>\n",
       "      <td>2</td>\n",
       "    </tr>\n",
       "    <tr>\n",
       "      <th>...</th>\n",
       "      <td>...</td>\n",
       "      <td>...</td>\n",
       "      <td>...</td>\n",
       "      <td>...</td>\n",
       "    </tr>\n",
       "    <tr>\n",
       "      <th>11411</th>\n",
       "      <td>6.252645e+08</td>\n",
       "      <td>2018-07-14</td>\n",
       "      <td>{3568917.0: 1, 2689816.0: 1}</td>\n",
       "      <td>2</td>\n",
       "    </tr>\n",
       "    <tr>\n",
       "      <th>11412</th>\n",
       "      <td>3.818394e+08</td>\n",
       "      <td>2019-05-29</td>\n",
       "      <td>{3866899.0: 1, 1007994.0: 1}</td>\n",
       "      <td>2</td>\n",
       "    </tr>\n",
       "    <tr>\n",
       "      <th>11413</th>\n",
       "      <td>5.180815e+08</td>\n",
       "      <td>2016-05-06</td>\n",
       "      <td>{2772195.0: 1, 3164283.0: 1}</td>\n",
       "      <td>2</td>\n",
       "    </tr>\n",
       "    <tr>\n",
       "      <th>11414</th>\n",
       "      <td>2.567200e+05</td>\n",
       "      <td>2019-05-25</td>\n",
       "      <td>{1801359.0: 1, 1227933.0: 1}</td>\n",
       "      <td>2</td>\n",
       "    </tr>\n",
       "    <tr>\n",
       "      <th>11415</th>\n",
       "      <td>5.171830e+08</td>\n",
       "      <td>2019-05-28</td>\n",
       "      <td>{722208.0: 1, 3192871.0: 1}</td>\n",
       "      <td>2</td>\n",
       "    </tr>\n",
       "  </tbody>\n",
       "</table>\n",
       "<p>11416 rows × 4 columns</p>\n",
       "</div>"
      ],
      "text/plain": [
       "        Location_id        Date                       n_users  Count\n",
       "0      1.355426e+15  2019-06-03   {138932.0: 1, 1873096.0: 1}      2\n",
       "1      1.957827e+15  2019-05-25   {311771.0: 1, 2750189.0: 1}      2\n",
       "2      3.226783e+08  2019-05-09    {632129.0: 1, 650406.0: 2}      2\n",
       "3      2.696303e+08  2019-05-30  {3465032.0: 1, 2234616.0: 2}      2\n",
       "4      1.276207e+14  2019-05-05  {1661025.0: 1, 4125475.0: 1}      2\n",
       "...             ...         ...                           ...    ...\n",
       "11411  6.252645e+08  2018-07-14  {3568917.0: 1, 2689816.0: 1}      2\n",
       "11412  3.818394e+08  2019-05-29  {3866899.0: 1, 1007994.0: 1}      2\n",
       "11413  5.180815e+08  2016-05-06  {2772195.0: 1, 3164283.0: 1}      2\n",
       "11414  2.567200e+05  2019-05-25  {1801359.0: 1, 1227933.0: 1}      2\n",
       "11415  5.171830e+08  2019-05-28   {722208.0: 1, 3192871.0: 1}      2\n",
       "\n",
       "[11416 rows x 4 columns]"
      ]
     },
     "execution_count": 67,
     "metadata": {},
     "output_type": "execute_result"
    }
   ],
   "source": [
    "df_location=pd.DataFrame([(k,*x) for k,v in location_date.items() for x in v ],columns=['Location_id','Date','n_users'])\n",
    "count=[]\n",
    "for i,j in tq(enumerate(df_location['n_users'])):\n",
    "\n",
    "        count.append(len(j))\n",
    "df_location['Count']=count\n",
    "df_location"
   ]
  },
  {
   "cell_type": "markdown",
   "id": "f235b642-1d8d-4237-b9d8-24f0229b683d",
   "metadata": {},
   "source": [
    "#### Step-7: Towards finding users who would have visited the locations on Same-day\n",
    "##### - I Calculate the total counts of users that have visited a location on the same day"
   ]
  },
  {
   "cell_type": "code",
   "execution_count": 69,
   "id": "b8307281-9bec-4c8c-9af9-7ebbcc605a72",
   "metadata": {},
   "outputs": [],
   "source": [
    "People_same_day=0\n",
    "for i,j in enumerate(df_location['n_users']):\n",
    "  \n",
    "        People_same_day += len(j)\n"
   ]
  },
  {
   "cell_type": "code",
   "execution_count": 70,
   "id": "0d41287c-c571-428d-b28c-981a071a4f6d",
   "metadata": {},
   "outputs": [
    {
     "name": "stdout",
     "output_type": "stream",
     "text": [
      "The Number of users that have visited a location on the same day is 32388\n"
     ]
    }
   ],
   "source": [
    "print('The Number of users that have visited a location on the same day is {}'.format(People_same_day))"
   ]
  },
  {
   "cell_type": "markdown",
   "id": "390d5fb6-717f-43d4-b05a-a4cffb2e1282",
   "metadata": {},
   "source": [
    "#### Step-8: Scatter plot of users that have visited a location on the same day"
   ]
  },
  {
   "cell_type": "code",
   "execution_count": 71,
   "id": "3a3754a4-3bea-44c5-bde0-8752958f3b8e",
   "metadata": {},
   "outputs": [
    {
     "data": {
      "text/plain": [
       "Text(0, 0.5, 'No. of users went within a same day of Posting')"
      ]
     },
     "execution_count": 71,
     "metadata": {},
     "output_type": "execute_result"
    },
    {
     "data": {
      "image/png": "[encoded data removed]",
      "text/plain": [
       "<Figure size 432x288 with 1 Axes>"
      ]
     },
     "metadata": {
      "needs_background": "light"
     },
     "output_type": "display_data"
    }
   ],
   "source": [
    "\n",
    "colors=np.random.rand(len(df_location['Location_id'].values))\n",
    "plt.scatter(y=df_location['Count'].values,x=df_location.index,alpha=0.5,c=colors)\n",
    "plt.xlabel('Index of the Different Locations from the created DataFrame')\n",
    "plt.ylabel('No. of users went within a same day of Posting')"
   ]
  },
  {
   "cell_type": "markdown",
   "id": "8dfdd56d-3c0f-4b1d-a70a-8d08215462f3",
   "metadata": {},
   "source": [
    "#### Step-9: Towards finding users who would have visited the locations within a same week\n",
    "##### - I create a Counter(c) over the Location-Id which helps me to identify:\n",
    "> ###### Number of distinct Location\n",
    "##### - I Iterate over the key values(distinct locations) of the counter\n",
    "> ###### I find those rows with the jth Location-ID to get the users visiting the location(df_location)\n",
    "> ###### I create a counter(c1) over the possible dates for that location visited by the user.\n",
    "##### - Now I Iterate over the possible dates of that Location-ID\n",
    "> ###### Now,using the df_location dataframe I find those rows(users) which have visited that location on that day (df_location_date).\n",
    "> ###### I create a counter(c2) over all the possible users('Profile_ID') that would a visited a particular location on a particular date.\n",
    "> ###### I store those users in a dictionary(location_date) for which I can get with a least one-users for a location and on a particular day.\n",
    ">>###### The reason to include with a location(on a particular date) with just one user as he might have gone to visit the location within span of one-week of others users.\n",
    ">>###### The format for the stored dictionary:Key: Location Value: [ Date, Counter_Object( Key: Profile_id, Value: Number of time the user visited the location on that day)]\n",
    "\n"
   ]
  },
  {
   "cell_type": "code",
   "execution_count": 72,
   "id": "f2657f31-6d72-4245-a77a-119a4bbc7ee6",
   "metadata": {},
   "outputs": [
    {
     "name": "stderr",
     "output_type": "stream",
     "text": [
      "218115it [06:59, 519.83it/s]\n"
     ]
    }
   ],
   "source": [
    "c=Counter(df_merged['location_id'].values)\n",
    "location_date_1={}\n",
    "for i,j in tq(enumerate(c.keys())):\n",
    "    \n",
    "    df_location=df_merged[df_merged['location_id']==j]\n",
    "    c1=Counter(df_location['date'].values)\n",
    "    \n",
    "    for k in c1.keys():\n",
    "        \n",
    "        df_location_date=df_location[df_location['date']==k]\n",
    "        c2=Counter(df_location_date['profile_id'])\n",
    "        \n",
    "        if (len(location_date_1)==0) and ((sum(c2.values())>0) and (len(c2)>0)): \n",
    "            location_date_1={j:[[k,dict(c2)]]}\n",
    "            \n",
    "        elif (j not in location_date_1.keys()) and ((sum(c2.values())>0) and (len(c2)>0)):\n",
    "            location_date_1[j]=[[k,dict(c2)]]\n",
    "            \n",
    "        elif ((sum(c2.values())> 0) and (len(c2)>0)):\n",
    "            location_date_1[j].append([k,dict(c2)])\n",
    "\n",
    "                "
   ]
  },
  {
   "cell_type": "markdown",
   "id": "8e88dd91-95f2-49c7-81f8-dee091fa3fbe",
   "metadata": {},
   "source": [
    "#### Step-10: Towards finding users who would have visited the locations within a same week\n",
    "##### - I convert the stored dictionary into Dataframe(df_location) with Columns: Location_id','Date','n_users'\n",
    "##### - I sort the Dataframe using columns: [Date and Location_id] to get dataframe in orders of location_id and in orders of visit for that location.\n",
    "##### - Now, I take difference of consecutive rows for columns ['location_id' and 'date'] and add them as columns to the dataframe.\n",
    "#####  - Copy DataFrame(df_location_1) to df_location_2. "
   ]
  },
  {
   "cell_type": "code",
   "execution_count": 73,
   "id": "2258e076-91f4-4f96-beb6-262f41370547",
   "metadata": {},
   "outputs": [],
   "source": [
    "##Within a week\n",
    "df_location_1=pd.DataFrame([(k,*x) for k,v in location_date_1.items() for x in v ],columns=['Location_id','Date','n_users'])\n",
    "df_location_1=df_location_1.sort_values(['Location_id','Date'],ascending=[True,True])\n",
    "df_location_2=df_location_1[['Location_id','Date']]\n",
    "df_location_1['diff_loc']=df_location_2.diff()['Location_id']\n",
    "df_location_1['diff_Date']=df_location_2.diff()['Date']\n",
    "df_location_2=df_location_1"
   ]
  },
  {
   "cell_type": "markdown",
   "id": "f5ea39fb-7683-4ba3-90aa-27e5e30bf48d",
   "metadata": {},
   "source": [
    "#### Step-11: Towards finding users who would have visited the locations within a same week\n",
    "##### -Using the diff_Date column , a create a new column [Days] as datatype int to make easier instead of using datetime objects\n",
    ">###### - The aim of sorting and taking difference was to get time difference between posts between users time of posting which would facilitate in finding the users according to the given constraint.\n",
    "##### - Note the first row contains NaN values as for pandas.diff() method I need two rows to calculate the required values."
   ]
  },
  {
   "cell_type": "code",
   "execution_count": 74,
   "id": "9244d3c1-6b66-4ab8-b1cf-8be6afa94b86",
   "metadata": {},
   "outputs": [
    {
     "data": {
      "text/html": [
       "<div>\n",
       "<style scoped>\n",
       "    .dataframe tbody tr th:only-of-type {\n",
       "        vertical-align: middle;\n",
       "    }\n",
       "\n",
       "    .dataframe tbody tr th {\n",
       "        vertical-align: top;\n",
       "    }\n",
       "\n",
       "    .dataframe thead th {\n",
       "        text-align: right;\n",
       "    }\n",
       "</style>\n",
       "<table border=\"1\" class=\"dataframe\">\n",
       "  <thead>\n",
       "    <tr style=\"text-align: right;\">\n",
       "      <th></th>\n",
       "      <th>Location_id</th>\n",
       "      <th>Date</th>\n",
       "      <th>n_users</th>\n",
       "      <th>diff_loc</th>\n",
       "      <th>diff_Date</th>\n",
       "      <th>Days</th>\n",
       "    </tr>\n",
       "  </thead>\n",
       "  <tbody>\n",
       "    <tr>\n",
       "      <th>143549</th>\n",
       "      <td>1.000000e+01</td>\n",
       "      <td>2011-02-16</td>\n",
       "      <td>{957640.0: 1}</td>\n",
       "      <td>NaN</td>\n",
       "      <td>NaN</td>\n",
       "      <td>NaN</td>\n",
       "    </tr>\n",
       "    <tr>\n",
       "      <th>143551</th>\n",
       "      <td>1.000000e+01</td>\n",
       "      <td>2016-11-06</td>\n",
       "      <td>{1060749.0: 1}</td>\n",
       "      <td>0.000000e+00</td>\n",
       "      <td>2090 days, 0:00:00</td>\n",
       "      <td>2090.0</td>\n",
       "    </tr>\n",
       "    <tr>\n",
       "      <th>143550</th>\n",
       "      <td>1.000000e+01</td>\n",
       "      <td>2017-09-02</td>\n",
       "      <td>{3591211.0: 1}</td>\n",
       "      <td>0.000000e+00</td>\n",
       "      <td>300 days, 0:00:00</td>\n",
       "      <td>300.0</td>\n",
       "    </tr>\n",
       "    <tr>\n",
       "      <th>328787</th>\n",
       "      <td>4.600000e+01</td>\n",
       "      <td>2014-11-24</td>\n",
       "      <td>{1359813.0: 1}</td>\n",
       "      <td>3.600000e+01</td>\n",
       "      <td>-1013 days, 0:00:00</td>\n",
       "      <td>-1013.0</td>\n",
       "    </tr>\n",
       "    <tr>\n",
       "      <th>328786</th>\n",
       "      <td>4.600000e+01</td>\n",
       "      <td>2017-04-10</td>\n",
       "      <td>{1813011.0: 1}</td>\n",
       "      <td>0.000000e+00</td>\n",
       "      <td>868 days, 0:00:00</td>\n",
       "      <td>868.0</td>\n",
       "    </tr>\n",
       "    <tr>\n",
       "      <th>...</th>\n",
       "      <td>...</td>\n",
       "      <td>...</td>\n",
       "      <td>...</td>\n",
       "      <td>...</td>\n",
       "      <td>...</td>\n",
       "      <td>...</td>\n",
       "    </tr>\n",
       "    <tr>\n",
       "      <th>211870</th>\n",
       "      <td>3.163097e+15</td>\n",
       "      <td>2019-03-29</td>\n",
       "      <td>{2563910.0: 1}</td>\n",
       "      <td>0.000000e+00</td>\n",
       "      <td>4 days, 0:00:00</td>\n",
       "      <td>4.0</td>\n",
       "    </tr>\n",
       "    <tr>\n",
       "      <th>336287</th>\n",
       "      <td>3.373913e+15</td>\n",
       "      <td>2019-02-21</td>\n",
       "      <td>{672004.0: 1}</td>\n",
       "      <td>2.108156e+14</td>\n",
       "      <td>-36 days, 0:00:00</td>\n",
       "      <td>-36.0</td>\n",
       "    </tr>\n",
       "    <tr>\n",
       "      <th>40432</th>\n",
       "      <td>3.846355e+15</td>\n",
       "      <td>2016-10-30</td>\n",
       "      <td>{3384228.0: 1}</td>\n",
       "      <td>4.724419e+14</td>\n",
       "      <td>-844 days, 0:00:00</td>\n",
       "      <td>-844.0</td>\n",
       "    </tr>\n",
       "    <tr>\n",
       "      <th>294510</th>\n",
       "      <td>6.417260e+15</td>\n",
       "      <td>2019-05-05</td>\n",
       "      <td>{4197510.0: 2}</td>\n",
       "      <td>2.570905e+15</td>\n",
       "      <td>917 days, 0:00:00</td>\n",
       "      <td>917.0</td>\n",
       "    </tr>\n",
       "    <tr>\n",
       "      <th>316349</th>\n",
       "      <td>1.015010e+16</td>\n",
       "      <td>2019-04-25</td>\n",
       "      <td>{1896186.0: 1}</td>\n",
       "      <td>3.732837e+15</td>\n",
       "      <td>-10 days, 0:00:00</td>\n",
       "      <td>-10.0</td>\n",
       "    </tr>\n",
       "  </tbody>\n",
       "</table>\n",
       "<p>411380 rows × 6 columns</p>\n",
       "</div>"
      ],
      "text/plain": [
       "         Location_id        Date         n_users      diff_loc  \\\n",
       "143549  1.000000e+01  2011-02-16   {957640.0: 1}           NaN   \n",
       "143551  1.000000e+01  2016-11-06  {1060749.0: 1}  0.000000e+00   \n",
       "143550  1.000000e+01  2017-09-02  {3591211.0: 1}  0.000000e+00   \n",
       "328787  4.600000e+01  2014-11-24  {1359813.0: 1}  3.600000e+01   \n",
       "328786  4.600000e+01  2017-04-10  {1813011.0: 1}  0.000000e+00   \n",
       "...              ...         ...             ...           ...   \n",
       "211870  3.163097e+15  2019-03-29  {2563910.0: 1}  0.000000e+00   \n",
       "336287  3.373913e+15  2019-02-21   {672004.0: 1}  2.108156e+14   \n",
       "40432   3.846355e+15  2016-10-30  {3384228.0: 1}  4.724419e+14   \n",
       "294510  6.417260e+15  2019-05-05  {4197510.0: 2}  2.570905e+15   \n",
       "316349  1.015010e+16  2019-04-25  {1896186.0: 1}  3.732837e+15   \n",
       "\n",
       "                  diff_Date    Days  \n",
       "143549                  NaN     NaN  \n",
       "143551   2090 days, 0:00:00  2090.0  \n",
       "143550    300 days, 0:00:00   300.0  \n",
       "328787  -1013 days, 0:00:00 -1013.0  \n",
       "328786    868 days, 0:00:00   868.0  \n",
       "...                     ...     ...  \n",
       "211870      4 days, 0:00:00     4.0  \n",
       "336287    -36 days, 0:00:00   -36.0  \n",
       "40432    -844 days, 0:00:00  -844.0  \n",
       "294510    917 days, 0:00:00   917.0  \n",
       "316349    -10 days, 0:00:00   -10.0  \n",
       "\n",
       "[411380 rows x 6 columns]"
      ]
     },
     "execution_count": 74,
     "metadata": {},
     "output_type": "execute_result"
    }
   ],
   "source": [
    "def get_date(x):\n",
    "    try:\n",
    "        return x.days\n",
    "    except:\n",
    "        return np.NaN\n",
    "\n",
    "x=df_location_2['diff_Date'].apply(get_date)\n",
    "df_location_2['Days']=x\n",
    "df_location_2"
   ]
  },
  {
   "cell_type": "markdown",
   "id": "6a071041-497c-4694-8fde-cae1b107c33e",
   "metadata": {},
   "source": [
    "#### Step-12: Towards finding users who would have visited the locations within a same week\n",
    "##### In this part from the created df_location_2 I use boolean logic to find users:\n",
    ">###### -Those rows for different location_id which would have day_difference between [0 and 7] \n",
    ">###### -Further to filter out, I use diff_loc value to find users with same location_id and would have posted with a span of week.\n",
    "##### The results are outputed in the Dataframe x"
   ]
  },
  {
   "cell_type": "code",
   "execution_count": 75,
   "id": "e2f30661-61c9-41f2-827e-1a581b3d5955",
   "metadata": {},
   "outputs": [
    {
     "data": {
      "text/html": [
       "<div>\n",
       "<style scoped>\n",
       "    .dataframe tbody tr th:only-of-type {\n",
       "        vertical-align: middle;\n",
       "    }\n",
       "\n",
       "    .dataframe tbody tr th {\n",
       "        vertical-align: top;\n",
       "    }\n",
       "\n",
       "    .dataframe thead th {\n",
       "        text-align: right;\n",
       "    }\n",
       "</style>\n",
       "<table border=\"1\" class=\"dataframe\">\n",
       "  <thead>\n",
       "    <tr style=\"text-align: right;\">\n",
       "      <th></th>\n",
       "      <th>Location_id</th>\n",
       "      <th>Date</th>\n",
       "      <th>n_users</th>\n",
       "      <th>diff_loc</th>\n",
       "      <th>diff_Date</th>\n",
       "      <th>Days</th>\n",
       "    </tr>\n",
       "  </thead>\n",
       "  <tbody>\n",
       "    <tr>\n",
       "      <th>174402</th>\n",
       "      <td>1.410000e+02</td>\n",
       "      <td>2019-05-26</td>\n",
       "      <td>{990964.0: 1}</td>\n",
       "      <td>0.0</td>\n",
       "      <td>4 days, 0:00:00</td>\n",
       "      <td>4.0</td>\n",
       "    </tr>\n",
       "    <tr>\n",
       "      <th>237341</th>\n",
       "      <td>3.890000e+02</td>\n",
       "      <td>2019-02-24</td>\n",
       "      <td>{980862.0: 1}</td>\n",
       "      <td>0.0</td>\n",
       "      <td>7 days, 0:00:00</td>\n",
       "      <td>7.0</td>\n",
       "    </tr>\n",
       "    <tr>\n",
       "      <th>237338</th>\n",
       "      <td>3.890000e+02</td>\n",
       "      <td>2019-02-25</td>\n",
       "      <td>{1328827.0: 1}</td>\n",
       "      <td>0.0</td>\n",
       "      <td>1 day, 0:00:00</td>\n",
       "      <td>1.0</td>\n",
       "    </tr>\n",
       "    <tr>\n",
       "      <th>237337</th>\n",
       "      <td>3.890000e+02</td>\n",
       "      <td>2019-03-04</td>\n",
       "      <td>{430384.0: 1}</td>\n",
       "      <td>0.0</td>\n",
       "      <td>7 days, 0:00:00</td>\n",
       "      <td>7.0</td>\n",
       "    </tr>\n",
       "    <tr>\n",
       "      <th>237339</th>\n",
       "      <td>3.890000e+02</td>\n",
       "      <td>2019-03-08</td>\n",
       "      <td>{4258005.0: 1}</td>\n",
       "      <td>0.0</td>\n",
       "      <td>4 days, 0:00:00</td>\n",
       "      <td>4.0</td>\n",
       "    </tr>\n",
       "    <tr>\n",
       "      <th>...</th>\n",
       "      <td>...</td>\n",
       "      <td>...</td>\n",
       "      <td>...</td>\n",
       "      <td>...</td>\n",
       "      <td>...</td>\n",
       "      <td>...</td>\n",
       "    </tr>\n",
       "    <tr>\n",
       "      <th>281628</th>\n",
       "      <td>2.881182e+15</td>\n",
       "      <td>2019-04-25</td>\n",
       "      <td>{1006094.0: 2}</td>\n",
       "      <td>0.0</td>\n",
       "      <td>2 days, 0:00:00</td>\n",
       "      <td>2.0</td>\n",
       "    </tr>\n",
       "    <tr>\n",
       "      <th>375929</th>\n",
       "      <td>2.937459e+15</td>\n",
       "      <td>2019-04-07</td>\n",
       "      <td>{3456134.0: 1}</td>\n",
       "      <td>0.0</td>\n",
       "      <td>7 days, 0:00:00</td>\n",
       "      <td>7.0</td>\n",
       "    </tr>\n",
       "    <tr>\n",
       "      <th>375928</th>\n",
       "      <td>2.937459e+15</td>\n",
       "      <td>2019-04-14</td>\n",
       "      <td>{3456134.0: 1}</td>\n",
       "      <td>0.0</td>\n",
       "      <td>7 days, 0:00:00</td>\n",
       "      <td>7.0</td>\n",
       "    </tr>\n",
       "    <tr>\n",
       "      <th>212974</th>\n",
       "      <td>3.005502e+15</td>\n",
       "      <td>2019-02-26</td>\n",
       "      <td>{3317714.0: 1}</td>\n",
       "      <td>0.0</td>\n",
       "      <td>1 day, 0:00:00</td>\n",
       "      <td>1.0</td>\n",
       "    </tr>\n",
       "    <tr>\n",
       "      <th>211870</th>\n",
       "      <td>3.163097e+15</td>\n",
       "      <td>2019-03-29</td>\n",
       "      <td>{2563910.0: 1}</td>\n",
       "      <td>0.0</td>\n",
       "      <td>4 days, 0:00:00</td>\n",
       "      <td>4.0</td>\n",
       "    </tr>\n",
       "  </tbody>\n",
       "</table>\n",
       "<p>69333 rows × 6 columns</p>\n",
       "</div>"
      ],
      "text/plain": [
       "         Location_id        Date         n_users  diff_loc        diff_Date  \\\n",
       "174402  1.410000e+02  2019-05-26   {990964.0: 1}       0.0  4 days, 0:00:00   \n",
       "237341  3.890000e+02  2019-02-24   {980862.0: 1}       0.0  7 days, 0:00:00   \n",
       "237338  3.890000e+02  2019-02-25  {1328827.0: 1}       0.0   1 day, 0:00:00   \n",
       "237337  3.890000e+02  2019-03-04   {430384.0: 1}       0.0  7 days, 0:00:00   \n",
       "237339  3.890000e+02  2019-03-08  {4258005.0: 1}       0.0  4 days, 0:00:00   \n",
       "...              ...         ...             ...       ...              ...   \n",
       "281628  2.881182e+15  2019-04-25  {1006094.0: 2}       0.0  2 days, 0:00:00   \n",
       "375929  2.937459e+15  2019-04-07  {3456134.0: 1}       0.0  7 days, 0:00:00   \n",
       "375928  2.937459e+15  2019-04-14  {3456134.0: 1}       0.0  7 days, 0:00:00   \n",
       "212974  3.005502e+15  2019-02-26  {3317714.0: 1}       0.0   1 day, 0:00:00   \n",
       "211870  3.163097e+15  2019-03-29  {2563910.0: 1}       0.0  4 days, 0:00:00   \n",
       "\n",
       "        Days  \n",
       "174402   4.0  \n",
       "237341   7.0  \n",
       "237338   1.0  \n",
       "237337   7.0  \n",
       "237339   4.0  \n",
       "...      ...  \n",
       "281628   2.0  \n",
       "375929   7.0  \n",
       "375928   7.0  \n",
       "212974   1.0  \n",
       "211870   4.0  \n",
       "\n",
       "[69333 rows x 6 columns]"
      ]
     },
     "execution_count": 75,
     "metadata": {},
     "output_type": "execute_result"
    }
   ],
   "source": [
    "x=df_location_2[(df_location_2['Days']>0) & (df_location_2['Days']<=7)] \n",
    "x=x[x['diff_loc']==0]\n",
    "x"
   ]
  },
  {
   "cell_type": "markdown",
   "id": "9dde3376-3c01-4e74-b33b-1070e9f3e9a5",
   "metadata": {},
   "source": [
    "#### Step-13: Towards finding users who would have visited the locations within a same week\n",
    "##### - Now if we have a closely look on the final rows in x. Each value in x['Days'] corresponds to difference in consecutive rows in df_location_2 dataset.\n",
    "##### - Hence, to get rows which statisfy the condition of same location_id and difference between time_stamps of being less <= 7.I use the index of x and get [j-1,j] rows from df_location_2 dataset.\n",
    ">##### - Note of caution would that there might be a case that three consecutive rows follow this constraint and I would have already added the first two rows information in dictionary.\n",
    ">##### - Hence,I check if the j-1 row has already been added or not.\n",
    "\n",
    "##### - Structure of same_week: key: Index of df_location_2, Value:[Location_id, Counter of users on a particular date]\n"
   ]
  },
  {
   "cell_type": "code",
   "execution_count": 76,
   "id": "aa9fbc65-c7d4-4177-b9bf-f4161d8cb1b5",
   "metadata": {},
   "outputs": [
    {
     "name": "stderr",
     "output_type": "stream",
     "text": [
      "69333it [00:28, 2454.25it/s]\n"
     ]
    }
   ],
   "source": [
    "Same_week={}\n",
    "for i,j in tq(enumerate(x.index)):\n",
    "    if i==0:\n",
    "        Same_week={j-1:[df_location_2.loc[j-1]['n_users'],df_location_2.loc[j-1]['Location_id']],j:[df_location_2.loc[j]['n_users'],df_location_2.loc[j]['Location_id']]}\n",
    "    else:\n",
    "        if j-1 in Same_week.keys():\n",
    "            Same_week[j]=[df_location_2.loc[j]['n_users'],df_location_2.loc[j]['Location_id']]\n",
    "        else:\n",
    "            Same_week[j-1]=[df_location_2.loc[j-1]['n_users'],df_location_2.loc[j-1]['Location_id']]\n",
    "            Same_week[j]=[df_location_2.loc[j]['n_users'],df_location_2.loc[j]['Location_id']]"
   ]
  },
  {
   "cell_type": "markdown",
   "id": "db2144da-72b4-4457-96f9-a5d51188b9cb",
   "metadata": {},
   "source": [
    "#### Step-14: Towards finding users who would have visited the locations within a same week\n",
    "##### - I convert the same_week dictionary to df_location_week dataframe"
   ]
  },
  {
   "cell_type": "code",
   "execution_count": 80,
   "id": "01f8aa48-2284-45a5-9586-9c93ea620695",
   "metadata": {
    "tags": []
   },
   "outputs": [
    {
     "data": {
      "text/html": [
       "<div>\n",
       "<style scoped>\n",
       "    .dataframe tbody tr th:only-of-type {\n",
       "        vertical-align: middle;\n",
       "    }\n",
       "\n",
       "    .dataframe tbody tr th {\n",
       "        vertical-align: top;\n",
       "    }\n",
       "\n",
       "    .dataframe thead th {\n",
       "        text-align: right;\n",
       "    }\n",
       "</style>\n",
       "<table border=\"1\" class=\"dataframe\">\n",
       "  <thead>\n",
       "    <tr style=\"text-align: right;\">\n",
       "      <th></th>\n",
       "      <th>Index</th>\n",
       "      <th>n_users</th>\n",
       "      <th>Location_id</th>\n",
       "    </tr>\n",
       "    <tr>\n",
       "      <th>Index</th>\n",
       "      <th></th>\n",
       "      <th></th>\n",
       "      <th></th>\n",
       "    </tr>\n",
       "  </thead>\n",
       "  <tbody>\n",
       "    <tr>\n",
       "      <th>174401</th>\n",
       "      <td>174401</td>\n",
       "      <td>{2426274.0: 1}</td>\n",
       "      <td>1.410000e+02</td>\n",
       "    </tr>\n",
       "    <tr>\n",
       "      <th>174402</th>\n",
       "      <td>174402</td>\n",
       "      <td>{990964.0: 1}</td>\n",
       "      <td>1.410000e+02</td>\n",
       "    </tr>\n",
       "    <tr>\n",
       "      <th>237340</th>\n",
       "      <td>237340</td>\n",
       "      <td>{4726.0: 1}</td>\n",
       "      <td>3.890000e+02</td>\n",
       "    </tr>\n",
       "    <tr>\n",
       "      <th>237341</th>\n",
       "      <td>237341</td>\n",
       "      <td>{980862.0: 1}</td>\n",
       "      <td>3.890000e+02</td>\n",
       "    </tr>\n",
       "    <tr>\n",
       "      <th>237337</th>\n",
       "      <td>237337</td>\n",
       "      <td>{430384.0: 1}</td>\n",
       "      <td>3.890000e+02</td>\n",
       "    </tr>\n",
       "    <tr>\n",
       "      <th>...</th>\n",
       "      <td>...</td>\n",
       "      <td>...</td>\n",
       "      <td>...</td>\n",
       "    </tr>\n",
       "    <tr>\n",
       "      <th>375927</th>\n",
       "      <td>375927</td>\n",
       "      <td>{563442.0: 1}</td>\n",
       "      <td>2.937459e+15</td>\n",
       "    </tr>\n",
       "    <tr>\n",
       "      <th>212973</th>\n",
       "      <td>212973</td>\n",
       "      <td>{118153.0: 1}</td>\n",
       "      <td>2.378219e+08</td>\n",
       "    </tr>\n",
       "    <tr>\n",
       "      <th>212974</th>\n",
       "      <td>212974</td>\n",
       "      <td>{3317714.0: 1}</td>\n",
       "      <td>3.005502e+15</td>\n",
       "    </tr>\n",
       "    <tr>\n",
       "      <th>211869</th>\n",
       "      <td>211869</td>\n",
       "      <td>{2563910.0: 1}</td>\n",
       "      <td>3.610010e+05</td>\n",
       "    </tr>\n",
       "    <tr>\n",
       "      <th>211870</th>\n",
       "      <td>211870</td>\n",
       "      <td>{2563910.0: 1}</td>\n",
       "      <td>3.163097e+15</td>\n",
       "    </tr>\n",
       "  </tbody>\n",
       "</table>\n",
       "<p>106419 rows × 3 columns</p>\n",
       "</div>"
      ],
      "text/plain": [
       "         Index         n_users   Location_id\n",
       "Index                                       \n",
       "174401  174401  {2426274.0: 1}  1.410000e+02\n",
       "174402  174402   {990964.0: 1}  1.410000e+02\n",
       "237340  237340     {4726.0: 1}  3.890000e+02\n",
       "237341  237341   {980862.0: 1}  3.890000e+02\n",
       "237337  237337   {430384.0: 1}  3.890000e+02\n",
       "...        ...             ...           ...\n",
       "375927  375927   {563442.0: 1}  2.937459e+15\n",
       "212973  212973   {118153.0: 1}  2.378219e+08\n",
       "212974  212974  {3317714.0: 1}  3.005502e+15\n",
       "211869  211869  {2563910.0: 1}  3.610010e+05\n",
       "211870  211870  {2563910.0: 1}  3.163097e+15\n",
       "\n",
       "[106419 rows x 3 columns]"
      ]
     },
     "execution_count": 80,
     "metadata": {},
     "output_type": "execute_result"
    }
   ],
   "source": [
    "\n",
    "df_location_week=pd.DataFrame([(k,v[0],v[1]) for k,v in Same_week.items()],columns=['Index','n_users','Location_id',])\n",
    "df_location_week=df_location_week.set_index(df_location_week.iloc[:,0])\n",
    "df_location_week\n",
    "\n",
    "                      "
   ]
  },
  {
   "cell_type": "markdown",
   "id": "06bd6fba-71a1-4053-af9d-cfc78f60f402",
   "metadata": {},
   "source": [
    "#### Step-14: Towards finding users who would have visited the locations within a same week\n",
    "##### - I group the rows with same location-id and aggregate all the 'n_user' into a list. \n",
    ">###### -Each row represents all the users who would have visited that location with a same week"
   ]
  },
  {
   "cell_type": "code",
   "execution_count": 81,
   "id": "ad1d6905-4902-4eaf-b0cd-d9686681535d",
   "metadata": {
    "tags": []
   },
   "outputs": [
    {
     "data": {
      "text/html": [
       "<div>\n",
       "<style scoped>\n",
       "    .dataframe tbody tr th:only-of-type {\n",
       "        vertical-align: middle;\n",
       "    }\n",
       "\n",
       "    .dataframe tbody tr th {\n",
       "        vertical-align: top;\n",
       "    }\n",
       "\n",
       "    .dataframe thead th {\n",
       "        text-align: right;\n",
       "    }\n",
       "</style>\n",
       "<table border=\"1\" class=\"dataframe\">\n",
       "  <thead>\n",
       "    <tr style=\"text-align: right;\">\n",
       "      <th></th>\n",
       "      <th>Location_id</th>\n",
       "      <th>All the users who went within a week to that location</th>\n",
       "    </tr>\n",
       "  </thead>\n",
       "  <tbody>\n",
       "    <tr>\n",
       "      <th>0</th>\n",
       "      <td>1.410000e+02</td>\n",
       "      <td>[{2426274.0: 1}, {990964.0: 1}]</td>\n",
       "    </tr>\n",
       "    <tr>\n",
       "      <th>1</th>\n",
       "      <td>3.480000e+02</td>\n",
       "      <td>[{4110732.0: 1}]</td>\n",
       "    </tr>\n",
       "    <tr>\n",
       "      <th>2</th>\n",
       "      <td>3.890000e+02</td>\n",
       "      <td>[{4726.0: 1}, {980862.0: 1}, {430384.0: 1}, {1...</td>\n",
       "    </tr>\n",
       "    <tr>\n",
       "      <th>3</th>\n",
       "      <td>6.450000e+02</td>\n",
       "      <td>[{1805926.0: 1}, {1805926.0: 1}]</td>\n",
       "    </tr>\n",
       "    <tr>\n",
       "      <th>4</th>\n",
       "      <td>6.730000e+02</td>\n",
       "      <td>[{1173802.0: 2}, {1173802.0: 1}, {720909.0: 1}...</td>\n",
       "    </tr>\n",
       "    <tr>\n",
       "      <th>...</th>\n",
       "      <td>...</td>\n",
       "      <td>...</td>\n",
       "    </tr>\n",
       "    <tr>\n",
       "      <th>38192</th>\n",
       "      <td>3.005502e+15</td>\n",
       "      <td>[{3317714.0: 1}, {3317714.0: 1}]</td>\n",
       "    </tr>\n",
       "    <tr>\n",
       "      <th>38193</th>\n",
       "      <td>3.048956e+15</td>\n",
       "      <td>[{1655843.0: 1}]</td>\n",
       "    </tr>\n",
       "    <tr>\n",
       "      <th>38194</th>\n",
       "      <td>3.061592e+15</td>\n",
       "      <td>[{81044.0: 1}]</td>\n",
       "    </tr>\n",
       "    <tr>\n",
       "      <th>38195</th>\n",
       "      <td>3.163097e+15</td>\n",
       "      <td>[{2563910.0: 1}]</td>\n",
       "    </tr>\n",
       "    <tr>\n",
       "      <th>38196</th>\n",
       "      <td>1.015010e+16</td>\n",
       "      <td>[{1896186.0: 1}]</td>\n",
       "    </tr>\n",
       "  </tbody>\n",
       "</table>\n",
       "<p>38197 rows × 2 columns</p>\n",
       "</div>"
      ],
      "text/plain": [
       "        Location_id All the users who went within a week to that location\n",
       "0      1.410000e+02                    [{2426274.0: 1}, {990964.0: 1}]   \n",
       "1      3.480000e+02                                   [{4110732.0: 1}]   \n",
       "2      3.890000e+02  [{4726.0: 1}, {980862.0: 1}, {430384.0: 1}, {1...   \n",
       "3      6.450000e+02                   [{1805926.0: 1}, {1805926.0: 1}]   \n",
       "4      6.730000e+02  [{1173802.0: 2}, {1173802.0: 1}, {720909.0: 1}...   \n",
       "...             ...                                                ...   \n",
       "38192  3.005502e+15                   [{3317714.0: 1}, {3317714.0: 1}]   \n",
       "38193  3.048956e+15                                   [{1655843.0: 1}]   \n",
       "38194  3.061592e+15                                     [{81044.0: 1}]   \n",
       "38195  3.163097e+15                                   [{2563910.0: 1}]   \n",
       "38196  1.015010e+16                                   [{1896186.0: 1}]   \n",
       "\n",
       "[38197 rows x 2 columns]"
      ]
     },
     "execution_count": 81,
     "metadata": {},
     "output_type": "execute_result"
    }
   ],
   "source": [
    "df_location_week=df_location_week.groupby('Location_id')['n_users'].apply(list).reset_index(name='All the users who went within a week to that location')\n",
    "df_location_week"
   ]
  },
  {
   "cell_type": "markdown",
   "id": "5ee6bfa9-cafc-4b6f-88e3-3796fa3071f9",
   "metadata": {},
   "source": [
    "#### Step-14: Towards finding users who would have visited the locations within a same week\n",
    "##### - I add a new column[Count] in df_location_week to calculate the users more explicity.\n"
   ]
  },
  {
   "cell_type": "code",
   "execution_count": 82,
   "id": "f6e7c387-5d12-42a7-b793-e416fea0bebf",
   "metadata": {},
   "outputs": [
    {
     "name": "stderr",
     "output_type": "stream",
     "text": [
      "38197it [00:00, 319519.25it/s]\n"
     ]
    },
    {
     "data": {
      "text/html": [
       "<div>\n",
       "<style scoped>\n",
       "    .dataframe tbody tr th:only-of-type {\n",
       "        vertical-align: middle;\n",
       "    }\n",
       "\n",
       "    .dataframe tbody tr th {\n",
       "        vertical-align: top;\n",
       "    }\n",
       "\n",
       "    .dataframe thead th {\n",
       "        text-align: right;\n",
       "    }\n",
       "</style>\n",
       "<table border=\"1\" class=\"dataframe\">\n",
       "  <thead>\n",
       "    <tr style=\"text-align: right;\">\n",
       "      <th></th>\n",
       "      <th>Location_id</th>\n",
       "      <th>All the users who went within a week to that location</th>\n",
       "      <th>Count</th>\n",
       "    </tr>\n",
       "  </thead>\n",
       "  <tbody>\n",
       "    <tr>\n",
       "      <th>0</th>\n",
       "      <td>1.410000e+02</td>\n",
       "      <td>[{2426274.0: 1}, {990964.0: 1}]</td>\n",
       "      <td>2</td>\n",
       "    </tr>\n",
       "    <tr>\n",
       "      <th>1</th>\n",
       "      <td>3.480000e+02</td>\n",
       "      <td>[{4110732.0: 1}]</td>\n",
       "      <td>1</td>\n",
       "    </tr>\n",
       "    <tr>\n",
       "      <th>2</th>\n",
       "      <td>3.890000e+02</td>\n",
       "      <td>[{4726.0: 1}, {980862.0: 1}, {430384.0: 1}, {1...</td>\n",
       "      <td>6</td>\n",
       "    </tr>\n",
       "    <tr>\n",
       "      <th>3</th>\n",
       "      <td>6.450000e+02</td>\n",
       "      <td>[{1805926.0: 1}, {1805926.0: 1}]</td>\n",
       "      <td>2</td>\n",
       "    </tr>\n",
       "    <tr>\n",
       "      <th>4</th>\n",
       "      <td>6.730000e+02</td>\n",
       "      <td>[{1173802.0: 2}, {1173802.0: 1}, {720909.0: 1}...</td>\n",
       "      <td>7</td>\n",
       "    </tr>\n",
       "    <tr>\n",
       "      <th>...</th>\n",
       "      <td>...</td>\n",
       "      <td>...</td>\n",
       "      <td>...</td>\n",
       "    </tr>\n",
       "    <tr>\n",
       "      <th>38192</th>\n",
       "      <td>3.005502e+15</td>\n",
       "      <td>[{3317714.0: 1}, {3317714.0: 1}]</td>\n",
       "      <td>2</td>\n",
       "    </tr>\n",
       "    <tr>\n",
       "      <th>38193</th>\n",
       "      <td>3.048956e+15</td>\n",
       "      <td>[{1655843.0: 1}]</td>\n",
       "      <td>1</td>\n",
       "    </tr>\n",
       "    <tr>\n",
       "      <th>38194</th>\n",
       "      <td>3.061592e+15</td>\n",
       "      <td>[{81044.0: 1}]</td>\n",
       "      <td>1</td>\n",
       "    </tr>\n",
       "    <tr>\n",
       "      <th>38195</th>\n",
       "      <td>3.163097e+15</td>\n",
       "      <td>[{2563910.0: 1}]</td>\n",
       "      <td>1</td>\n",
       "    </tr>\n",
       "    <tr>\n",
       "      <th>38196</th>\n",
       "      <td>1.015010e+16</td>\n",
       "      <td>[{1896186.0: 1}]</td>\n",
       "      <td>1</td>\n",
       "    </tr>\n",
       "  </tbody>\n",
       "</table>\n",
       "<p>38197 rows × 3 columns</p>\n",
       "</div>"
      ],
      "text/plain": [
       "        Location_id All the users who went within a week to that location  \\\n",
       "0      1.410000e+02                    [{2426274.0: 1}, {990964.0: 1}]      \n",
       "1      3.480000e+02                                   [{4110732.0: 1}]      \n",
       "2      3.890000e+02  [{4726.0: 1}, {980862.0: 1}, {430384.0: 1}, {1...      \n",
       "3      6.450000e+02                   [{1805926.0: 1}, {1805926.0: 1}]      \n",
       "4      6.730000e+02  [{1173802.0: 2}, {1173802.0: 1}, {720909.0: 1}...      \n",
       "...             ...                                                ...      \n",
       "38192  3.005502e+15                   [{3317714.0: 1}, {3317714.0: 1}]      \n",
       "38193  3.048956e+15                                   [{1655843.0: 1}]      \n",
       "38194  3.061592e+15                                     [{81044.0: 1}]      \n",
       "38195  3.163097e+15                                   [{2563910.0: 1}]      \n",
       "38196  1.015010e+16                                   [{1896186.0: 1}]      \n",
       "\n",
       "       Count  \n",
       "0          2  \n",
       "1          1  \n",
       "2          6  \n",
       "3          2  \n",
       "4          7  \n",
       "...      ...  \n",
       "38192      2  \n",
       "38193      1  \n",
       "38194      1  \n",
       "38195      1  \n",
       "38196      1  \n",
       "\n",
       "[38197 rows x 3 columns]"
      ]
     },
     "execution_count": 82,
     "metadata": {},
     "output_type": "execute_result"
    }
   ],
   "source": [
    "count=[]\n",
    "for i,j in tq(enumerate(df_location_week['All the users who went within a week to that location'])):\n",
    "        x=0\n",
    "        for v in j:\n",
    "            x += len(v)\n",
    "        count.append(x)\n",
    "df_location_week['Count']=count\n",
    "\n",
    "df_location_week"
   ]
  },
  {
   "cell_type": "code",
   "execution_count": 83,
   "id": "1612b8ed-ee5f-4f50-b755-a4100f95c6bb",
   "metadata": {},
   "outputs": [
    {
     "name": "stdout",
     "output_type": "stream",
     "text": [
      "The Number of users that have visited a location on the same day is 124132\n"
     ]
    }
   ],
   "source": [
    "print('The Number of users that have visited a location on the same day is {}'.format(df_location_week['Count'].sum()))"
   ]
  },
  {
   "cell_type": "markdown",
   "id": "eaf0e736-5fb4-4ff8-87b5-83d3b1d84e5b",
   "metadata": {},
   "source": [
    "#### Step-15: Scatter plot of users that have visited a location within a same week"
   ]
  },
  {
   "cell_type": "code",
   "execution_count": 84,
   "id": "e9ed3a67-1ac6-4222-8358-a6d090c243e7",
   "metadata": {},
   "outputs": [
    {
     "data": {
      "text/plain": [
       "Text(0, 0.5, 'No. of users went within a span of week')"
      ]
     },
     "execution_count": 84,
     "metadata": {},
     "output_type": "execute_result"
    },
    {
     "data": {
      "image/png": "[encoded data removed]",
      "text/plain": [
       "<Figure size 432x288 with 1 Axes>"
      ]
     },
     "metadata": {
      "needs_background": "light"
     },
     "output_type": "display_data"
    }
   ],
   "source": [
    "\n",
    "colors=np.random.rand(len(df_location_week['Location_id'].values))\n",
    "plt.scatter(y=df_location_week['Count'].values,x=df_location_week.index,alpha=0.5,c=colors)\n",
    "plt.xlabel('Index of the Different Locations from the created DataFrame')\n",
    "plt.ylabel('No. of users went within a span of week')"
   ]
  },
  {
   "cell_type": "markdown",
   "id": "fba26cd2-4546-49ff-802f-b4b0a1434993",
   "metadata": {},
   "source": [
    "#### Comments:\n",
    "1. We can see that the influence of users posting about a particular location results in greater influence on the users(resulting them in going to the location) with number of days.\n",
    "2. For the first case, I found that 32388 users have visited the locations on same day. In a way,I kind of draw onservation that users who might have seen other users post might have been influenced and went to check out that location\n",
    "3. For the second case, I found that 124132 users have visited the location in same week. This number is more than the 1st Case which reflects that increase in influence of the posts over other users towards that location with span of time.\n",
    "4. The total number of users considered in the analysis are 456918. \n"
   ]
  }
 ],
 "metadata": {
  "kernelspec": {
   "display_name": "conda_python3",
   "language": "python",
   "name": "conda_python3"
  },
  "language_info": {
   "codemirror_mode": {
    "name": "ipython",
    "version": 3
   },
   "file_extension": ".py",
   "mimetype": "text/x-python",
   "name": "python",
   "nbconvert_exporter": "python",
   "pygments_lexer": "ipython3",
   "version": "3.8.12"
  }
 },
 "nbformat": 4,
 "nbformat_minor": 5
}
