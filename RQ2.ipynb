{
 "cells": [
  {
   "cell_type": "code",
   "execution_count": 3,
   "id": "b719d495-ad04-43b5-8f0e-8ce5dea5d75a",
   "metadata": {},
   "outputs": [],
   "source": [
    "# Import Requirements\n",
    "import pandas as pd\n",
    "from tqdm import tqdm as tq"
   ]
  },
  {
   "cell_type": "markdown",
   "id": "f66b55bb-b108-4242-b778-8faf0dd52171",
   "metadata": {},
   "source": [
    "Pre-Processing Function"
   ]
  },
  {
   "cell_type": "code",
   "execution_count": 5,
   "id": "cfa361bb-c209-4999-bd24-aff67f08663a",
   "metadata": {},
   "outputs": [],
   "source": [
    "def pre_processing_profiles(df):\n",
    "    list_null=[]\n",
    "    for i in df.columns:\n",
    "        if df[i].isna().sum()>0:\n",
    "            list_null.append(i)\n",
    "    for j in list_null:\n",
    "        if j=='firstname_lastname':\n",
    "            df[j].fillna('',inplace=True)  ##Replace NAN username with empty string\n",
    "        elif j=='description':\n",
    "            df[j].fillna('',inplace=True)  ##Replcae NAN profile description as empty string\n",
    "        elif j=='following':\n",
    "            df[j].fillna(0,inplace=True)  ##Replcae NAN following(number of other instagram profiles being followed by the user) as 0\n",
    "        elif j=='followers':\n",
    "            df[j].fillna(0,inplace=True)  ##Replcae NAN followers(number of other instagram profile following the user) as 0\n",
    "        elif j=='n_posts':\n",
    "            df[j].fillna(0,inplace=True)  ##Replcae NAN number of posts by the user as 0\n",
    "        elif j=='url':\n",
    "            df[j].fillna('',inplace=True)  ##Replcae NAN profile link as empty string\n",
    "        elif j=='cts':\n",
    "            df[j]=pd.to_datetime(df[j],utc=True)\n",
    "        elif j=='is_business_account':\n",
    "            df[j].fillna(False,inplace=True) ## Assuming the NAN field in 'is_buisness_account' column corresponds to False(it is not a buisness account)\n",
    "    \n",
    "    return df"
   ]
  },
  {
   "cell_type": "code",
   "execution_count": 3,
   "id": "0310aead-e202-4273-a0cf-13e1b0e7d278",
   "metadata": {},
   "outputs": [],
   "source": [
    "def pre_processing_posts(df):\n",
    "    list_null=[]\n",
    "    for i in df.columns:\n",
    "        if df[i].isna().sum()>0:\n",
    "            list_null.append(i)\n",
    "    for j in list_null:\n",
    "        if j=='profile_id':\n",
    "            df[j].fillna(0,inplace=True)  ##Replace Null Profile ID with empty string\n",
    "        elif j=='description':\n",
    "            df[j].fillna('',inplace=True) ## Replace NAN values with empty string\n",
    "    \n",
    "    return df"
   ]
  },
  {
   "cell_type": "markdown",
   "id": "2a650c0e-0535-4c54-8cc6-4a3aa06d2813",
   "metadata": {},
   "source": [
    "RQ-2.1 Plot the number of posts for each profile in descending order."
   ]
  },
  {
   "cell_type": "code",
   "execution_count": null,
   "id": "ee3a9d33-e491-432c-bdf0-03d9fbe6b91d",
   "metadata": {},
   "outputs": [
    {
     "name": "stderr",
     "output_type": "stream",
     "text": [
      "9981it [02:34, 33.92it/s] "
     ]
    }
   ],
   "source": [
    "\n",
    "\n",
    "for j,i in tq(enumerate(pd.read_csv('/home/ec2-user/SageMaker/Data/instagram_profiles.csv',sep='\\t',usecols=['profile_id','n_posts'],chunksize=10000))):\n",
    "    if j==0:\n",
    "        i=pre_processing_profiles(i)\n",
    "        df_nposts=i\n",
    "    else:\n",
    "        i=pre_processing(i)\n",
    "        df_nposts=pd.concat([df_nposts,i],axis=0)\n",
    "\n",
    "df_nposts.sort_values(by='n_posts',ascending=False)\n",
    "df_nposts['n_posts'].plot(x=df_nposts['profile_id'],y=df_nposts['n_posts'],xlabel='PROFILE ID',ylabel='Number of Posts')"
   ]
  },
  {
   "cell_type": "markdown",
   "id": "639d397c-c42c-486a-8aae-5e16eb569ad0",
   "metadata": {},
   "source": [
    "RQ 2.2 What posts have the highest number of \"likes\"?"
   ]
  },
  {
   "cell_type": "code",
   "execution_count": 39,
   "id": "75ef3d2a-e0ee-42a8-bc40-df44e6e048e4",
   "metadata": {},
   "outputs": [
    {
     "name": "stderr",
     "output_type": "stream",
     "text": [
      "106776it [09:56, 179.12it/s]"
     ]
    },
    {
     "name": "stdout",
     "output_type": "stream",
     "text": [
      "The post with post-id Bt3yaXmAM0d has 8822952.0 number of likes which is the maximum among the dataset\n"
     ]
    },
    {
     "name": "stderr",
     "output_type": "stream",
     "text": [
      "\n"
     ]
    }
   ],
   "source": [
    "\n",
    "for i,chunk in tq(enumerate(pd.read_csv('/home/ec2-user/SageMaker/Data/instagram_posts.csv',usecols=['post_id','numbr_likes'],sep='\\t',chunksize=40000))):\n",
    "    if i==0:\n",
    "        df_likes=chunk.sort_values(by='numbr_likes',ascending=False).head(1)\n",
    "    else:\n",
    "        i=chunk.sort_values(by='numbr_likes',ascending=False).head(1)\n",
    "        df_likes=pd.concat([df_likes,i],axis=0)\n",
    "\n",
    "df_likes=df_likes.sort_values(by='numbr_likes',ascending=False)\n",
    "print('The post with post-id {0} has {1} number of likes which is the maximum among the dataset'.format(str(df_likes['post_id'].head(1).values[0]),str(df_likes['numbr_likes'].head(1).values[0])))    \n",
    "\n",
    "    "
   ]
  },
  {
   "cell_type": "markdown",
   "id": "ee772524-5a07-4a05-a4d1-b582b3616146",
   "metadata": {},
   "source": [
    "RQ2.3 What posts have the most and the least number of comments?"
   ]
  },
  {
   "cell_type": "code",
   "execution_count": 47,
   "id": "c2de5fbb-bb8c-44c7-8032-f3f12aee0483",
   "metadata": {},
   "outputs": [
    {
     "name": "stderr",
     "output_type": "stream",
     "text": [
      "4272it [03:33, 19.97it/s]\n"
     ]
    }
   ],
   "source": [
    "for i,chunk in tq(enumerate(pd.read_csv('/home/ec2-user/SageMaker/Data/instagram_posts.csv',usecols=['post_id','number_comments'],sep='\\t',chunksize=10000))):\n",
    "    chunk=pre_processing_posts(chunk)      ###Remove NAN\n",
    "    if i==0:\n",
    "        df_max_comments=chunk.sort_values(by='number_comments',ascending=False).head(1) ##Sort chunk in Descending order and get the biggest value from chunk\n",
    "        df_min_comments=chunk.sort_values(by='number_comments',ascending=False).tail(1)  ##Sort chunk in Descending order and get the lowest value from chunk\n",
    "        \n",
    "    else:\n",
    "        i_max=chunk.sort_values(by='number_comments',ascending=False).head(1)\n",
    "        i_min=chunk.sort_values(by='number_comments',ascending=False).tail(1)\n",
    "        df_max_comments=pd.concat([df_max_comments,i_max],axis=0)     ##Concatenate data chunks of biggest values.I try to retain datafram structure to leverage dataframe functionalites for analysis.\n",
    "        df_min_comments=pd.concat([df_min_comments,i_min],axis=0)\n",
    "df_max_comments=df_max_comments.sort_values(by='number_comments',ascending=False)\n",
    "print('The post with post-id {0} has {1} number of comments which is maximum among the dataset'.format(str(df_max_comments['post_id'].head(1).values[0]),str(df_max_comments['number_comments'].head(1).values[0])))    \n",
    "df_min_comments=df_min_comments.sort_values(by='number_comments',ascending=True)\n",
    "print('The post with post-id {0} has {1} number of comments which is minimum among the dataset'.format(str(df_min_comments['post_id'].head(1).values[0]),str(df_min_comments['number_comments'].head(1).values[0])))    \n",
    "\n",
    " "
   ]
  },
  {
   "cell_type": "markdown",
   "id": "0458f236-ce4f-4fc3-bc4e-2e9b5516a6f7",
   "metadata": {},
   "source": [
    "RQ 2.4 How many posts include tagged locations, and how many do not? Show it using an appropriate chart and comment your results"
   ]
  },
  {
   "cell_type": "code",
   "execution_count": 6,
   "id": "40cebed8-50e8-4b92-a24d-9bb1f5ed0f6c",
   "metadata": {},
   "outputs": [
    {
     "name": "stderr",
     "output_type": "stream",
     "text": [
      "451it [02:33,  2.94it/s]\n"
     ]
    }
   ],
   "source": []
  },
  {
   "cell_type": "code",
   "execution_count": null,
   "id": "354f89eb-274c-4791-b15e-c7fbd6adce08",
   "metadata": {},
   "outputs": [],
   "source": [
    "RQ 2.5 How many posts include only photos? How many also have videos?"
   ]
  },
  {
   "cell_type": "code",
   "execution_count": 63,
   "id": "172f2217-43d2-4742-bdbb-afd465b3280e",
   "metadata": {},
   "outputs": [
    {
     "name": "stderr",
     "output_type": "stream",
     "text": [
      "4272it [02:53, 24.67it/s]"
     ]
    },
    {
     "name": "stdout",
     "output_type": "stream",
     "text": [
      "The total number of posts with only photos is 41534486\n",
      "The total number of posts with only videos is 1134768\n"
     ]
    },
    {
     "name": "stderr",
     "output_type": "stream",
     "text": [
      "\n"
     ]
    }
   ],
   "source": [
    "for i,chunk in tq(enumerate(pd.read_csv('/home/ec2-user/SageMaker/Data/instagram_posts.csv',usecols=['post_type'],sep='\\t',chunksize=10000))):\n",
    "    chunk=pre_processing_posts(chunk)  \n",
    "    if i==0:  \n",
    "        count_photos=len(chunk[chunk['post_type']==1]) ##Filter by post_type column values to identify rows with only photos\n",
    "        count_videos=len(chunk[chunk['post_type']==2])\n",
    "    else:\n",
    "        count_photos=count_photos+len(chunk[chunk['post_type']==1])\n",
    "        count_videos=count_videos+len(chunk[chunk['post_type']==2])\n",
    "\n",
    "\n",
    "print('The total number of posts with only photos is {}'.format(count_photos))\n",
    "      \n",
    "print('The total number of posts with only videos is {}'.format(count_videos))"
   ]
  },
  {
   "cell_type": "markdown",
   "id": "9702e8b5-fcbd-4af1-85df-3615a12e9a01",
   "metadata": {},
   "source": [
    "RQ2.6 What's the percentage of business accounts vs non-business? What can you interpret regarding that percentage?"
   ]
  },
  {
   "cell_type": "code",
   "execution_count": 22,
   "id": "e8331eb4-e489-49fc-a2af-96b654be2b28",
   "metadata": {},
   "outputs": [
    {
     "name": "stderr",
     "output_type": "stream",
     "text": [
      "451it [00:10, 43.34it/s]\n"
     ]
    }
   ],
   "source": [
    "for j,chunk in tq(enumerate(pd.read_csv('/home/ec2-user/SageMaker/Data/instagram_profiles.csv',sep='\\t',usecols=['n_posts','followers','following','is_business_account'],chunksize=10000))):\n",
    "    chunk=pre_processing_profiles(chunk)\n",
    "    if j==0:\n",
    "        count_true=len(chunk[chunk['is_business_account']==True].index)\n",
    "        true_followers=chunk[chunk['is_business_account']==True]['followers'].sum()\n",
    "        true_following=chunk[chunk['is_business_account']==True]['following'].sum()\n",
    "        true_nposts=chunk[chunk['is_business_account']==True]['n_posts'].sum()\n",
    "\n",
    "        \n",
    "        count_false=len(chunk.index)-count_true\n",
    "        false_followers=chunk[chunk['is_business_account']==False]['followers'].sum()\n",
    "        false_following=chunk[chunk['is_business_account']==False]['following'].sum()\n",
    "        false_nposts=chunk[chunk['is_business_account']==False]['n_posts'].sum()\n",
    "\n",
    "    else:\n",
    "        count_true+=len(chunk[chunk['is_business_account']==True].index)\n",
    "        true_followers+=chunk[chunk['is_business_account']==True]['followers'].sum()\n",
    "        true_following+=chunk[chunk['is_business_account']==True]['following'].sum()\n",
    "        true_nposts+=chunk[chunk['is_business_account']==True]['n_posts'].sum()\n",
    "        \n",
    "        count_false+=len(chunk[chunk['is_business_account']==False].index)\n",
    "        false_followers+=chunk[chunk['is_business_account']==False]['followers'].sum()\n",
    "        false_following+=chunk[chunk['is_business_account']==False]['following'].sum()\n",
    "        false_nposts+=chunk[chunk['is_business_account']==False]['n_posts'].sum()\n",
    "\n"
   ]
  },
  {
   "cell_type": "code",
   "execution_count": 55,
   "id": "ebbdafaa-f52a-43b4-8e24-d5f744352bb2",
   "metadata": {},
   "outputs": [
    {
     "data": {
      "image/png": "[encoded data removed]",
      "text/plain": [
       "<Figure size 432x288 with 2 Axes>"
      ]
     },
     "metadata": {
      "needs_background": "light"
     },
     "output_type": "display_data"
    }
   ],
   "source": [
    "import matplotlib.pyplot as plt\n",
    "plt.subplot(2,1,1)\n",
    "mylabels=['Business ='+str(round(count_true/(count_true+count_false),2))+'%','Non_Business ='+str(round(count_false/(count_true+count_false),2))+'%']\n",
    "plt.pie([round(count_true/(count_true+count_false),2),round(count_false/(count_true+count_false),2)],labels=mylabels,explode=[0.4,0])\n",
    "plt.legend(bbox_to_anchor=(-0.5,0,0.5,1))\n",
    "\n",
    "plt.subplot(2,1,2)\n",
    "plt.bar([str('business_followers'),str('business_following'),str('business_nposts'),str('non_business_followers'),str('non_business_following'),str('non_business_nposts')],\n",
    "        [true_followers/count_true,true_following/count_true,true_nposts/count_true,false_followers/count_false,false_following/count_false,false_nposts/count_false])\n",
    "plt.xticks(rotation=45)\n",
    "plt.show()\n",
    "\n"
   ]
  },
  {
   "cell_type": "markdown",
   "id": "c7506183-c11f-4827-9aa7-ecb4e64a7d3c",
   "metadata": {},
   "source": [
    "On average though business account profiles account for 19% of the dataset they have a big reach in terms of people following their accounts when compared to non_business account which are 81% of the dataset.Consequently, the posts made by business account are noticed/affects much higher percentage of the users as compared to non_business account."
   ]
  },
  {
   "cell_type": "code",
   "execution_count": 6,
   "id": "feb0180b-f41f-45dd-81ef-c3b7f3e9b792",
   "metadata": {},
   "outputs": [
    {
     "ename": "TypeError",
     "evalue": "DatetimeIndex(...) must be called with a collection of some kind, nan was passed",
     "output_type": "error",
     "traceback": [
      "\u001b[0;31m---------------------------------------------------------------------------\u001b[0m",
      "\u001b[0;31mTypeError\u001b[0m                                 Traceback (most recent call last)",
      "\u001b[0;32m/tmp/ipykernel_17270/2114428725.py\u001b[0m in \u001b[0;36m<cell line: 2>\u001b[0;34m()\u001b[0m\n\u001b[1;32m      1\u001b[0m \u001b[0;32mimport\u001b[0m \u001b[0mnumpy\u001b[0m \u001b[0;32mas\u001b[0m \u001b[0mnp\u001b[0m\u001b[0;34m\u001b[0m\u001b[0;34m\u001b[0m\u001b[0m\n\u001b[0;32m----> 2\u001b[0;31m \u001b[0mpd\u001b[0m\u001b[0;34m.\u001b[0m\u001b[0mDatetimeIndex\u001b[0m\u001b[0;34m(\u001b[0m\u001b[0mnp\u001b[0m\u001b[0;34m.\u001b[0m\u001b[0mNaN\u001b[0m\u001b[0;34m)\u001b[0m\u001b[0;34m\u001b[0m\u001b[0;34m\u001b[0m\u001b[0m\n\u001b[0m",
      "\u001b[0;32m~/anaconda3/envs/python3/lib/python3.8/site-packages/pandas/core/indexes/datetimes.py\u001b[0m in \u001b[0;36m__new__\u001b[0;34m(cls, data, freq, tz, normalize, closed, ambiguous, dayfirst, yearfirst, dtype, copy, name)\u001b[0m\n\u001b[1;32m    325\u001b[0m \u001b[0;34m\u001b[0m\u001b[0m\n\u001b[1;32m    326\u001b[0m         \u001b[0;32mif\u001b[0m \u001b[0mis_scalar\u001b[0m\u001b[0;34m(\u001b[0m\u001b[0mdata\u001b[0m\u001b[0;34m)\u001b[0m\u001b[0;34m:\u001b[0m\u001b[0;34m\u001b[0m\u001b[0;34m\u001b[0m\u001b[0m\n\u001b[0;32m--> 327\u001b[0;31m             \u001b[0;32mraise\u001b[0m \u001b[0mcls\u001b[0m\u001b[0;34m.\u001b[0m\u001b[0m_scalar_data_error\u001b[0m\u001b[0;34m(\u001b[0m\u001b[0mdata\u001b[0m\u001b[0;34m)\u001b[0m\u001b[0;34m\u001b[0m\u001b[0;34m\u001b[0m\u001b[0m\n\u001b[0m\u001b[1;32m    328\u001b[0m \u001b[0;34m\u001b[0m\u001b[0m\n\u001b[1;32m    329\u001b[0m         \u001b[0;31m# - Cases checked above all return/raise before reaching here - #\u001b[0m\u001b[0;34m\u001b[0m\u001b[0;34m\u001b[0m\u001b[0;34m\u001b[0m\u001b[0m\n",
      "\u001b[0;31mTypeError\u001b[0m: DatetimeIndex(...) must be called with a collection of some kind, nan was passed"
     ]
    }
   ],
   "source": [
    "import numpy as np\n",
    "pd.DatetimeIndex(np.NaN)"
   ]
  }
 ],
 "metadata": {
  "kernelspec": {
   "display_name": "conda_python3",
   "language": "python",
   "name": "conda_python3"
  },
  "language_info": {
   "codemirror_mode": {
    "name": "ipython",
    "version": 3
   },
   "file_extension": ".py",
   "mimetype": "text/x-python",
   "name": "python",
   "nbconvert_exporter": "python",
   "pygments_lexer": "ipython3",
   "version": "3.8.12"
  }
 },
 "nbformat": 4,
 "nbformat_minor": 5
}
