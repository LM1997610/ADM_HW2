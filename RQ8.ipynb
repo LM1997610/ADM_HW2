{
 "cells": [
  {
   "cell_type": "markdown",
   "id": "72c45ae4-08a2-4ec1-befa-9239dad7afa8",
   "metadata": {},
   "source": [
    "### Work division\n",
    "#### The work for this notebook is done and compiled by Nemish Murawat."
   ]
  },
  {
   "cell_type": "markdown",
   "id": "9cec7779-3fd9-492d-9587-f2af8682d10a",
   "metadata": {},
   "source": [
    "### Libraries Required"
   ]
  },
  {
   "cell_type": "code",
   "execution_count": 1,
   "id": "a97c7a44-26bc-4c74-a43a-b1d2dc797b91",
   "metadata": {},
   "outputs": [],
   "source": [
    "# Import Requirements\n",
    "import pandas as pd\n",
    "from tqdm import tqdm as tq\n",
    "import numpy as np\n",
    "import matplotlib.pyplot as plt\n",
    "from pre_processing_posts import pre_processing_posts as pre_posts\n",
    "import datetime\n",
    "import scipy.stats as stats\n",
    "import random"
   ]
  },
  {
   "cell_type": "markdown",
   "id": "8ad2ccec-ba90-4573-ac8f-bdda69cb3942",
   "metadata": {},
   "source": [
    "#### [RQ8.1] Every decision you take in a data-based environment should be reinforced with charts, statistical tests and analysis methods to check whether a hypothesis is correct or not.Does more “likes” also mean more comments? Plot a scatter plot of “likes” vs comments for posts.\n",
    "\n",
    "##### Approach: Step-1\n",
    ">#####    - To estimate the relationship between number of comments and number of likes for all the posts I use posts dataset.\n",
    ">#####    - I read the posts data in chunks of size=1000000 and get the columns 'numbr_likes','number_comments'\n",
    ">#####    - I drop the NaN values in the rows for the different chunks\n",
    ">#####    - I concatenate the modified chunks and store them in numpy array(likes_comment)\n",
    "\n"
   ]
  },
  {
   "cell_type": "code",
   "execution_count": 2,
   "id": "7fd5487d-b198-40ae-af0d-fc89b7986fae",
   "metadata": {},
   "outputs": [
    {
     "name": "stderr",
     "output_type": "stream",
     "text": [
      "43it [03:52,  5.41s/it]\n"
     ]
    }
   ],
   "source": [
    "for i,chunk in tq(enumerate(pd.read_csv('/home/ec2-user/SageMaker/Data/instagram_posts.csv',sep='\\t',usecols=['numbr_likes','number_comments'],\n",
    "                                       chunksize=1000000,keep_default_na=True,na_values=' ',engine='c'))):\n",
    "    chunk=chunk.dropna()\n",
    "    likes_comment=np.concatenate([likes_comment,chunk.values],axis=0) if i!=0 else chunk.values\n",
    "   "
   ]
  },
  {
   "cell_type": "markdown",
   "id": "94c0e7e7-c33b-44c4-92a8-abcf0540ec02",
   "metadata": {},
   "source": [
    "##### Approach: Step-2\n",
    ">#####    - I plot a scatter plot between likes v/s comments for all the posts to see the nature of the relationship between Likes and comments\n",
    ">#####    - I also calculate the spearman's correlation between two variables (likes and comments)"
   ]
  },
  {
   "cell_type": "code",
   "execution_count": 4,
   "id": "c427e481-f153-41a2-ba83-f47fbfe5a57e",
   "metadata": {},
   "outputs": [
    {
     "name": "stdout",
     "output_type": "stream",
     "text": [
      "SpearmanrResult(correlation=0.6652385972821576, pvalue=0.0)\n"
     ]
    }
   ],
   "source": [
    "coef_likes_comment=stats.spearmanr(likes_comment[:,0],likes_comment[:,1])\n",
    "print(coef_likes_comment)"
   ]
  },
  {
   "cell_type": "code",
   "execution_count": 3,
   "id": "880d8405-10d6-4f4a-8351-c12c89b998f0",
   "metadata": {},
   "outputs": [
    {
     "data": {
      "image/png": "[encoded data removed]",
      "text/plain": [
       "<Figure size 432x288 with 1 Axes>"
      ]
     },
     "metadata": {
      "needs_background": "light"
     },
     "output_type": "display_data"
    }
   ],
   "source": [
    "colors=np.random.rand(len(likes_comment))\n",
    "plt.scatter(likes_comment[:,0],likes_comment[:,1],s=[4]*len(likes_comment),alpha=0.5,c=colors)\n",
    "plt.xlabel('Number of Likes')\n",
    "plt.ylabel('Number of Comments')\n",
    "plt.title('Scatter Plot Comment v/s Likes')\n",
    "plt.show()\n"
   ]
  },
  {
   "cell_type": "markdown",
   "id": "444912ba-c18f-4e9a-95fd-ed38c8345f10",
   "metadata": {},
   "source": [
    "### Comments:\n",
    "\n",
    ">#### Through Spearman's calculation it's quite evident that they are correlated(p=0,null hypothesis get's rejected) with correlation =0.66\n",
    "\n",
    ">#### So yeah more likes means more comments."
   ]
  },
  {
   "cell_type": "markdown",
   "id": "f821b258-472b-415b-a891-6243d834b08c",
   "metadata": {},
   "source": [
    "\n",
    "\n",
    "#### RQ8.2 Can you find any significant relationship between the time a user publishes a post and the number of comments and “likes”? Use an appropriate statistical test or technique and support your choice.\n",
    "\n",
    "##### Approach: Step-1\n",
    ">#####    - To estimate the relationship between time of posting and number of likes(or comments) for all the posts I use posts dataset.\n",
    ">#####    - I read the posts data in chunks of size=1000000 and get the columns 'cts','numbr_likes','number_comments'\n",
    ">#####    - I drop the NaN values in the rows for the different chunks\n",
    ">#####    - I concatenate the modified chunks and store them in numpy array(x)\n",
    "\n",
    "\n"
   ]
  },
  {
   "cell_type": "code",
   "execution_count": 3,
   "id": "ef138131-8b78-4e09-b69c-5a2964ec2c5c",
   "metadata": {
    "tags": []
   },
   "outputs": [
    {
     "name": "stderr",
     "output_type": "stream",
     "text": [
      "43it [07:20, 10.25s/it]\n"
     ]
    }
   ],
   "source": [
    "\n",
    "for i,chunk in tq(enumerate(pd.read_csv('/home/ec2-user/SageMaker/Data/instagram_posts.csv',sep='\\t',usecols=['cts','numbr_likes','number_comments'],\n",
    "                                       chunksize=1000000,keep_default_na=True,na_values=' ',engine='c'))):\n",
    "    chunk=pre_posts(chunk)\n",
    "    chunk=chunk.dropna()\n",
    "    x=np.concatenate([x,chunk.values],axis=0) if i!=0 else chunk.values\n"
   ]
  },
  {
   "cell_type": "markdown",
   "id": "22f01a84-c820-4735-ba22-d0ce1eb9ba60",
   "metadata": {},
   "source": [
    "##### Approach: Step-2\n",
    ">#####    - In this I store the respective values in of time,likes and comment in the different variable."
   ]
  },
  {
   "cell_type": "code",
   "execution_count": 8,
   "id": "6906bfad-b4d7-4c33-9553-0d735ee65554",
   "metadata": {},
   "outputs": [],
   "source": [
    "\n",
    "time=x[:,0].copy()\n",
    "likes=x[:,1].copy()\n",
    "comment=x[:,2].copy()"
   ]
  },
  {
   "cell_type": "markdown",
   "id": "c8a03ebe-d0ea-45d4-b6a0-35c862eefc95",
   "metadata": {},
   "source": [
    "##### Approach: Step-3\n",
    ">#####    - In this step since I want to find statistical relation between time v/s likes(or comments) I read the datetime objects of the time stamp and get the hour of the post.\n",
    ">#####    -  I define a function time_hour which converts all the stored datetime objects to hours(int64)"
   ]
  },
  {
   "cell_type": "code",
   "execution_count": 5,
   "id": "d8040469-ce43-4933-a9a8-fb64eaf39945",
   "metadata": {
    "tags": []
   },
   "outputs": [],
   "source": [
    "\n",
    "def time_hour(time):\n",
    "    y=[]\n",
    "    for i in tq(time):\n",
    "        try:\n",
    "            y.append(i.hour)\n",
    "        except:\n",
    "            i=pd.DatetimeIndex([i])\n",
    "            y.append(i.hour[0])\n",
    "    return y"
   ]
  },
  {
   "cell_type": "markdown",
   "id": "7708ec00-d03d-452e-9142-d3e1152e0e97",
   "metadata": {},
   "source": [
    "##### Approach: Step-4\n",
    ">#####    - In this step since I want to find statistical relation between time v/s likes(or comments) I read the datetime objects of the time stamp and get the minutes with respect to 24 hours(24 * 60 minutes) in a day\n",
    ">#####    -  I define a function time_minute which converts all the stored datetime objects to minutes(int64).\n",
    ">#####    - So the objective is to compare the realation between time v/s likes(or comments) on two scale"
   ]
  },
  {
   "cell_type": "code",
   "execution_count": 6,
   "id": "b8232553-7054-4a3e-83dd-20fb34c64f3e",
   "metadata": {},
   "outputs": [],
   "source": [
    "def time_minute(time):\n",
    "    y=[]\n",
    "    for i in tq(time):\n",
    "        try:\n",
    "            y.append(i.hour*60+i.minute)\n",
    "        except:\n",
    "            i=pd.DatetimeIndex([i])\n",
    "            y.append(i.hour[0]*60+i.minute[0])\n",
    "    return y"
   ]
  },
  {
   "cell_type": "markdown",
   "id": "cfdfb66a-505d-4abc-be01-55c3082b4683",
   "metadata": {},
   "source": [
    "##### Approach: Step-5\n",
    ">#####    -Since now all the two variable are numerical,I use Spearman correlation to get correlation and p-value for time in hour v/s Likes"
   ]
  },
  {
   "cell_type": "code",
   "execution_count": 11,
   "id": "486da396-72f8-4546-ab6b-c83600c9b4dd",
   "metadata": {},
   "outputs": [
    {
     "name": "stderr",
     "output_type": "stream",
     "text": [
      "100%|██████████| 42706865/42706865 [01:54<00:00, 374115.83it/s] \n"
     ]
    },
    {
     "name": "stdout",
     "output_type": "stream",
     "text": [
      "SpearmanrResult(correlation=0.015954613088348283, pvalue=0.0)\n"
     ]
    }
   ],
   "source": [
    "y_hour=time_hour(time)\n",
    "coef=stats.spearmanr(y_hour,likes)\n",
    "print(coef)"
   ]
  },
  {
   "cell_type": "markdown",
   "id": "20f78952-3827-4cc4-8809-d3288ee756f5",
   "metadata": {},
   "source": [
    "#### Comments:\n",
    ">#### We can get p-value=0.This means that the null hopythesis is incorrect and the two variable are correlated to each other.\n",
    ">#### The correlation is 0.015 which is small. "
   ]
  },
  {
   "cell_type": "markdown",
   "id": "8c9808b9-7811-46f5-a929-d5e36c41c0cb",
   "metadata": {},
   "source": [
    "##### Approach: Step-6\n",
    ">#####    -Since now all the two variable are numerical,I can use Spearman correlation to get correlation and p-value for time in hour v/s Comments"
   ]
  },
  {
   "cell_type": "code",
   "execution_count": 12,
   "id": "ef992071-1482-4c11-b0d2-9117c7c643b1",
   "metadata": {},
   "outputs": [
    {
     "name": "stderr",
     "output_type": "stream",
     "text": [
      "100%|██████████| 42706865/42706865 [01:51<00:00, 382227.02it/s] \n"
     ]
    },
    {
     "name": "stdout",
     "output_type": "stream",
     "text": [
      "SpearmanrResult(correlation=0.008855948260031634, pvalue=0.0)\n"
     ]
    }
   ],
   "source": [
    "y_hour=time_hour(time)\n",
    "coef=stats.spearmanr(y_hour,comment)\n",
    "print(coef)"
   ]
  },
  {
   "cell_type": "markdown",
   "id": "32f6d504-0547-4bea-971f-f2493caf6676",
   "metadata": {},
   "source": [
    "#### Comments:\n",
    ">#### We can get p-value=0.This means that the null hopythesis is incorrect and the two variable are correlated to each other.\n",
    ">#### The correlation is 0.008 which is small. "
   ]
  },
  {
   "cell_type": "markdown",
   "id": "28366512-e7de-43a1-b128-26917a98f530",
   "metadata": {},
   "source": [
    "##### Approach: Step-7\n",
    ">#####    -Since now all the two variable are numerical,I can use Spearman correlation to get correlation and p-value for time in minute v/s Likes"
   ]
  },
  {
   "cell_type": "code",
   "execution_count": 9,
   "id": "a242a0b4-8daa-41fb-85b3-80dad3e291bc",
   "metadata": {},
   "outputs": [
    {
     "name": "stderr",
     "output_type": "stream",
     "text": [
      "100%|██████████| 42706865/42706865 [02:44<00:00, 259099.86it/s] \n"
     ]
    },
    {
     "name": "stdout",
     "output_type": "stream",
     "text": [
      "SpearmanrResult(correlation=0.01563381106999236, pvalue=0.0)\n"
     ]
    }
   ],
   "source": [
    "y_minute=time_minute(time)\n",
    "coef_likes_minute=stats.spearmanr(y_minute,likes)\n",
    "print(coef_likes_minute)"
   ]
  },
  {
   "cell_type": "markdown",
   "id": "a87f7bc9-adcc-422c-8b1b-782fbbd6000c",
   "metadata": {},
   "source": [
    "#### Comments:\n",
    ">#### We can get p-value=0.This means that the null hopythesis is incorrect and the two variable are correlated to each other.\n",
    ">#### The correlation is 0.015 which is small(which is kind of same with time in hours)"
   ]
  },
  {
   "cell_type": "markdown",
   "id": "543bd88d-ab68-44a8-97c4-5ab02d048882",
   "metadata": {},
   "source": [
    "##### Approach: Step-8\n",
    ">#####    -Since now all the two variable are numerical,I can use Spearman correlation to get correlation and p-value for time in minute v/s Number of Comments"
   ]
  },
  {
   "cell_type": "code",
   "execution_count": 10,
   "id": "238f9bab-cb85-4790-a757-211f9126dbbe",
   "metadata": {},
   "outputs": [
    {
     "name": "stderr",
     "output_type": "stream",
     "text": [
      "100%|██████████| 42706865/42706865 [02:44<00:00, 259887.04it/s] \n"
     ]
    },
    {
     "name": "stdout",
     "output_type": "stream",
     "text": [
      "SpearmanrResult(correlation=0.008660595562157732, pvalue=0.0)\n"
     ]
    }
   ],
   "source": [
    "y_minute=time_minute(time)\n",
    "coef_comment_minute=stats.spearmanr(y_minute,comment)\n",
    "print(coef_comment_minute)"
   ]
  },
  {
   "cell_type": "markdown",
   "id": "fd6b76aa-67e9-4a19-8164-1ac60e627268",
   "metadata": {},
   "source": [
    "#### Comments:\n",
    ">#### We can get p-value=0.This means that the null hopythesis is incorrect and the two variable are correlated to each other.\n",
    ">#### The correlation is 0.008 which is small(kind of same as time in hours)"
   ]
  },
  {
   "cell_type": "markdown",
   "id": "bcbdfe23-82b1-4a62-94c7-e041a049cc64",
   "metadata": {},
   "source": [
    "##### Approach: Step-9\n",
    ">#####    -As we see before, we find that the time v/s likes(or comments) are correlated(but with small value of correlation). I aim to find more stronger correlation.\n",
    ">#####    -Hence instead of directly finding correlation for all the posts likes/ comments I refine my likes variable by calculating count of likes in a given intervals of the hours in day.\n",
    ">#####    - My time intervals are each hours of the day(12am-1am,1am-2am......) and I normalised the count of the interval using the total count of likes.\n",
    ">#####    - I plot a line plot Time v/s Normalised Likes to get a better representation of the relationship."
   ]
  },
  {
   "cell_type": "code",
   "execution_count": 12,
   "id": "75b62612-1afb-4ea5-9758-0232e2b3bb99",
   "metadata": {},
   "outputs": [
    {
     "name": "stderr",
     "output_type": "stream",
     "text": [
      "100%|██████████| 42706865/42706865 [01:50<00:00, 385258.33it/s] \n",
      "24it [01:09,  2.90s/it]\n"
     ]
    },
    {
     "name": "stdout",
     "output_type": "stream",
     "text": [
      "SpearmanrResult(correlation=0.7817391304347826, pvalue=6.454527225791052e-06)\n"
     ]
    },
    {
     "data": {
      "image/png": "[encoded data removed]",
      "text/plain": [
       "<Figure size 432x288 with 1 Axes>"
      ]
     },
     "metadata": {
      "needs_background": "light"
     },
     "output_type": "display_data"
    }
   ],
   "source": [
    "hist_hour=np.arange(0,24)\n",
    "y_hour=time_hour(time)\n",
    "for i,j in tq(enumerate(hist_hour)):\n",
    "    hist_hour[i]=sum(likes[np.array(y_hour)==i])\n",
    "coef=stats.spearmanr(np.arange(1,25),hist_hour/sum(hist_hour))\n",
    "plt.plot(np.arange(1,25),hist_hour/sum(hist_hour))\n",
    "plt.xlabel('Time in hours')\n",
    "plt.ylabel('Normalised sum of Likes during the hour')\n",
    "plt.title('Time v/s Likes')\n",
    "print(coef)"
   ]
  },
  {
   "cell_type": "markdown",
   "id": "f00ab003-e59f-4e53-a491-66b088d455b8",
   "metadata": {},
   "source": [
    "#### Comments:\n",
    ">#### We can get p-value=6.45e-6.This means that the null hopythesis is incorrect and the two variable are correlated to each other.\n",
    ">#### In this way we get a very high correlation of 0.78 as compared to previous counterparts.(Stronger relationship)"
   ]
  },
  {
   "cell_type": "markdown",
   "id": "f20cca26-e74c-44bf-a49e-c320234ca9b3",
   "metadata": {},
   "source": [
    "##### Approach: Step-10\n",
    ">#####    -As we see before, we find that the time v/s comments are correlated(but with small value of correlation). I aim to find more stronger correlation.\n",
    ">#####    -Hence instead of directly finding correlation for all the posts comments I refine my comments variable by calculating count of comments in a given intervals of the hours in day.\n",
    ">#####    - My time intervals are each hour of the day(12am-1am,1am-2am......) and I normalised the count of the interval using the total count of comments"
   ]
  },
  {
   "cell_type": "code",
   "execution_count": 13,
   "id": "f26c0338-2dd2-4b25-acd0-17035f6360c3",
   "metadata": {},
   "outputs": [
    {
     "name": "stderr",
     "output_type": "stream",
     "text": [
      "24it [01:09,  2.88s/it]"
     ]
    },
    {
     "name": "stdout",
     "output_type": "stream",
     "text": [
      "SpearmanrResult(correlation=0.7852173913043478, pvalue=5.504827399386528e-06)\n"
     ]
    },
    {
     "name": "stderr",
     "output_type": "stream",
     "text": [
      "\n"
     ]
    },
    {
     "data": {
      "image/png": "[encoded data removed]",
      "text/plain": [
       "<Figure size 432x288 with 1 Axes>"
      ]
     },
     "metadata": {
      "needs_background": "light"
     },
     "output_type": "display_data"
    }
   ],
   "source": [
    "hist_hour=np.arange(0,24)\n",
    "for i,j in tq(enumerate(hist_hour)):\n",
    "    hist_hour[i]=sum(comment[np.array(y_hour)==i])\n",
    "coef=stats.spearmanr(np.arange(1,25),hist_hour/sum(hist_hour))\n",
    "plt.plot(np.arange(1,25),hist_hour/sum(hist_hour))\n",
    "plt.xlabel('Time in hours')\n",
    "plt.ylabel('Normalised sum of Comments during the hour')\n",
    "plt.title('Time v/s Comments')\n",
    "print(coef)"
   ]
  },
  {
   "cell_type": "markdown",
   "id": "a959c186-ab58-4474-9d6f-5a9c5e1059f2",
   "metadata": {},
   "source": [
    "#### Comments:\n",
    ">#### We can get p-value=6.45e-6.This means that the null hopythesis is incorrect and the two variable are correlated to each other.\n",
    ">#### In this way we get a very high correlation of 0.78 as compared to previous counterparts.(Stronger relationship) which is close to the relationship v/s "
   ]
  },
  {
   "cell_type": "markdown",
   "id": "d3667451-16be-4744-981a-7bdc6290b506",
   "metadata": {},
   "source": [
    "\n",
    "#### RQ-8.3 What’s the distribution of followers? Plot the empirical distribution of followers amongst all users and extract the mean, mode, and quantiles. Interpret those figures.\n",
    "\n",
    "##### Approach: Step-1\n",
    ">#####    - To get the values for Number of followers of all the user I use profiles dataset to get the required values.  \n",
    ">#####    - I read the profiles data in chunks of size=1000000 and get the columns 'followers'\n",
    ">#####    - I drop the NaN values in the rows for the different chunks\n",
    ">#####    - I concatenate the modified chunks and store them in df_followers dataframe.\n",
    "\n",
    "\n",
    ">#####    -Note:Maybe it's not the best read the data in chunks here.\n",
    "\n"
   ]
  },
  {
   "cell_type": "code",
   "execution_count": 4,
   "id": "d4e6978b-72a4-4305-a156-dca74803fdd8",
   "metadata": {},
   "outputs": [
    {
     "name": "stderr",
     "output_type": "stream",
     "text": [
      "5it [02:49, 33.99s/it]\n"
     ]
    }
   ],
   "source": [
    "for i,chunk in tq(enumerate(pd.read_csv('/home/ec2-user/SageMaker/Data/instagram_profiles.csv',sep='\\t',usecols=['followers'],\n",
    "                                       chunksize=1000000,keep_default_na=True,na_values=' ',engine='c'))):\n",
    "    chunk=chunk.dropna()\n",
    "    df_followers=pd.concat([df_followers,chunk],axis=0) if i!=0 else chunk"
   ]
  },
  {
   "cell_type": "markdown",
   "id": "7266849f-98bf-4ab6-b326-2356abc3062d",
   "metadata": {},
   "source": [
    "##### Approach: Step-2\n",
    ">#####    - From the obtained df_followers, I sort the dataframe in ascending order using followers column\n",
    ">#####    - Now I only take those users which have more than one 0 followers\n",
    ">#####    - To calculate the mean,25% quantile,50% quantile,75% quantile,of the followers I used dataframe.describe() method\n",
    ">#####    - To calculate the mode of the followers I used dataframe.mode() method\n",
    ">#####    - I plot a histogram of number of followers with num_nbins=100\n",
    "\n"
   ]
  },
  {
   "cell_type": "code",
   "execution_count": 7,
   "id": "3efb507f-3402-4088-82d4-8b8bc16cc694",
   "metadata": {},
   "outputs": [
    {
     "name": "stdout",
     "output_type": "stream",
     "text": [
      "The Mean of the distribution is 4770.453940295966\n",
      "The Mode of the distribution is 1\n",
      "The 25% quantile of the distribution is 163.0\n",
      "The 50% quantile of the distribution is 410.0\n",
      "The 75% quantile of the distribution is 980.0\n"
     ]
    },
    {
     "data": {
      "image/png": "[encoded data removed]",
      "text/plain": [
       "<Figure size 432x288 with 1 Axes>"
      ]
     },
     "metadata": {
      "needs_background": "light"
     },
     "output_type": "display_data"
    }
   ],
   "source": [
    "df_followers.sort_values(by='followers',ascending=True)\n",
    "df_followers=df_followers[df_followers['followers']>0]\n",
    "plt.hist(df_followers['followers'].values,bins=100,log=True)\n",
    "plt.xlabel('Number of Followers')\n",
    "plt.ylabel('Log-Scale of the counts of number of Followers')\n",
    "plt.title('Histogram Plot for Emprical Distribution of the Followers')\n",
    "print('The Mean of the distribution is {}'.format(df_followers.describe().iloc[1].values[0]))\n",
    "print('The Mode of the distribution is {}'.format(df_followers['followers'].mode().values[0]))\n",
    "print('The 25% quantile of the distribution is {}'.format(df_followers.describe().iloc[4].values[0]))\n",
    "print('The 50% quantile of the distribution is {}'.format(df_followers.describe().iloc[5].values[0]))\n",
    "print('The 75% quantile of the distribution is {}'.format(df_followers.describe().iloc[6].values[0]))\n",
    "      "
   ]
  },
  {
   "cell_type": "markdown",
   "id": "2012a00c-0682-4572-8091-7d96f54a6b20",
   "metadata": {},
   "source": [
    "#### Comments:\n",
    "##### It can be seen from the above figure that there are some users which have very high followers and to have a better understading of the distribution I take a decision to remove values which are greater than 10^7."
   ]
  },
  {
   "cell_type": "markdown",
   "id": "d66eca55-85ae-43e4-9472-4d902a700b2c",
   "metadata": {},
   "source": [
    "##### Approach: Step-3\n",
    ">#####    - I remove the folowers with number of followers greater than 10^7\n",
    ">#####    - Now I only take those users which have more than one 0 followers and less than 10^7 followers\n",
    ">#####    - To calculate the mean,25% quantile,50% quantile,75% quantile,of the followers I used dataframe.describe() method\n",
    ">#####    - To calculate the mode of the followers I used dataframe.mode() method\n",
    ">#####    - I plot a histogram of number of followers with num_nbins=100"
   ]
  },
  {
   "cell_type": "code",
   "execution_count": 20,
   "id": "a16ea623-85c8-4cd9-9579-b3c7a091ee3f",
   "metadata": {},
   "outputs": [
    {
     "name": "stdout",
     "output_type": "stream",
     "text": [
      "The Mean of the distribution is 4268.679459285507\n",
      "The Mode of the distribution is 1\n",
      "The 25% quantile of the distribution is 163.0\n",
      "The 50% quantile of the distribution is 410.0\n",
      "The 75% quantile of the distribution is 980.0\n"
     ]
    },
    {
     "data": {
      "image/png": "[encoded data removed]",
      "text/plain": [
       "<Figure size 432x288 with 1 Axes>"
      ]
     },
     "metadata": {
      "needs_background": "light"
     },
     "output_type": "display_data"
    }
   ],
   "source": [
    "df_followers.sort_values(by='followers',ascending=True)\n",
    "\n",
    "df_followers1=df_followers[df_followers['followers']>0]\n",
    "\n",
    "df_followers1=df_followers1[df_followers1['followers']<10000000]\n",
    "plt.hist(df_followers1['followers'].values,bins=100,log=True)\n",
    "plt.xlabel('Number of Followers after removing outliers')\n",
    "plt.ylabel('Log-Scale of the counts of number of Followers')\n",
    "plt.title('Histogram Plot for Emprical Distribution of the Followers')\n",
    "print('The Mean of the distribution is {}'.format(df_followers1.describe().iloc[1].values[0]))\n",
    "print('The Mode of the distribution is {}'.format(df_followers1['followers'].mode().values[0]))\n",
    "print('The 25% quantile of the distribution is {}'.format(df_followers1.describe().iloc[4].values[0]))\n",
    "print('The 50% quantile of the distribution is {}'.format(df_followers1.describe().iloc[5].values[0]))\n",
    "print('The 75% quantile of the distribution is {}'.format(df_followers1.describe().iloc[6].values[0]))\n",
    " "
   ]
  },
  {
   "cell_type": "markdown",
   "id": "df37fb10-1e81-4f54-8d64-4b7b0aa8d287",
   "metadata": {},
   "source": [
    "##### Approach: Step-4\n",
    ">#####    - In this I take a Logarithm of the Number of followers and use only those profiles which have number of followers greater than 1 to avoid negative logarithm values.\n",
    ">#####    - I plot a Normalised histogram \n",
    ">#####    - I see that the Logarithm of the Number of followers follows a gaussian distribution."
   ]
  },
  {
   "cell_type": "code",
   "execution_count": 62,
   "id": "c3757ace-c800-44e2-a622-300f3e32dcfc",
   "metadata": {},
   "outputs": [
    {
     "data": {
      "image/png": "[encoded data removed]",
      "text/plain": [
       "<Figure size 432x288 with 1 Axes>"
      ]
     },
     "metadata": {
      "needs_background": "light"
     },
     "output_type": "display_data"
    }
   ],
   "source": [
    "X=df_followers1[df_followers1['followers']>1]\n",
    "plt.hist(np.log10(X),bins=100,density=True,alpha=0.5)\n",
    "plt.xlabel('Log base 10 of Number of Followers after removing outliers')\n",
    "plt.ylabel('Normalised counts of number of Followers')\n",
    "plt.show()"
   ]
  },
  {
   "cell_type": "markdown",
   "id": "5a11784e-bcad-4a3d-92cb-f1b6a1673382",
   "metadata": {},
   "source": [
    "##### Approach: Step-5\n",
    ">#####    - I try to estimate the parameters of the gaussian distribution by computing the mean and variance of Log10( Number of followers)\n",
    ">#####    - I estimate Probabiltiy distribution function using the obtained mean and variance parameters and generate pdf_y\n",
    ">#####    - I plot a normalised histogram and the estimated gaussian distribution. It seems somewhat good fit."
   ]
  },
  {
   "cell_type": "code",
   "execution_count": 61,
   "id": "a1fb5aa6-3bac-4cf9-a0ad-3d7a03490e78",
   "metadata": {},
   "outputs": [
    {
     "data": {
      "image/png": "[encoded data removed]",
      "text/plain": [
       "<Figure size 432x288 with 1 Axes>"
      ]
     },
     "metadata": {
      "needs_background": "light"
     },
     "output_type": "display_data"
    }
   ],
   "source": [
    "data=np.log10(X)\n",
    "avg = np.mean(data)\n",
    "var = np.var(data)\n",
    "\n",
    "pdf_x = np.linspace(np.min(data),np.max(data),100)\n",
    "pdf_y = 1.0/np.sqrt(2*np.pi*var)*np.exp(-0.5*(pdf_x-avg)**2/var)\n",
    "\n",
    "\n",
    "# Then we plot :\n",
    "plt.figure()\n",
    "\n",
    "plt.hist(data,100,alpha = 0.5,density=True)\n",
    "plt.plot(pdf_x,pdf_y,'k--')\n",
    "plt.xlabel('Log base 10 of Number of Followers after removing outliers')\n",
    "plt.ylabel('Normalised counts of number of Followers')\n",
    "plt.legend((\"Fit\",\"Data\"))\n",
    "plt.show()"
   ]
  }
 ],
 "metadata": {
  "kernelspec": {
   "display_name": "conda_python3",
   "language": "python",
   "name": "conda_python3"
  },
  "language_info": {
   "codemirror_mode": {
    "name": "ipython",
    "version": 3
   },
   "file_extension": ".py",
   "mimetype": "text/x-python",
   "name": "python",
   "nbconvert_exporter": "python",
   "pygments_lexer": "ipython3",
   "version": "3.8.12"
  }
 },
 "nbformat": 4,
 "nbformat_minor": 5
}
