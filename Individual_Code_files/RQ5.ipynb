{
 "cells": [
  {
   "cell_type": "markdown",
   "id": "4619cb57-f7a3-4da5-a74b-337e21568934",
   "metadata": {},
   "source": [
    "# [RQ5] The most influential users are the ones with the highest number of “followers\", you can now look more into their activity."
   ]
  },
  {
   "cell_type": "markdown",
   "id": "fc433694-29c9-44ea-89cc-3c6cad5f8714",
   "metadata": {},
   "source": [
    "First of all, we import packages: "
   ]
  },
  {
   "cell_type": "code",
   "execution_count": 15,
   "id": "acea72d9-1ac6-426c-ba0e-17abb8c84870",
   "metadata": {},
   "outputs": [],
   "source": [
    "import pandas as pd\n",
    "import numpy as np\n",
    "import matplotlib.pyplot as plt\n",
    "from tqdm import tqdm as tq\n",
    "import collections\n",
    "from statistics import mean"
   ]
  },
  {
   "cell_type": "markdown",
   "id": "300bae05-7bf6-4961-941b-62069eb7fced",
   "metadata": {},
   "source": [
    "## -Plot the top 10 most popular users in terms of followers and their number of posts."
   ]
  },
  {
   "cell_type": "markdown",
   "id": "c026d4b7-d1b8-4fcc-86e6-9dd3f1d58d50",
   "metadata": {},
   "source": [
    "We import the data about profiles as a DataFrame using Pandas: "
   ]
  },
  {
   "cell_type": "code",
   "execution_count": 16,
   "id": "4ff67098-77d0-4f8a-b303-46f2ec364cde",
   "metadata": {},
   "outputs": [],
   "source": [
    "data_profiles = pd.read_csv('/home/ec2-user/SageMaker/instagram_profiles.zip', usecols = ['profile_id', 'firstname_lastname', 'followers', 'n_posts'], delimiter='\\t')"
   ]
  },
  {
   "cell_type": "markdown",
   "id": "ba0e4e8a-1602-414b-baae-adc8c66099b1",
   "metadata": {},
   "source": [
    "To see if it worked correctly we print the first 5 indexis: "
   ]
  },
  {
   "cell_type": "code",
   "execution_count": 17,
   "id": "c2501571-279c-4bf7-9357-3320a559bc33",
   "metadata": {},
   "outputs": [
    {
     "data": {
      "text/html": [
       "<div>\n",
       "<style scoped>\n",
       "    .dataframe tbody tr th:only-of-type {\n",
       "        vertical-align: middle;\n",
       "    }\n",
       "\n",
       "    .dataframe tbody tr th {\n",
       "        vertical-align: top;\n",
       "    }\n",
       "\n",
       "    .dataframe thead th {\n",
       "        text-align: right;\n",
       "    }\n",
       "</style>\n",
       "<table border=\"1\" class=\"dataframe\">\n",
       "  <thead>\n",
       "    <tr style=\"text-align: right;\">\n",
       "      <th></th>\n",
       "      <th>profile_id</th>\n",
       "      <th>firstname_lastname</th>\n",
       "      <th>followers</th>\n",
       "      <th>n_posts</th>\n",
       "    </tr>\n",
       "  </thead>\n",
       "  <tbody>\n",
       "    <tr>\n",
       "      <th>0</th>\n",
       "      <td>4.721050e+09</td>\n",
       "      <td>John Pierce</td>\n",
       "      <td>146.0</td>\n",
       "      <td>170.0</td>\n",
       "    </tr>\n",
       "    <tr>\n",
       "      <th>1</th>\n",
       "      <td>5.905830e+08</td>\n",
       "      <td>Deanna</td>\n",
       "      <td>1145.0</td>\n",
       "      <td>2878.0</td>\n",
       "    </tr>\n",
       "    <tr>\n",
       "      <th>2</th>\n",
       "      <td>1.074147e+09</td>\n",
       "      <td>Eliza Gray</td>\n",
       "      <td>324.0</td>\n",
       "      <td>431.0</td>\n",
       "    </tr>\n",
       "    <tr>\n",
       "      <th>3</th>\n",
       "      <td>1.472039e+09</td>\n",
       "      <td>Thomas Clark</td>\n",
       "      <td>NaN</td>\n",
       "      <td>NaN</td>\n",
       "    </tr>\n",
       "    <tr>\n",
       "      <th>4</th>\n",
       "      <td>3.531421e+09</td>\n",
       "      <td>NaN</td>\n",
       "      <td>NaN</td>\n",
       "      <td>NaN</td>\n",
       "    </tr>\n",
       "  </tbody>\n",
       "</table>\n",
       "</div>"
      ],
      "text/plain": [
       "     profile_id firstname_lastname  followers  n_posts\n",
       "0  4.721050e+09        John Pierce      146.0    170.0\n",
       "1  5.905830e+08             Deanna     1145.0   2878.0\n",
       "2  1.074147e+09         Eliza Gray      324.0    431.0\n",
       "3  1.472039e+09       Thomas Clark        NaN      NaN\n",
       "4  3.531421e+09                NaN        NaN      NaN"
      ]
     },
     "execution_count": 17,
     "metadata": {},
     "output_type": "execute_result"
    }
   ],
   "source": [
    "data_profiles.head()"
   ]
  },
  {
   "cell_type": "markdown",
   "id": "2ce5fb25-6f33-4abd-8d8c-94d2bef9df04",
   "metadata": {},
   "source": [
    "We can control the number of NaN comparing to the total number of profiles: "
   ]
  },
  {
   "cell_type": "code",
   "execution_count": 18,
   "id": "7c3822d8-3a33-437a-b46d-f57585031407",
   "metadata": {},
   "outputs": [
    {
     "name": "stdout",
     "output_type": "stream",
     "text": [
      "1056815\n"
     ]
    },
    {
     "data": {
      "text/plain": [
       "(4509586, 4)"
      ]
     },
     "execution_count": 18,
     "metadata": {},
     "output_type": "execute_result"
    }
   ],
   "source": [
    "number_of_NaN = data_profiles['followers'].isna().sum()\n",
    "\n",
    "print(number_of_NaN)\n",
    "\n",
    "data_profiles.shape"
   ]
  },
  {
   "cell_type": "markdown",
   "id": "b6cb9a23-1027-4934-971e-2c891d29339d",
   "metadata": {},
   "source": [
    "The numbers of NaN is 1056815 on a total of 4509586 profiles."
   ]
  },
  {
   "cell_type": "markdown",
   "id": "35a13101-d193-411d-b975-06b0179c1077",
   "metadata": {},
   "source": [
    "We sort the column corresponding to followers and print the first 10 values: "
   ]
  },
  {
   "cell_type": "code",
   "execution_count": 19,
   "id": "dfb51f0c-9fb1-461b-a39a-f604196e38f5",
   "metadata": {},
   "outputs": [
    {
     "name": "stdout",
     "output_type": "stream",
     "text": [
      "     profile_id      firstname_lastname    followers  n_posts\n",
      "0  2.502532e+07               Instagram  285457645.0   5760.0\n",
      "1  3.416684e+06       Victoria's Secret   65269440.0   7355.0\n",
      "2  2.082449e+07                     NBA   35339708.0  28816.0\n",
      "3  1.876191e+08  Louis Vuitton Official   30689316.0   3352.0\n",
      "4  2.125507e+09                   Tasty   30246783.0   2791.0\n",
      "5  4.968651e+08          Andres Iniesta   29542143.0    990.0\n",
      "6  2.341008e+07                     H&M   29176804.0   4566.0\n",
      "7  2.423993e+07                Syahrini   29042823.0   4719.0\n",
      "8  5.041706e+07           Dan Bilzerian   26476004.0   1311.0\n",
      "9  9.070254e+08            Akshay Kumar   26252169.0   1173.0\n"
     ]
    }
   ],
   "source": [
    "most_populars_users = (data_profiles.sort_values(by=[\"followers\"], ascending=False, ignore_index=True)).head(10)\n",
    "\n",
    "print(most_populars_users)"
   ]
  },
  {
   "cell_type": "markdown",
   "id": "f92e0ece-e875-4b2b-adbc-be5f5a3c1e54",
   "metadata": {},
   "source": [
    "We plot the profile name with the corresponding number of follower to compare them: "
   ]
  },
  {
   "cell_type": "code",
   "execution_count": 20,
   "id": "3a018ebb-bb1d-4594-84a7-221a44783587",
   "metadata": {},
   "outputs": [
    {
     "data": {
      "image/png": "[encoded data removed]",
      "text/plain": [
       "<Figure size 432x288 with 1 Axes>"
      ]
     },
     "metadata": {
      "needs_background": "light"
     },
     "output_type": "display_data"
    }
   ],
   "source": [
    "plt.barh(most_populars_users['firstname_lastname'], most_populars_users['followers'], color=['black', 'red', 'green', 'blue', 'cyan', 'pink', 'orange', 'brown', 'olive', 'purple'])\n",
    "\n",
    "plt.title('Most popular users')\n",
    "\n",
    "plt.ylabel('Profile name')\n",
    "\n",
    "plt.xlabel('Number of followers')\n",
    "\n",
    "plt.show()"
   ]
  },
  {
   "cell_type": "markdown",
   "id": "fd947926-5274-4711-893e-ecf4f59fcca0",
   "metadata": {},
   "source": [
    "Now we plot the 10 most following users in terms of their number of posts: "
   ]
  },
  {
   "cell_type": "code",
   "execution_count": 21,
   "id": "db74cb20-0d86-4905-aa18-2dac931a71df",
   "metadata": {},
   "outputs": [
    {
     "data": {
      "image/png": "[encoded data removed]",
      "text/plain": [
       "<Figure size 432x288 with 1 Axes>"
      ]
     },
     "metadata": {
      "needs_background": "light"
     },
     "output_type": "display_data"
    }
   ],
   "source": [
    "plt.barh(most_populars_users['firstname_lastname'], most_populars_users['n_posts'], color=['black', 'red', 'green', 'blue', 'cyan', 'pink', 'orange', 'brown', 'olive', 'purple'])\n",
    "\n",
    "plt.title('Most popular users')\n",
    "\n",
    "plt.ylabel('Profile name')\n",
    "\n",
    "plt.xlabel('Number of posts')\n",
    "\n",
    "plt.show()"
   ]
  },
  {
   "cell_type": "markdown",
   "id": "27970aad-9d33-4741-8fb0-1fe48cdf39e6",
   "metadata": {},
   "source": [
    "## -Who is the most influential user?"
   ]
  },
  {
   "cell_type": "markdown",
   "id": "ceec87a9-9ad5-4ec7-bb90-3368c5d91278",
   "metadata": {},
   "source": [
    "The most influential users are the ones with the highest number of “followers\" that is clearly Instagram with 285457645 followers. "
   ]
  },
  {
   "cell_type": "markdown",
   "id": "22899751-bd12-41a6-8241-78d214bd745d",
   "metadata": {},
   "source": [
    "## -Have they posted anything with tagged locations? Extract the most frequent areas on their posts and plot the number of times each city has been visited."
   ]
  },
  {
   "cell_type": "markdown",
   "id": "eac526f6-0384-4272-a11c-681d13f14219",
   "metadata": {},
   "source": [
    "First of all we extract Profile ID of the 10 most popular users in decrescent order and we create a list with their profile id:  "
   ]
  },
  {
   "cell_type": "code",
   "execution_count": 22,
   "id": "854f3bd9-bba2-4fb9-a5c4-bee7db352f0f",
   "metadata": {
    "tags": []
   },
   "outputs": [],
   "source": [
    "popular_users = data_profiles.sort_values(by=[\"followers\"], ascending=False, ignore_index=True).head(10)\n",
    "\n",
    "list_of_pid = [int(popular_users['profile_id'][i]) for i in popular_users.index]"
   ]
  },
  {
   "cell_type": "markdown",
   "id": "ec9b69ab-c665-4637-9c94-ce4096fbb82b",
   "metadata": {},
   "source": [
    "We import the columns 'profile_id' and 'location_id' of the dataset of posts using pandas: "
   ]
  },
  {
   "cell_type": "code",
   "execution_count": 23,
   "id": "34f5ca4c-7a8b-4116-9511-c9d39861251b",
   "metadata": {},
   "outputs": [],
   "source": [
    "data_posts = pd.read_csv('/home/ec2-user/SageMaker/instagram_posts.zip', delimiter='\\t', usecols = ['profile_id','location_id'])"
   ]
  },
  {
   "cell_type": "markdown",
   "id": "82ce6c16-c19c-4320-ad98-4d529ef55499",
   "metadata": {},
   "source": [
    "We drop NaN values of each columns that can not allow us to link 'profile_id' to 'location_id': "
   ]
  },
  {
   "cell_type": "code",
   "execution_count": 24,
   "id": "490fdb76-46bb-4d16-a100-9b5a77565bec",
   "metadata": {},
   "outputs": [],
   "source": [
    "data_posts1 = data_posts.dropna(subset = ['profile_id', 'location_id'])"
   ]
  },
  {
   "cell_type": "markdown",
   "id": "4292f679-b2d3-4e7b-8f23-c6477b0f0c7b",
   "metadata": {},
   "source": [
    "We create a list of locations_id comparing the column of 'profile_id' to the profile id of the 10 most popular users: "
   ]
  },
  {
   "cell_type": "code",
   "execution_count": 26,
   "id": "24a002d1-d9ef-4269-a0a9-91f6a26245ec",
   "metadata": {},
   "outputs": [],
   "source": [
    "locations_id = []\n",
    "\n",
    "for i in data_posts1.index: \n",
    "    \n",
    "    if (data_posts1['profile_id'][i] in list_of_pid) == True:\n",
    "        \n",
    "        locations_id.append(int(data_posts1['location_id'][i]))       "
   ]
  },
  {
   "cell_type": "markdown",
   "id": "88526edb-129e-4238-91d7-31446c7d0703",
   "metadata": {},
   "source": [
    "To compare the list to the location_id in the dataset of location we need to tranform the element in integers."
   ]
  },
  {
   "cell_type": "markdown",
   "id": "881604ca-e4e6-48fe-b730-85f639cc7579",
   "metadata": {},
   "source": [
    "We import the columns 'id' and 'city' from the data set of location as a dataframe using pandas:"
   ]
  },
  {
   "cell_type": "code",
   "execution_count": 28,
   "id": "cc49801e-639b-4956-a8be-5e067f39746f",
   "metadata": {},
   "outputs": [
    {
     "name": "stdout",
     "output_type": "stream",
     "text": [
      "                id                 city\n",
      "0  110296492939207                  NaN\n",
      "1        274391278          Nová Vieska\n",
      "2  148885595789195     Kathmandu, Nepal\n",
      "3        263258277        Paris, France\n",
      "4  406147529857708  Burbank, California\n"
     ]
    }
   ],
   "source": [
    "data_locations = pd.read_csv('/home/ec2-user/SageMaker/instagram_locations.zip', usecols = ['id', 'city'], delimiter='\\t')\n",
    "print(data_locations.head())"
   ]
  },
  {
   "cell_type": "markdown",
   "id": "656408cd-cc54-4f81-9b9a-310fe0c43b14",
   "metadata": {},
   "source": [
    "We drop NaN values of each columns that can not allow us to link 'id' to 'name': "
   ]
  },
  {
   "cell_type": "code",
   "execution_count": 29,
   "id": "b325d416-bf4d-4c28-aa31-19e104229e3e",
   "metadata": {},
   "outputs": [],
   "source": [
    "data_locations1 = data_locations.dropna(subset = ['id', 'city'])"
   ]
  },
  {
   "cell_type": "markdown",
   "id": "6c45829d-4138-495c-857a-d7236b6cf74b",
   "metadata": {},
   "source": [
    "We create a list of the name of the locations that the 10 most popular users have visited:"
   ]
  },
  {
   "cell_type": "code",
   "execution_count": 31,
   "id": "76e830d6-5465-416c-9b97-b8a640944006",
   "metadata": {},
   "outputs": [],
   "source": [
    "locations_name = []\n",
    "\n",
    "for i in data_locations1.index:\n",
    "                  \n",
    "    if (data_locations1['id'][i] in locations_id) == True:\n",
    "                      \n",
    "        locations_name.append(data_locations1['city'][i])\n",
    "                      "
   ]
  },
  {
   "cell_type": "markdown",
   "id": "5cbc8acb-5144-4961-98c0-bd78c528ce64",
   "metadata": {},
   "source": [
    "We count the number of occurrencies through 'collection.counter()':"
   ]
  },
  {
   "cell_type": "code",
   "execution_count": 32,
   "id": "ccc77f78-31cf-4090-9f3c-847db69ee98d",
   "metadata": {},
   "outputs": [
    {
     "name": "stdout",
     "output_type": "stream",
     "text": [
      "Counter({'New York, New York': 9, 'Singapore': 4, 'Los Angeles, California': 4, 'Houston, Texas': 3, 'London, United Kingdom': 3, 'Amsterdam, Netherlands': 3, 'Las Vegas, Nevada': 2, 'Shanghai, China': 2, 'Akron, Ohio': 1, 'Kowloon, Hong Kong': 1, 'Boulder City, Nevada': 1, 'Dallas, Texas': 1, 'Lontar, Jawa Timur, Indonesia': 1, 'Cusco, Peru': 1, 'Toronto, Ontario': 1, 'Adelaide, South Australia': 1, 'Stony Plain, Alberta': 1, 'Pune, Maharashtra': 1, 'Vaitape, French Polynesia': 1, 'Barcelona, Spain': 1, 'Sydney, Australia': 1, 'Bel Air, Los Angeles': 1, 'Tulum, Quintana Roo': 1, 'Kobe-shi, Hyogo, Japan': 1, 'Vail, Colorado': 1, 'Santa Monica, California': 1, 'Milwaukee, Wisconsin': 1, 'Eastwick, Pennsylvania': 1, 'Valencia': 1, 'Pierson, Michigan': 1, 'Novi Sad, Serbia': 1, 'Detroit, Michigan': 1, 'Jakarta, Indonesia': 1, 'Oakland, California': 1, 'Kosciuszko': 1, 'Hackney, Hackney, United Kingdom': 1, 'Bad Urach': 1, 'Hong Kong': 1, 'Pôrto São José, Parana, Brazil': 1, 'Memphis, Tennessee': 1, 'San Francisco, California': 1, 'McLean, Virginia': 1, 'Chawton': 1, 'Krian, Jawa Timur, Indonesia': 1, 'Kirkkonummi': 1, 'Xiandu, Zhejiang, China': 1, 'Forres': 1, 'Hadleigh, Essex': 1, 'Herne Bay, Kent': 1, 'Amphoe Pak Chong': 1, 'Springfield, Massachusetts': 1, 'Valley Park, Missouri': 1, 'La Madrague, Alger, Algeria': 1, 'Philadelphia, Pennsylvania': 1, 'Crystal Falls, Michigan': 1, 'Chicago, Illinois': 1, 'Ota-shi, Gunma, Japan': 1, 'Peñablanca, Cagayan': 1, 'Loftus, New South Wales, Australia': 1, 'Santa Barbara, California': 1, 'Parks, Arizona': 1, 'Lodi, California': 1, 'Blangpidi, Aceh, Indonesia': 1})\n"
     ]
    }
   ],
   "source": [
    "location_counter = collections.Counter(locations_name)\n",
    "\n",
    "print(location_counter)"
   ]
  },
  {
   "cell_type": "markdown",
   "id": "d0085ef1-37d9-4c1d-9853-03bb8d433bea",
   "metadata": {},
   "source": [
    "The most frequent visited area is New York with 9 occurrencies."
   ]
  },
  {
   "cell_type": "markdown",
   "id": "4716c758-dcaf-4d1b-8811-f49a007cc44f",
   "metadata": {},
   "source": [
    "To plot them we decide to take the city that have been visited at least 2 times. So we create a new dictionary without the city that have been visited 1 time: "
   ]
  },
  {
   "cell_type": "code",
   "execution_count": 33,
   "id": "5c3c983e-1dd1-40fa-8c0d-2b520d05828a",
   "metadata": {},
   "outputs": [],
   "source": [
    "new_dict = {x:location_counter[x] for x in location_counter if location_counter[x] != 1}"
   ]
  },
  {
   "cell_type": "markdown",
   "id": "607834e2-fa2f-4913-a3ec-b90e8107f56e",
   "metadata": {},
   "source": [
    "Now we can plot them: "
   ]
  },
  {
   "cell_type": "code",
   "execution_count": 34,
   "id": "77953c68-42b8-4677-91f3-0b69b66c7aaf",
   "metadata": {},
   "outputs": [
    {
     "data": {
      "image/png": "[encoded data removed]",
      "text/plain": [
       "<Figure size 432x288 with 1 Axes>"
      ]
     },
     "metadata": {
      "needs_background": "light"
     },
     "output_type": "display_data"
    }
   ],
   "source": [
    "sort = dict(sorted(new_dict.items(), key=lambda item: item[1]))\n",
    "\n",
    "lists = sort.items() \n",
    "\n",
    "x, y = zip(*lists)\n",
    "\n",
    "plt.barh(x, y, color=['black', 'red', 'green', 'blue', 'cyan', 'pink', 'orange', 'brown', 'olive'])\n",
    "\n",
    "plt.title('Most visited Locations')\n",
    "\n",
    "plt.ylabel('Occurrencies')\n",
    "\n",
    "plt.xlabel('Locations')\n",
    "\n",
    "plt.show()"
   ]
  },
  {
   "cell_type": "markdown",
   "id": "e2885071-6927-4bcb-898a-243ee2cd624e",
   "metadata": {},
   "source": [
    "## -How many pictures-only posts have they published? How many reels? (only videos) and how many with both contents? Provide the number as percentages and interpret those figures."
   ]
  },
  {
   "cell_type": "markdown",
   "id": "2ced072b-f938-4f44-8642-6210becb8531",
   "metadata": {},
   "source": [
    "We import columns 'profile_id' and 'post_type' of the dataset of post using pandas: "
   ]
  },
  {
   "cell_type": "code",
   "execution_count": 36,
   "id": "1767a9c8-8894-4385-88b0-272650f0fb5f",
   "metadata": {},
   "outputs": [],
   "source": [
    "data_posts = pd.read_csv('/home/ec2-user/SageMaker/instagram_posts.zip', delimiter='\\t', usecols = ['profile_id', 'post_type'])"
   ]
  },
  {
   "cell_type": "markdown",
   "id": "ee313935-ade3-484d-a299-03e50b243fd6",
   "metadata": {},
   "source": [
    "We drop NaN values that don't allow us to link profile id to post type:"
   ]
  },
  {
   "cell_type": "code",
   "execution_count": 37,
   "id": "09666bd2-c731-406d-885a-7cc0818938b3",
   "metadata": {},
   "outputs": [],
   "source": [
    "data_posts2 = data_posts.dropna(subset = ['profile_id', 'post_type'])"
   ]
  },
  {
   "cell_type": "markdown",
   "id": "8820eecc-0c07-4cb8-8975-954b3db65ab8",
   "metadata": {},
   "source": [
    "We create a list with the post_type that the most 10 influential user have published: "
   ]
  },
  {
   "cell_type": "code",
   "execution_count": 38,
   "id": "fa0d3423-7ae2-44d1-a4df-4d6e85d9e747",
   "metadata": {},
   "outputs": [],
   "source": [
    "post_type = []\n",
    "\n",
    "for i in data_posts2.index: \n",
    "    \n",
    "    if (data_posts2['profile_id'][i] in list_of_pid) == True:\n",
    "        \n",
    "        post_type.append(data_posts2['post_type'][i])"
   ]
  },
  {
   "cell_type": "markdown",
   "id": "a2d4464b-d17b-4ab6-8007-f00faaada598",
   "metadata": {},
   "source": [
    "We count the number of occurrencies through 'collection.counter()':"
   ]
  },
  {
   "cell_type": "code",
   "execution_count": 39,
   "id": "1556aaba-8a03-4a2a-b34a-6466861d6718",
   "metadata": {},
   "outputs": [],
   "source": [
    "post_counter = collections.Counter(post_type)"
   ]
  },
  {
   "cell_type": "code",
   "execution_count": 40,
   "id": "95be7c78-19a1-45dd-9513-750e36d3d465",
   "metadata": {},
   "outputs": [
    {
     "name": "stdout",
     "output_type": "stream",
     "text": [
      "The number of pictures: 128\n",
      "The number of reels: 13\n",
      "The number of multi-content: 0\n",
      "141\n"
     ]
    }
   ],
   "source": [
    "print('The number of pictures: '+ str(post_counter[1]))\n",
    "print('The number of reels: '+ str(post_counter[2]))\n",
    "print('The number of multi-content: 0')\n",
    "print(len(post_type))"
   ]
  },
  {
   "cell_type": "code",
   "execution_count": 41,
   "id": "452b1fe2-2fad-4f34-abf0-5e02564f799e",
   "metadata": {},
   "outputs": [
    {
     "name": "stdout",
     "output_type": "stream",
     "text": [
      "The percentage of pictures: 90.78%\n",
      "The percentage of reels: 9.22%\n",
      "the percentage of multi-contents: 0 %\n"
     ]
    }
   ],
   "source": [
    "print('The percentage of pictures: '+ str(round(post_counter[1]/len(post_type)*100, 2)) +'%')\n",
    "print('The percentage of reels: '+ str(round(post_counter[2]/len(post_type)*100, 2)) +'%')\n",
    "print('the percentage of multi-contents: 0 %')"
   ]
  },
  {
   "cell_type": "markdown",
   "id": "76500b9f-38f9-46c8-be55-456eb0c14fb1",
   "metadata": {},
   "source": [
    "The majority of the posts published by the 10 most influential users are pictures. This could mean that this type of post is more successful on the public and for this reason they prefer to publish pictures instead of reels. From the analyses emerges that none of them published multi-contents post. This could mean that mixing contents doesn't receive much appreciament from the public or simply they prefer to mantain distance between picture and video contents. "
   ]
  },
  {
   "cell_type": "markdown",
   "id": "3792d637-cca3-40dc-b69b-8ad8104eeb90",
   "metadata": {},
   "source": [
    "## -How many \"likes\" and comments did posts with only pictures receive? How about videos and mixed posts? Try to provide the average numbers and confront them with their followers amount, explaining what you can say from that comparison."
   ]
  },
  {
   "cell_type": "markdown",
   "id": "f5c4e364-8c48-4968-87de-a15f092d54e0",
   "metadata": {},
   "source": [
    "We import columns 'profile_id', 'post_type', 'numbr_likes' and 'number_comments of the dataset of post using pandas: "
   ]
  },
  {
   "cell_type": "code",
   "execution_count": 43,
   "id": "64ebcf6a-65d8-4fdc-a15e-ac2c74bc8059",
   "metadata": {},
   "outputs": [],
   "source": [
    "data_posts3 = pd.read_csv('/home/ec2-user/SageMaker/instagram_posts.zip', usecols = ['profile_id','post_type', 'numbr_likes', 'number_comments'], sep='\\t')            \n",
    "            "
   ]
  },
  {
   "cell_type": "markdown",
   "id": "abdb5521-38bc-42ca-aa4b-a26e7e6f6b2d",
   "metadata": {},
   "source": [
    "We drop NaN of profile id that cannot allow us to see to which profile the posts belongs to and of post_type cause that cannot allow us to see if it is a picture or a video (from the previous analyses we know that there aren't mixed content):"
   ]
  },
  {
   "cell_type": "code",
   "execution_count": 44,
   "id": "ffbd241b-2de8-4806-93b6-fc19b7147be7",
   "metadata": {},
   "outputs": [],
   "source": [
    "data_posts_3 = data_posts3.dropna(subset = ['profile_id', 'post_type'])"
   ]
  },
  {
   "cell_type": "markdown",
   "id": "4585186c-7229-4b94-86a6-69a8209021ea",
   "metadata": {},
   "source": [
    "Now we create 4 lists with the number of like and comments for picture and reel:  "
   ]
  },
  {
   "cell_type": "code",
   "execution_count": 45,
   "id": "12cdd861-bd49-4cd1-b0c4-7c34caca82ea",
   "metadata": {},
   "outputs": [],
   "source": [
    "picture_like = []\n",
    "picture_comment = []\n",
    "reel_like = []\n",
    "reel_comment = []\n",
    "\n",
    "for i in data_posts_3.index: \n",
    "    \n",
    "    if (data_posts_3['profile_id'][i] in list_of_pid) == True:\n",
    "        \n",
    "        if data_posts_3['post_type'][i] == 1:\n",
    "        \n",
    "            picture_like.append(data_posts_3['numbr_likes'][i])\n",
    "            \n",
    "            picture_comment.append(data_posts_3['number_comments'][i])\n",
    "            \n",
    "        elif data_posts_3['post_type'][i] == 2:\n",
    "            \n",
    "            reel_like.append(data_posts_3['numbr_likes'][i])\n",
    "            \n",
    "            reel_comment.append(data_posts_3['number_comments'][i])\n",
    "            "
   ]
  },
  {
   "cell_type": "markdown",
   "id": "0a708cff-1013-4eb3-9a92-1d18117cfd7a",
   "metadata": {},
   "source": [
    "We control if there are NaN values: "
   ]
  },
  {
   "cell_type": "code",
   "execution_count": 46,
   "id": "284db63b-215d-42f1-a5f9-d5812dd6d8f8",
   "metadata": {},
   "outputs": [
    {
     "name": "stdout",
     "output_type": "stream",
     "text": [
      "[False False False False False False False False False False False False\n",
      " False False False False False False False False False False False False\n",
      " False False False False False False False False False False False False\n",
      " False False False False False False False False False False False False\n",
      " False False False False False False False False False False False False\n",
      " False False False False False False False False False False False False\n",
      " False False False False False False False False False False False False\n",
      " False False False False False False False False False False False False\n",
      " False False False False False False False False False False False False\n",
      " False False False False False False False False False False False False\n",
      " False False False False False False False False]\n",
      "[False False False False False False False False False False False False\n",
      " False False False False False False False False False False False False\n",
      " False False False False False False False False False False False False\n",
      " False False False False False False False False False False False False\n",
      " False False False False False False False False False False False False\n",
      " False False False False False False False False False False False False\n",
      " False False False False False False False False False False False False\n",
      " False False False False False False False False False False False False\n",
      " False False False False False False False False False False False False\n",
      " False False False False False False False False False False False False\n",
      " False False False False False False False False]\n",
      "[False False False False False False False False False False False False\n",
      " False]\n",
      "[False False False False False False False False False False False False\n",
      " False]\n"
     ]
    }
   ],
   "source": [
    "pic_lik = np.array(picture_like)\n",
    "\n",
    "pic_com = np.array(picture_comment)\n",
    "\n",
    "rel_lik = np.array(reel_like)\n",
    "\n",
    "rel_com = np.array(reel_comment)\n",
    "\n",
    "print(np.isnan(picture_like))\n",
    "\n",
    "print(np.isnan(picture_comment))\n",
    "\n",
    "print(np.isnan(reel_like))\n",
    "\n",
    "print(np.isnan(reel_comment))"
   ]
  },
  {
   "cell_type": "markdown",
   "id": "33a01d8c-0c1f-4e44-a9e3-6c1a23421c7e",
   "metadata": {},
   "source": [
    "The total number of likes for each categories: "
   ]
  },
  {
   "cell_type": "code",
   "execution_count": 47,
   "id": "e3af3c80-8cf9-4bc2-b93e-b8dcdb75a5de",
   "metadata": {},
   "outputs": [
    {
     "name": "stdout",
     "output_type": "stream",
     "text": [
      "The posts with only pictures received a total of 69285634 likes and 497013 comments\n",
      "The posts with only reels received a total of 3464814 likes and 26258 comments\n"
     ]
    }
   ],
   "source": [
    "print('The posts with only pictures received a total of ' + str(int(pic_lik.sum())) + ' likes and ' + str(int(pic_com.sum())) +' comments')\n",
    "\n",
    "print('The posts with only reels received a total of ' + str(int(rel_lik.sum())) + ' likes and ' + str(int(rel_com.sum())) +' comments')"
   ]
  },
  {
   "cell_type": "markdown",
   "id": "f5c05392-8216-4403-a78d-e4363b59857b",
   "metadata": {},
   "source": [
    "The average numbers: "
   ]
  },
  {
   "cell_type": "code",
   "execution_count": 48,
   "id": "9f58079d-2930-49fc-800c-f60b361ed0ac",
   "metadata": {},
   "outputs": [
    {
     "name": "stdout",
     "output_type": "stream",
     "text": [
      "The average number of likes for picture is : 541294\n",
      "The average number of comment for picture is : 3882\n",
      "The average number of likes for reel is : 266524\n",
      "The average number of comment for reel is : 2019\n"
     ]
    }
   ],
   "source": [
    "average_piclike = int(pic_lik.mean())\n",
    "\n",
    "average_piccomment = int(pic_com.mean())\n",
    "\n",
    "average_reellike = int(rel_lik.mean())\n",
    "\n",
    "average_reelcomment = int(rel_com.mean())\n",
    "\n",
    "print('The average number of likes for picture is : ' + str(average_piclike))\n",
    "\n",
    "print('The average number of comment for picture is : ' + str(average_piccomment))\n",
    "\n",
    "print('The average number of likes for reel is : ' + str(average_reellike))\n",
    "\n",
    "print('The average number of comment for reel is : ' + str(average_reelcomment))"
   ]
  },
  {
   "cell_type": "markdown",
   "id": "934488f8-f598-4b7e-8a8b-4d1225514468",
   "metadata": {},
   "source": [
    "To compare them to the number of follower we can extract the mean of the follower of the 10 most influential users: "
   ]
  },
  {
   "cell_type": "code",
   "execution_count": 49,
   "id": "f5360b12-583b-4ffd-9fdd-d0d393db9dce",
   "metadata": {},
   "outputs": [
    {
     "name": "stdout",
     "output_type": "stream",
     "text": [
      "The mean of the follower of the first 10 most influential users is: 58749283\n"
     ]
    }
   ],
   "source": [
    "number_follower = []\n",
    "\n",
    "for i in range(10): \n",
    "    \n",
    "    number_follower.append(most_populars_users['followers'][i])\n",
    "    \n",
    "mean_of_follower = int((np.array(number_follower)).mean())\n",
    "\n",
    "print('The mean of the follower of the first 10 most influential users is: ' + str(mean_of_follower))"
   ]
  },
  {
   "cell_type": "markdown",
   "id": "8c44aa54-15c4-43f6-9069-a674f03125a3",
   "metadata": {},
   "source": [
    "Now we can compare number of likes/comments to number of follower through percentages to see how the public react to the type of post: "
   ]
  },
  {
   "cell_type": "code",
   "execution_count": 50,
   "id": "c7ca86cc-0fab-4dad-96cf-c8aa4beec708",
   "metadata": {},
   "outputs": [
    {
     "name": "stdout",
     "output_type": "stream",
     "text": [
      "The percentage of follower that like picture type posts : 0.92%\n",
      "The percentage of follower that comment picture type posts : 0.01%\n",
      "The percentage of follower that like video type posts : 0.45%\n",
      "The percentage of follower that comment video type posts : 0.0%\n"
     ]
    }
   ],
   "source": [
    "print('The percentage of follower that like picture type posts : '+ str(round(average_piclike/mean_of_follower*100, 2)) +'%')\n",
    "\n",
    "print('The percentage of follower that comment picture type posts : '+ str(round(average_piccomment/mean_of_follower*100, 2)) +'%')\n",
    "\n",
    "print('The percentage of follower that like video type posts : '+ str(round(average_reellike/mean_of_follower*100, 2)) +'%')\n",
    "\n",
    "print('The percentage of follower that comment video type posts : '+ str(round(average_reelcomment/mean_of_follower*100, 2)) +'%')"
   ]
  },
  {
   "cell_type": "markdown",
   "id": "137ea0de-5a5e-418b-8ba1-7877f17e5295",
   "metadata": {},
   "source": [
    "We can't say too much from this percentage maybe cause of the big difference between numbers of follower in the top 10 of the most influential users or maybe cause there are missing values in the field \"number of likes\" or \"number of comments\" for users that have more weight in terms of followers (and probably consequently in term of likes and number of comments). \n",
    "\n",
    "It's better to create this list for every users in the top ten. To make an example on how to do it we can define a function that have as input the indexes of the first most 10 influential users:"
   ]
  },
  {
   "cell_type": "code",
   "execution_count": 58,
   "id": "6df3cf04-d325-474c-b386-afd5648e2279",
   "metadata": {},
   "outputs": [],
   "source": [
    "def find_like(index): \n",
    "    \n",
    "    picture_like0 = []\n",
    "    picture_comment0 = []\n",
    "    reel_like0 = []\n",
    "    reel_comment0 = []\n",
    "\n",
    "    for i in data_posts_3.index: \n",
    "    \n",
    "        if data_posts_3['profile_id'][i] == list_of_pid[index]:\n",
    "        \n",
    "            if data_posts_3['post_type'][i] == 1:\n",
    "        \n",
    "                picture_like0.append(data_posts_3['numbr_likes'][i])\n",
    "            \n",
    "                picture_comment0.append(data_posts_3['number_comments'][i])\n",
    "            \n",
    "            elif data_posts_3['post_type'][i] == 2:\n",
    "            \n",
    "                reel_like0.append(data_posts_3['numbr_likes'][i])\n",
    "            \n",
    "                reel_comment0.append(data_posts_3['number_comments'][i])\n",
    "    \n",
    "    print('The number of data of picture_like are ' + str(len(picture_like0)))\n",
    "    print('The number of data of picture_comment are ' + str(len(picture_comment0)))\n",
    "    print('The number of data of reel_like are ' + str(len(reel_like0)))\n",
    "    print('The number of data of reel_comment are ' + str(len(reel_comment0)))\n",
    "    \n",
    "    number_of_follower = int(most_populars_users['followers'][index])\n",
    "    \n",
    "    average_piclike = int(mean(picture_like0))\n",
    "\n",
    "    average_piccomment = int(mean(picture_comment0))\n",
    "\n",
    "    average_reellike = int(mean(reel_like0))\n",
    "\n",
    "    average_reelcomment = int(mean(reel_comment0))\n",
    "    \n",
    "    print('The average number of likes for picture is : ' + str(average_piclike))\n",
    "\n",
    "    print('The average number of comment for picture is : ' + str(average_piccomment))\n",
    "\n",
    "    print('The average number of likes for reel is : ' + str(average_reellike))\n",
    "\n",
    "    print('The average number of comment for reel is : ' + str(average_reelcomment))\n",
    "    \n",
    "    print('The number of follower is : ' + str(number_of_follower))\n",
    "    \n",
    "    print('The percentage of follower that like picture type posts : '+ str(round(average_piclike/number_of_follower*100, 2)) +'%')\n",
    "\n",
    "    print('The percentage of follower that comment picture type posts : '+ str(round(average_piccomment/number_of_follower*100, 2)) +'%')\n",
    "\n",
    "    print('The percentage of follower that like video type posts : '+ str(round(average_reellike/number_of_follower*100, 2)) +'%')\n",
    "\n",
    "    print('The percentage of follower that comment video type posts : '+ str(round(average_reelcomment/number_of_follower*100, 2)) +'%')\n",
    "\n",
    "    "
   ]
  },
  {
   "cell_type": "markdown",
   "id": "9eb9bbc9-d3dd-4202-8ece-b5ff138b7209",
   "metadata": {},
   "source": [
    "For NBA profile we obtain:"
   ]
  },
  {
   "cell_type": "code",
   "execution_count": null,
   "id": "a25d1e95-7b7d-4173-8313-4e332da0150f",
   "metadata": {},
   "outputs": [],
   "source": [
    "find_like(2)"
   ]
  }
 ],
 "metadata": {
  "kernelspec": {
   "display_name": "conda_python3",
   "language": "python",
   "name": "conda_python3"
  },
  "language_info": {
   "codemirror_mode": {
    "name": "ipython",
    "version": 3
   },
   "file_extension": ".py",
   "mimetype": "text/x-python",
   "name": "python",
   "nbconvert_exporter": "python",
   "pygments_lexer": "ipython3",
   "version": "3.8.12"
  }
 },
 "nbformat": 4,
 "nbformat_minor": 5
}
