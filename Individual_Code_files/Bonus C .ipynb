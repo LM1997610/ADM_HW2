{
 "cells": [
  {
   "cell_type": "markdown",
   "id": "08e58785",
   "metadata": {},
   "source": [
    "# -Bonus_C \n",
    "\n",
    "## Implement a text data analysis (also known as text mining) of the field \"description\" from instagram_posts.csv for descriptions written in English. Use appropriate visualizations and statistics to highlight the words (and probably the topics) provided for the users in that field."
   ]
  },
  {
   "cell_type": "markdown",
   "id": "f7161528",
   "metadata": {},
   "source": [
    "For this part of code we work in local cause the 4 hour limit of AWS don't allow us to work with all the 'description' data set. "
   ]
  },
  {
   "cell_type": "code",
   "execution_count": 1,
   "id": "826d68b7",
   "metadata": {},
   "outputs": [
    {
     "name": "stderr",
     "output_type": "stream",
     "text": [
      "[nltk_data] Downloading package stopwords to\n",
      "[nltk_data]     /Users/giacomo/nltk_data...\n",
      "[nltk_data]   Package stopwords is already up-to-date!\n",
      "[nltk_data] Downloading package punkt to /Users/giacomo/nltk_data...\n",
      "[nltk_data]   Package punkt is already up-to-date!\n",
      "[nltk_data] Downloading package words to /Users/giacomo/nltk_data...\n",
      "[nltk_data]   Package words is already up-to-date!\n"
     ]
    }
   ],
   "source": [
    "import csv\n",
    "import pandas as pd\n",
    "import numpy as np\n",
    "import re\n",
    "import nltk.corpus\n",
    "nltk.download('stopwords')\n",
    "from nltk.corpus import stopwords\n",
    "from cleantext import clean\n",
    "from nltk.stem import PorterStemmer\n",
    "from nltk.tokenize import word_tokenize\n",
    "import nltk\n",
    "from collections import Counter\n",
    "nltk.download('punkt')\n",
    "nltk.download('words')\n",
    "import matplotlib.pyplot as plt\n"
   ]
  },
  {
   "cell_type": "markdown",
   "id": "029aca0b",
   "metadata": {},
   "source": [
    "We use stopwords package to detect stopwords, the stemmer and a nltk corpus of english words to detect English words: "
   ]
  },
  {
   "cell_type": "code",
   "execution_count": 2,
   "id": "16194a4a",
   "metadata": {},
   "outputs": [],
   "source": [
    "stop = stopwords.words('english')\n",
    "\n",
    "ps = PorterStemmer()\n",
    "\n",
    "words = set(nltk.corpus.words.words())"
   ]
  },
  {
   "cell_type": "markdown",
   "id": "7d49c991",
   "metadata": {},
   "source": [
    "We define a function that do the text cleaning in 6 steps:\n",
    "\n",
    "    -Case normalization\n",
    "    -Remove Unicode Character\n",
    "    -Remove emoji\n",
    "    -Remove stopwords and 'numerical terms'\n",
    "    -Stemming\n",
    "    -Remove non English words comparing them to a nlkt corpus\n",
    "    "
   ]
  },
  {
   "cell_type": "code",
   "execution_count": 3,
   "id": "d81df0ff",
   "metadata": {},
   "outputs": [],
   "source": [
    "def clean_text(text): \n",
    "    \n",
    "    text.lower  #case normalization\n",
    "\n",
    "    text = re.sub(r\"(@\\[A-Za-z0-9]+)|([^0-9A-Za-z \\t])|(\\w+:\\/\\/\\S+)|^rt|http.+?\", \"\", text)  #removing unicode charachters\n",
    "    \n",
    "    text = clean(text, no_emoji=True) #remove emoji\n",
    "\n",
    "    text = \" \".join([word for word in text.split() if word not in (stop) and word.isalpha() == True]) #removing stopwords and 'numerical term\n",
    "    \n",
    "    token = word_tokenize(text) #tokenization\n",
    "    \n",
    "    text = [ps.stem(t) for t in token if ps.stem(t) in words] #stemming and removing non english words\n",
    "    \n",
    "    return(\" \".join(text))"
   ]
  },
  {
   "cell_type": "markdown",
   "id": "738f44dd",
   "metadata": {},
   "source": [
    "Example on how it works:"
   ]
  },
  {
   "cell_type": "code",
   "execution_count": 4,
   "id": "bc5e3e5a",
   "metadata": {},
   "outputs": [
    {
     "name": "stdout",
     "output_type": "stream",
     "text": [
      "text contain laugh\n"
     ]
    }
   ],
   "source": [
    "text = \"This sample 65a5svkla _ ! #text contains laughing emojis привет меня зовут джуло 😀 😃 😄 😁 😆 😅 😂 🤣\"\n",
    "\n",
    "print(clean_text(text))"
   ]
  },
  {
   "cell_type": "markdown",
   "id": "2ecec0be",
   "metadata": {},
   "source": [
    "The nlkt corpus doesn't contain all English terms but is more efficient instead of using 'langedetect' or in general a translation method and efficiency is the key in the case u have to deal with the large datasets of description."
   ]
  },
  {
   "cell_type": "markdown",
   "id": "958b1675",
   "metadata": {},
   "source": [
    "We decide to create a .txt file with all the 'cleaned English description':"
   ]
  },
  {
   "cell_type": "code",
   "execution_count": null,
   "id": "dab91ab3",
   "metadata": {
    "scrolled": true
   },
   "outputs": [],
   "source": [
    "file_object = open('/Users/giacomo/Desktop/data.txt', 'a')\n",
    "\n",
    "with open(\"/Users/giacomo/Desktop/instagram_posts.csv\") as f:\n",
    "\n",
    "    rows = csv.DictReader(f, delimiter = '\\t')\n",
    "    \n",
    "    for r in rows: \n",
    "        \n",
    "        if str(r['description']) != '\\n' and str(r['description']) != '' and str(r['description']) != ' ':\n",
    "            \n",
    "           file_object.write(clean_text(str(r['description'])))\n"
   ]
  },
  {
   "cell_type": "markdown",
   "id": "d3554003",
   "metadata": {},
   "source": [
    "Now we can use a collection counter to count all the occurrences of the words that we found taking as input the .txt file: "
   ]
  },
  {
   "cell_type": "code",
   "execution_count": 2,
   "id": "42739f13",
   "metadata": {},
   "outputs": [],
   "source": [
    "with open('/Users/giacomo/Desktop/data.txt', 'r') as f:\n",
    "    \n",
    "    contents = f.read()\n",
    "    \n",
    "    words = contents.split()\n",
    "    \n",
    "    counter_word = Counter(words)"
   ]
  },
  {
   "cell_type": "markdown",
   "id": "286faff8",
   "metadata": {},
   "source": [
    "To visualize these data we decide to use a ciruclar barplot in which we represent the first 30 most used words. First of all we sort the dictionary to take the most frequent words:"
   ]
  },
  {
   "cell_type": "code",
   "execution_count": 23,
   "id": "a2890fc4",
   "metadata": {},
   "outputs": [
    {
     "name": "stdout",
     "output_type": "stream",
     "text": [
      "['n', 'de', 'love', 'day', 'get', 'la', 'one', 'time', 'like', 'beauti', 'e', 'new', 'make', 'go', 'year', 'thank', 'us', 'see', 'today', 'work', 'en', 'come', 'look', 'life', 'nn', 'good', 'friend', 'best', 'back', 'know', 'week', 'great', 'take', 'travel', 'last', 'feel', 'much', 'night', 'want', 'dont', 'first', 'food', 'way', 'thing', 'got', 'even', 'el', 'un', 'da', 'alway']\n",
      "[2571761, 1135954, 952877, 748314, 580519, 569450, 561228, 555006, 531030, 457534, 455880, 450090, 427209, 414730, 412326, 408261, 405388, 381618, 373483, 364500, 363364, 361430, 355345, 344536, 337565, 314973, 309531, 296756, 296385, 287522, 277080, 276802, 268401, 266943, 262656, 261942, 260760, 251216, 248884, 245264, 243800, 232799, 232490, 229156, 228254, 227308, 224321, 221857, 216993, 213513]\n"
     ]
    }
   ],
   "source": [
    "sorted_count = dict(sorted(counter_word.items(), key=lambda x: x[1], reverse=True))\n",
    "\n",
    "first_words = list(sorted_count.keys())[0:30]\n",
    "\n",
    "first_values = list(sorted_count.values())[0:30]\n",
    "\n",
    "print(first_words)\n",
    "print(first_values)"
   ]
  },
  {
   "cell_type": "markdown",
   "id": "1aceac22",
   "metadata": {},
   "source": [
    "We decide to remove single letter keys from the dictionary cause they don't have a significant meaning: "
   ]
  },
  {
   "cell_type": "code",
   "execution_count": 24,
   "id": "a00891f5",
   "metadata": {},
   "outputs": [],
   "source": [
    "keys = list(sorted_count.keys())\n",
    "\n",
    "for k in keys: \n",
    "    \n",
    "    if len(k) == 1: \n",
    "        \n",
    "        sorted_count.pop(k)"
   ]
  },
  {
   "cell_type": "code",
   "execution_count": 27,
   "id": "07a850a1",
   "metadata": {},
   "outputs": [
    {
     "name": "stdout",
     "output_type": "stream",
     "text": [
      "['de', 'love', 'day', 'get', 'la', 'one', 'time', 'like', 'beauti', 'new', 'make', 'go', 'year', 'thank', 'us', 'see', 'today', 'work', 'en', 'come', 'look', 'life', 'nn', 'good', 'friend', 'best', 'back', 'know', 'week', 'great']\n",
      "[1135954, 952877, 748314, 580519, 569450, 561228, 555006, 531030, 457534, 450090, 427209, 414730, 412326, 408261, 405388, 381618, 373483, 364500, 363364, 361430, 355345, 344536, 337565, 314973, 309531, 296756, 296385, 287522, 277080, 276802]\n"
     ]
    }
   ],
   "source": [
    "first_words = list(sorted_count.keys())[0:30]\n",
    "\n",
    "first_values = list(sorted_count.values())[0:30]\n",
    "\n",
    "print(first_words)\n",
    "print(first_values)"
   ]
  },
  {
   "cell_type": "markdown",
   "id": "9a2ac7d9",
   "metadata": {},
   "source": [
    "We also decide to remove words like 'de', 'la', 'en', 'nn' that seems to have no meaning: "
   ]
  },
  {
   "cell_type": "code",
   "execution_count": 33,
   "id": "0f2bec41",
   "metadata": {},
   "outputs": [
    {
     "name": "stdout",
     "output_type": "stream",
     "text": [
      "['love', 'day', 'get', 'one', 'time', 'like', 'beauti', 'new', 'make', 'go', 'year', 'thank', 'us', 'see', 'today', 'work', 'come', 'look', 'life', 'good', 'friend', 'best', 'back', 'know', 'week', 'great', 'take', 'travel', 'last', 'feel']\n",
      "[952877, 748314, 580519, 561228, 555006, 531030, 457534, 450090, 427209, 414730, 412326, 408261, 405388, 381618, 373483, 364500, 361430, 355345, 344536, 314973, 309531, 296756, 296385, 287522, 277080, 276802, 268401, 266943, 262656, 261942]\n"
     ]
    }
   ],
   "source": [
    "no_meaning = ['de', 'la', 'en', 'nn']\n",
    "\n",
    "for s in no_meaning:\n",
    "\n",
    "    sorted_count.pop(s)\n",
    "\n",
    "first_words = list(sorted_count.keys())[0:30]\n",
    "\n",
    "first_values = list(sorted_count.values())[0:30]\n",
    "\n",
    "print(first_words)\n",
    "print(first_values)"
   ]
  },
  {
   "cell_type": "markdown",
   "id": "9077ceb0",
   "metadata": {},
   "source": [
    "Then we plot the cirular barplot:"
   ]
  },
  {
   "cell_type": "code",
   "execution_count": 34,
   "id": "5e2d588c",
   "metadata": {},
   "outputs": [
    {
     "data": {
      "image/png": "[encoded data removed]",
      "text/plain": [
       "<Figure size 1440x720 with 1 Axes>"
      ]
     },
     "metadata": {
      "needs_background": "light"
     },
     "output_type": "display_data"
    }
   ],
   "source": [
    "#Circular barplot\n",
    "\n",
    "words = np.array(first_words)\n",
    "\n",
    "occurrences = np.array(first_values)\n",
    "\n",
    "# initialize the figure\n",
    "\n",
    "plt.figure(figsize=(20,10))\n",
    "ax = plt.subplot(111, polar=True)\n",
    "plt.axis('off')\n",
    "\n",
    "# Set the coordinates limits\n",
    "upperLimit = 100\n",
    "lowerLimit = 30\n",
    "\n",
    "# Compute max \n",
    "max = occurrences.max()\n",
    "\n",
    "slope = (max - lowerLimit) / max\n",
    "heights = slope * occurrences + lowerLimit\n",
    "\n",
    "width = 2*np.pi / 30\n",
    "\n",
    "indexes = list(range(1, 31))\n",
    "angles = [element * width for element in indexes]\n",
    "\n",
    "# Draw bars\n",
    "bars = ax.bar(\n",
    "    x=angles, \n",
    "    height=heights, \n",
    "    width=width, \n",
    "    bottom=lowerLimit,\n",
    "    linewidth=2, \n",
    "    edgecolor=\"white\",\n",
    "    color=\"#61a4b2\",\n",
    ")\n",
    "\n",
    "labelPadding = 4\n",
    "\n",
    "for bar, angle, height, label in zip(bars,angles, heights, words):\n",
    "\n",
    "   \n",
    "    rotation = np.rad2deg(angle)\n",
    "\n",
    "    \n",
    "    alignment = \"\"\n",
    "    if angle >= np.pi/2 and angle < 3*np.pi/2:\n",
    "        alignment = \"right\"\n",
    "        rotation = rotation + 180\n",
    "    else: \n",
    "        alignment = \"left\"\n",
    "\n",
    "    \n",
    "    ax.text(\n",
    "        x=angle, \n",
    "        y=lowerLimit + bar.get_height() + labelPadding, \n",
    "        s=label, \n",
    "        ha=alignment, \n",
    "        va='center', \n",
    "        rotation=rotation, \n",
    "        rotation_mode=\"anchor\")"
   ]
  },
  {
   "cell_type": "markdown",
   "id": "814c2e10",
   "metadata": {},
   "source": [
    "From this analysis we can say that people like to use key words refferred to what they are posting. The majority of these words seems to be referred to positive things like 'love', 'travel', 'beauti', 'friend', 'life', key words of the social world as 'like', key words reffered to changes like 'new' ecc. Also if this text data analysis have limitations like the use of a comparation method to detect english words instead of a translation method it seems to give as meaningful answers."
   ]
  }
 ],
 "metadata": {
  "kernelspec": {
   "display_name": "Python 3 (ipykernel)",
   "language": "python",
   "name": "python3"
  },
  "language_info": {
   "codemirror_mode": {
    "name": "ipython",
    "version": 3
   },
   "file_extension": ".py",
   "mimetype": "text/x-python",
   "name": "python",
   "nbconvert_exporter": "python",
   "pygments_lexer": "ipython3",
   "version": "3.9.12"
  }
 },
 "nbformat": 4,
 "nbformat_minor": 5
}
