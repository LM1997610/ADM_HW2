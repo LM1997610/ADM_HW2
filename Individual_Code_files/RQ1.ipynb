{
 "cells": [
  {
   "cell_type": "markdown",
   "id": "4dbe1eaf",
   "metadata": {},
   "source": [
    "## RQ1"
   ]
  },
  {
   "cell_type": "markdown",
   "id": "24b0ff9c",
   "metadata": {},
   "source": [
    "We decided to use AWS Sagemaker to do the project. We used the three datasets that are already mounted to the AWS, downloaded them in a Data folder in Sagemaker and unzip them by using Terminal. So now we can read the CSV data with Pandas. \n"
   ]
  },
  {
   "cell_type": "code",
   "execution_count": 24,
   "id": "147d4f1a",
   "metadata": {},
   "outputs": [],
   "source": [
    "# Import the libraries\n",
    "import pandas as pd\n",
    "import numpy as np\n",
    "import matplotlib.pyplot as plt\n",
    "import seaborn as sns\n",
    "from tqdm import tqdm"
   ]
  },
  {
   "cell_type": "markdown",
   "id": "08d3f730",
   "metadata": {},
   "source": [
    "Start to do the Exploratory Data Analysis:"
   ]
  },
  {
   "cell_type": "markdown",
   "id": "4cf10a9f",
   "metadata": {},
   "source": [
    "### ` instagram_Profiles Data : `"
   ]
  },
  {
   "cell_type": "code",
   "execution_count": 2,
   "id": "2d6ba1c4",
   "metadata": {},
   "outputs": [],
   "source": [
    "# Read the data with pandas libarary\n",
    "dfPr = pd.read_csv(\"./Data/instagram_profiles.csv\", sep = \"\\t\")"
   ]
  },
  {
   "cell_type": "code",
   "execution_count": 3,
   "id": "e34dd359",
   "metadata": {},
   "outputs": [
    {
     "data": {
      "text/html": [
       "<div>\n",
       "<style scoped>\n",
       "    .dataframe tbody tr th:only-of-type {\n",
       "        vertical-align: middle;\n",
       "    }\n",
       "\n",
       "    .dataframe tbody tr th {\n",
       "        vertical-align: top;\n",
       "    }\n",
       "\n",
       "    .dataframe thead th {\n",
       "        text-align: right;\n",
       "    }\n",
       "</style>\n",
       "<table border=\"1\" class=\"dataframe\">\n",
       "  <thead>\n",
       "    <tr style=\"text-align: right;\">\n",
       "      <th></th>\n",
       "      <th>sid</th>\n",
       "      <th>profile_id</th>\n",
       "      <th>profile_name</th>\n",
       "      <th>firstname_lastname</th>\n",
       "      <th>description</th>\n",
       "      <th>following</th>\n",
       "      <th>followers</th>\n",
       "      <th>n_posts</th>\n",
       "      <th>url</th>\n",
       "      <th>cts</th>\n",
       "      <th>is_business_account</th>\n",
       "    </tr>\n",
       "  </thead>\n",
       "  <tbody>\n",
       "    <tr>\n",
       "      <th>0</th>\n",
       "      <td>4184446</td>\n",
       "      <td>4.721050e+09</td>\n",
       "      <td>jphillip033</td>\n",
       "      <td>John Pierce</td>\n",
       "      <td>\"Document Everything Always\"</td>\n",
       "      <td>250.0</td>\n",
       "      <td>146.0</td>\n",
       "      <td>170.0</td>\n",
       "      <td>NaN</td>\n",
       "      <td>2019-08-01 14:38:55.394 -0400</td>\n",
       "      <td>False</td>\n",
       "    </tr>\n",
       "    <tr>\n",
       "      <th>1</th>\n",
       "      <td>4184457</td>\n",
       "      <td>5.905830e+08</td>\n",
       "      <td>mama_haas</td>\n",
       "      <td>Deanna</td>\n",
       "      <td>Trying to enjoy the simple things in life. Kni...</td>\n",
       "      <td>534.0</td>\n",
       "      <td>1145.0</td>\n",
       "      <td>2878.0</td>\n",
       "      <td>www.etsy.com/shop/MamaHaas69</td>\n",
       "      <td>2019-08-01 14:39:36.526 -0400</td>\n",
       "      <td>False</td>\n",
       "    </tr>\n",
       "    <tr>\n",
       "      <th>2</th>\n",
       "      <td>4184460</td>\n",
       "      <td>1.074147e+09</td>\n",
       "      <td>yellowlightbreen</td>\n",
       "      <td>Eliza Gray</td>\n",
       "      <td>Maine is for Lovers</td>\n",
       "      <td>469.0</td>\n",
       "      <td>324.0</td>\n",
       "      <td>431.0</td>\n",
       "      <td>elizajanegray.com</td>\n",
       "      <td>2019-08-01 14:39:54.407 -0400</td>\n",
       "      <td>False</td>\n",
       "    </tr>\n",
       "    <tr>\n",
       "      <th>3</th>\n",
       "      <td>4184461</td>\n",
       "      <td>1.472039e+09</td>\n",
       "      <td>tec1025</td>\n",
       "      <td>Thomas Clark</td>\n",
       "      <td>NaN</td>\n",
       "      <td>NaN</td>\n",
       "      <td>NaN</td>\n",
       "      <td>NaN</td>\n",
       "      <td>NaN</td>\n",
       "      <td>2019-08-01 14:40:06.472 -0400</td>\n",
       "      <td>NaN</td>\n",
       "    </tr>\n",
       "    <tr>\n",
       "      <th>4</th>\n",
       "      <td>4184462</td>\n",
       "      <td>3.531421e+09</td>\n",
       "      <td>luckyfluff</td>\n",
       "      <td>NaN</td>\n",
       "      <td>NaN</td>\n",
       "      <td>NaN</td>\n",
       "      <td>NaN</td>\n",
       "      <td>NaN</td>\n",
       "      <td>NaN</td>\n",
       "      <td>2019-08-01 14:40:07.806 -0400</td>\n",
       "      <td>NaN</td>\n",
       "    </tr>\n",
       "  </tbody>\n",
       "</table>\n",
       "</div>"
      ],
      "text/plain": [
       "       sid    profile_id      profile_name firstname_lastname  \\\n",
       "0  4184446  4.721050e+09       jphillip033        John Pierce   \n",
       "1  4184457  5.905830e+08         mama_haas             Deanna   \n",
       "2  4184460  1.074147e+09  yellowlightbreen         Eliza Gray   \n",
       "3  4184461  1.472039e+09           tec1025       Thomas Clark   \n",
       "4  4184462  3.531421e+09        luckyfluff                NaN   \n",
       "\n",
       "                                         description  following  followers  \\\n",
       "0                       \"Document Everything Always\"      250.0      146.0   \n",
       "1  Trying to enjoy the simple things in life. Kni...      534.0     1145.0   \n",
       "2                                Maine is for Lovers      469.0      324.0   \n",
       "3                                                NaN        NaN        NaN   \n",
       "4                                                NaN        NaN        NaN   \n",
       "\n",
       "   n_posts                           url                            cts  \\\n",
       "0    170.0                           NaN  2019-08-01 14:38:55.394 -0400   \n",
       "1   2878.0  www.etsy.com/shop/MamaHaas69  2019-08-01 14:39:36.526 -0400   \n",
       "2    431.0             elizajanegray.com  2019-08-01 14:39:54.407 -0400   \n",
       "3      NaN                           NaN  2019-08-01 14:40:06.472 -0400   \n",
       "4      NaN                           NaN  2019-08-01 14:40:07.806 -0400   \n",
       "\n",
       "  is_business_account  \n",
       "0               False  \n",
       "1               False  \n",
       "2               False  \n",
       "3                 NaN  \n",
       "4                 NaN  "
      ]
     },
     "execution_count": 3,
     "metadata": {},
     "output_type": "execute_result"
    }
   ],
   "source": [
    "# we can see the firt five rows of our data\n",
    "dfPr.head()"
   ]
  },
  {
   "cell_type": "markdown",
   "id": "6b76459e",
   "metadata": {},
   "source": [
    "The number of rows of Profile data set is 4509586, and the number of columns is 11"
   ]
  },
  {
   "cell_type": "code",
   "execution_count": 4,
   "id": "cbf41550",
   "metadata": {},
   "outputs": [
    {
     "name": "stdout",
     "output_type": "stream",
     "text": [
      "<class 'pandas.core.frame.DataFrame'>\n",
      "RangeIndex: 4509586 entries, 0 to 4509585\n",
      "Data columns (total 11 columns):\n",
      " #   Column               Non-Null Count    Dtype  \n",
      "---  ------               --------------    -----  \n",
      " 0   sid                  4509586 non-null  int64  \n",
      " 1   profile_id           4477139 non-null  float64\n",
      " 2   profile_name         4509586 non-null  object \n",
      " 3   firstname_lastname   4221121 non-null  object \n",
      " 4   description          2453590 non-null  object \n",
      " 5   following            3452771 non-null  float64\n",
      " 6   followers            3452771 non-null  float64\n",
      " 7   n_posts              3452771 non-null  float64\n",
      " 8   url                  870274 non-null   object \n",
      " 9   cts                  4071098 non-null  object \n",
      " 10  is_business_account  3445323 non-null  object \n",
      "dtypes: float64(4), int64(1), object(6)\n",
      "memory usage: 378.5+ MB\n"
     ]
    }
   ],
   "source": [
    "#Determine these information about the instagram_Profile dataset: index dtype and columns, non-null values and memory usage.\n",
    "dfPr.info(show_counts=True)"
   ]
  },
  {
   "cell_type": "markdown",
   "id": "ed1c58e8",
   "metadata": {},
   "source": [
    "A brief summary of our data to get a better understanding of the data:\n",
    "According to the two above cells, we can see that out of 11 columns, we have 1 boolean, 4 float, 1 integer and 6 object.\n",
    "The is_business_account is a binary categorical column.\n",
    "We have null values in all columns except in sid and profile_name columns."
   ]
  },
  {
   "cell_type": "code",
   "execution_count": 5,
   "id": "60f68ed4",
   "metadata": {},
   "outputs": [
    {
     "data": {
      "text/plain": [
       "True"
      ]
     },
     "execution_count": 5,
     "metadata": {},
     "output_type": "execute_result"
    }
   ],
   "source": [
    "#Check if the Profile dataset contains any duplicate data or\n",
    "duplicates = dfPr.duplicated()\n",
    "duplicates[duplicates == True].empty"
   ]
  },
  {
   "cell_type": "markdown",
   "id": "a5331821",
   "metadata": {},
   "source": [
    "The instagram_Profile data doesn't have any duplicate data."
   ]
  },
  {
   "cell_type": "code",
   "execution_count": 6,
   "id": "1b6586c1",
   "metadata": {},
   "outputs": [
    {
     "data": {
      "text/plain": [
       "10689416"
      ]
     },
     "execution_count": 6,
     "metadata": {},
     "output_type": "execute_result"
    }
   ],
   "source": [
    "#Total number of the null values\n",
    "dfPr.isnull().sum().sum()"
   ]
  },
  {
   "cell_type": "code",
   "execution_count": 7,
   "id": "3071ee65",
   "metadata": {},
   "outputs": [
    {
     "data": {
      "text/plain": [
       "3763522"
      ]
     },
     "execution_count": 7,
     "metadata": {},
     "output_type": "execute_result"
    }
   ],
   "source": [
    "#Number of the rows that contain at least one null value\n",
    "np.count_nonzero(dfPr.isnull().sum(axis=1)!=0)"
   ]
  },
  {
   "cell_type": "markdown",
   "id": "e9115d34",
   "metadata": {},
   "source": [
    "As we understood from the section above, we have 3763522 rows that contain null values.\n",
    "But according to the columns of the data, we can drop some columns that are just for indexing and are not necessary.\n",
    "We are going to drop sid, profile_name and firstname_lastname columns and just keeping the profile_id column for hashing purposes.\n",
    "In order to make this changes and keep our main dataframe without manipulation, first we will make a copy of the dfPr and work with it."
   ]
  },
  {
   "cell_type": "code",
   "execution_count": 3,
   "id": "243153eb",
   "metadata": {},
   "outputs": [],
   "source": [
    "#We take a copy of our main data and work on it in order to keep our main data without manipulation and not to import it \n",
    "#for multiple times.\n",
    "dfPr2 = dfPr.copy()"
   ]
  },
  {
   "cell_type": "code",
   "execution_count": 4,
   "id": "ef9ef349",
   "metadata": {},
   "outputs": [
    {
     "data": {
      "text/html": [
       "<div>\n",
       "<style scoped>\n",
       "    .dataframe tbody tr th:only-of-type {\n",
       "        vertical-align: middle;\n",
       "    }\n",
       "\n",
       "    .dataframe tbody tr th {\n",
       "        vertical-align: top;\n",
       "    }\n",
       "\n",
       "    .dataframe thead th {\n",
       "        text-align: right;\n",
       "    }\n",
       "</style>\n",
       "<table border=\"1\" class=\"dataframe\">\n",
       "  <thead>\n",
       "    <tr style=\"text-align: right;\">\n",
       "      <th></th>\n",
       "      <th>profile_id</th>\n",
       "      <th>description</th>\n",
       "      <th>following</th>\n",
       "      <th>followers</th>\n",
       "      <th>n_posts</th>\n",
       "      <th>url</th>\n",
       "      <th>cts</th>\n",
       "      <th>is_business_account</th>\n",
       "    </tr>\n",
       "  </thead>\n",
       "  <tbody>\n",
       "    <tr>\n",
       "      <th>0</th>\n",
       "      <td>4.721050e+09</td>\n",
       "      <td>\"Document Everything Always\"</td>\n",
       "      <td>250.0</td>\n",
       "      <td>146.0</td>\n",
       "      <td>170.0</td>\n",
       "      <td>NaN</td>\n",
       "      <td>2019-08-01 14:38:55.394 -0400</td>\n",
       "      <td>False</td>\n",
       "    </tr>\n",
       "    <tr>\n",
       "      <th>1</th>\n",
       "      <td>5.905830e+08</td>\n",
       "      <td>Trying to enjoy the simple things in life. Kni...</td>\n",
       "      <td>534.0</td>\n",
       "      <td>1145.0</td>\n",
       "      <td>2878.0</td>\n",
       "      <td>www.etsy.com/shop/MamaHaas69</td>\n",
       "      <td>2019-08-01 14:39:36.526 -0400</td>\n",
       "      <td>False</td>\n",
       "    </tr>\n",
       "    <tr>\n",
       "      <th>2</th>\n",
       "      <td>1.074147e+09</td>\n",
       "      <td>Maine is for Lovers</td>\n",
       "      <td>469.0</td>\n",
       "      <td>324.0</td>\n",
       "      <td>431.0</td>\n",
       "      <td>elizajanegray.com</td>\n",
       "      <td>2019-08-01 14:39:54.407 -0400</td>\n",
       "      <td>False</td>\n",
       "    </tr>\n",
       "    <tr>\n",
       "      <th>3</th>\n",
       "      <td>1.472039e+09</td>\n",
       "      <td>NaN</td>\n",
       "      <td>NaN</td>\n",
       "      <td>NaN</td>\n",
       "      <td>NaN</td>\n",
       "      <td>NaN</td>\n",
       "      <td>2019-08-01 14:40:06.472 -0400</td>\n",
       "      <td>NaN</td>\n",
       "    </tr>\n",
       "    <tr>\n",
       "      <th>4</th>\n",
       "      <td>3.531421e+09</td>\n",
       "      <td>NaN</td>\n",
       "      <td>NaN</td>\n",
       "      <td>NaN</td>\n",
       "      <td>NaN</td>\n",
       "      <td>NaN</td>\n",
       "      <td>2019-08-01 14:40:07.806 -0400</td>\n",
       "      <td>NaN</td>\n",
       "    </tr>\n",
       "    <tr>\n",
       "      <th>...</th>\n",
       "      <td>...</td>\n",
       "      <td>...</td>\n",
       "      <td>...</td>\n",
       "      <td>...</td>\n",
       "      <td>...</td>\n",
       "      <td>...</td>\n",
       "      <td>...</td>\n",
       "      <td>...</td>\n",
       "    </tr>\n",
       "    <tr>\n",
       "      <th>4509581</th>\n",
       "      <td>1.418322e+09</td>\n",
       "      <td>🙏🏻</td>\n",
       "      <td>468.0</td>\n",
       "      <td>481.0</td>\n",
       "      <td>497.0</td>\n",
       "      <td>NaN</td>\n",
       "      <td>2019-08-01 14:40:26.554 -0400</td>\n",
       "      <td>False</td>\n",
       "    </tr>\n",
       "    <tr>\n",
       "      <th>4509582</th>\n",
       "      <td>1.340704e+07</td>\n",
       "      <td>NaN</td>\n",
       "      <td>NaN</td>\n",
       "      <td>NaN</td>\n",
       "      <td>NaN</td>\n",
       "      <td>NaN</td>\n",
       "      <td>2019-08-01 14:40:41.628 -0400</td>\n",
       "      <td>NaN</td>\n",
       "    </tr>\n",
       "    <tr>\n",
       "      <th>4509583</th>\n",
       "      <td>6.007354e+09</td>\n",
       "      <td>NaN</td>\n",
       "      <td>NaN</td>\n",
       "      <td>NaN</td>\n",
       "      <td>NaN</td>\n",
       "      <td>NaN</td>\n",
       "      <td>2019-08-01 14:40:42.983 -0400</td>\n",
       "      <td>NaN</td>\n",
       "    </tr>\n",
       "    <tr>\n",
       "      <th>4509584</th>\n",
       "      <td>2.338990e+07</td>\n",
       "      <td>Fashion - travel - photography ... that's me!👗...</td>\n",
       "      <td>504.0</td>\n",
       "      <td>153.0</td>\n",
       "      <td>183.0</td>\n",
       "      <td>NaN</td>\n",
       "      <td>2019-08-01 14:40:49.982 -0400</td>\n",
       "      <td>False</td>\n",
       "    </tr>\n",
       "    <tr>\n",
       "      <th>4509585</th>\n",
       "      <td>2.088094e+09</td>\n",
       "      <td>NaN</td>\n",
       "      <td>NaN</td>\n",
       "      <td>NaN</td>\n",
       "      <td>NaN</td>\n",
       "      <td>NaN</td>\n",
       "      <td>2019-08-01 14:42:30.055 -0400</td>\n",
       "      <td>NaN</td>\n",
       "    </tr>\n",
       "  </tbody>\n",
       "</table>\n",
       "<p>4509586 rows × 8 columns</p>\n",
       "</div>"
      ],
      "text/plain": [
       "           profile_id                                        description  \\\n",
       "0        4.721050e+09                       \"Document Everything Always\"   \n",
       "1        5.905830e+08  Trying to enjoy the simple things in life. Kni...   \n",
       "2        1.074147e+09                                Maine is for Lovers   \n",
       "3        1.472039e+09                                                NaN   \n",
       "4        3.531421e+09                                                NaN   \n",
       "...               ...                                                ...   \n",
       "4509581  1.418322e+09                                                 🙏🏻   \n",
       "4509582  1.340704e+07                                                NaN   \n",
       "4509583  6.007354e+09                                                NaN   \n",
       "4509584  2.338990e+07  Fashion - travel - photography ... that's me!👗...   \n",
       "4509585  2.088094e+09                                                NaN   \n",
       "\n",
       "         following  followers  n_posts                           url  \\\n",
       "0            250.0      146.0    170.0                           NaN   \n",
       "1            534.0     1145.0   2878.0  www.etsy.com/shop/MamaHaas69   \n",
       "2            469.0      324.0    431.0             elizajanegray.com   \n",
       "3              NaN        NaN      NaN                           NaN   \n",
       "4              NaN        NaN      NaN                           NaN   \n",
       "...            ...        ...      ...                           ...   \n",
       "4509581      468.0      481.0    497.0                           NaN   \n",
       "4509582        NaN        NaN      NaN                           NaN   \n",
       "4509583        NaN        NaN      NaN                           NaN   \n",
       "4509584      504.0      153.0    183.0                           NaN   \n",
       "4509585        NaN        NaN      NaN                           NaN   \n",
       "\n",
       "                                   cts is_business_account  \n",
       "0        2019-08-01 14:38:55.394 -0400               False  \n",
       "1        2019-08-01 14:39:36.526 -0400               False  \n",
       "2        2019-08-01 14:39:54.407 -0400               False  \n",
       "3        2019-08-01 14:40:06.472 -0400                 NaN  \n",
       "4        2019-08-01 14:40:07.806 -0400                 NaN  \n",
       "...                                ...                 ...  \n",
       "4509581  2019-08-01 14:40:26.554 -0400               False  \n",
       "4509582  2019-08-01 14:40:41.628 -0400                 NaN  \n",
       "4509583  2019-08-01 14:40:42.983 -0400                 NaN  \n",
       "4509584  2019-08-01 14:40:49.982 -0400               False  \n",
       "4509585  2019-08-01 14:42:30.055 -0400                 NaN  \n",
       "\n",
       "[4509586 rows x 8 columns]"
      ]
     },
     "execution_count": 4,
     "metadata": {},
     "output_type": "execute_result"
    }
   ],
   "source": [
    "#Drop some columns\n",
    "dfPr2.drop([\"sid\", \"profile_name\",\"firstname_lastname\"], axis=1, inplace = True)\n",
    "dfPr2"
   ]
  },
  {
   "cell_type": "markdown",
   "id": "a162e49e",
   "metadata": {},
   "source": [
    "Now, we are going to codify description and url columns to boolean data to make them compatible to the compiler. In the description column, instead of the profiles that have despriptions we put true and for the NaN value put False. In the url column, if there exists a url, we replace it with True otherwise False."
   ]
  },
  {
   "cell_type": "code",
   "execution_count": 5,
   "id": "863a7a46",
   "metadata": {},
   "outputs": [
    {
     "data": {
      "text/html": [
       "<div>\n",
       "<style scoped>\n",
       "    .dataframe tbody tr th:only-of-type {\n",
       "        vertical-align: middle;\n",
       "    }\n",
       "\n",
       "    .dataframe tbody tr th {\n",
       "        vertical-align: top;\n",
       "    }\n",
       "\n",
       "    .dataframe thead th {\n",
       "        text-align: right;\n",
       "    }\n",
       "</style>\n",
       "<table border=\"1\" class=\"dataframe\">\n",
       "  <thead>\n",
       "    <tr style=\"text-align: right;\">\n",
       "      <th></th>\n",
       "      <th>profile_id</th>\n",
       "      <th>description</th>\n",
       "      <th>following</th>\n",
       "      <th>followers</th>\n",
       "      <th>n_posts</th>\n",
       "      <th>url</th>\n",
       "      <th>cts</th>\n",
       "      <th>is_business_account</th>\n",
       "    </tr>\n",
       "  </thead>\n",
       "  <tbody>\n",
       "    <tr>\n",
       "      <th>0</th>\n",
       "      <td>4.721050e+09</td>\n",
       "      <td>True</td>\n",
       "      <td>250.0</td>\n",
       "      <td>146.0</td>\n",
       "      <td>170.0</td>\n",
       "      <td>NaN</td>\n",
       "      <td>2019-08-01 14:38:55.394 -0400</td>\n",
       "      <td>False</td>\n",
       "    </tr>\n",
       "    <tr>\n",
       "      <th>1</th>\n",
       "      <td>5.905830e+08</td>\n",
       "      <td>True</td>\n",
       "      <td>534.0</td>\n",
       "      <td>1145.0</td>\n",
       "      <td>2878.0</td>\n",
       "      <td>www.etsy.com/shop/MamaHaas69</td>\n",
       "      <td>2019-08-01 14:39:36.526 -0400</td>\n",
       "      <td>False</td>\n",
       "    </tr>\n",
       "    <tr>\n",
       "      <th>2</th>\n",
       "      <td>1.074147e+09</td>\n",
       "      <td>True</td>\n",
       "      <td>469.0</td>\n",
       "      <td>324.0</td>\n",
       "      <td>431.0</td>\n",
       "      <td>elizajanegray.com</td>\n",
       "      <td>2019-08-01 14:39:54.407 -0400</td>\n",
       "      <td>False</td>\n",
       "    </tr>\n",
       "    <tr>\n",
       "      <th>3</th>\n",
       "      <td>1.472039e+09</td>\n",
       "      <td>False</td>\n",
       "      <td>NaN</td>\n",
       "      <td>NaN</td>\n",
       "      <td>NaN</td>\n",
       "      <td>NaN</td>\n",
       "      <td>2019-08-01 14:40:06.472 -0400</td>\n",
       "      <td>NaN</td>\n",
       "    </tr>\n",
       "    <tr>\n",
       "      <th>4</th>\n",
       "      <td>3.531421e+09</td>\n",
       "      <td>False</td>\n",
       "      <td>NaN</td>\n",
       "      <td>NaN</td>\n",
       "      <td>NaN</td>\n",
       "      <td>NaN</td>\n",
       "      <td>2019-08-01 14:40:07.806 -0400</td>\n",
       "      <td>NaN</td>\n",
       "    </tr>\n",
       "    <tr>\n",
       "      <th>...</th>\n",
       "      <td>...</td>\n",
       "      <td>...</td>\n",
       "      <td>...</td>\n",
       "      <td>...</td>\n",
       "      <td>...</td>\n",
       "      <td>...</td>\n",
       "      <td>...</td>\n",
       "      <td>...</td>\n",
       "    </tr>\n",
       "    <tr>\n",
       "      <th>4509581</th>\n",
       "      <td>1.418322e+09</td>\n",
       "      <td>True</td>\n",
       "      <td>468.0</td>\n",
       "      <td>481.0</td>\n",
       "      <td>497.0</td>\n",
       "      <td>NaN</td>\n",
       "      <td>2019-08-01 14:40:26.554 -0400</td>\n",
       "      <td>False</td>\n",
       "    </tr>\n",
       "    <tr>\n",
       "      <th>4509582</th>\n",
       "      <td>1.340704e+07</td>\n",
       "      <td>False</td>\n",
       "      <td>NaN</td>\n",
       "      <td>NaN</td>\n",
       "      <td>NaN</td>\n",
       "      <td>NaN</td>\n",
       "      <td>2019-08-01 14:40:41.628 -0400</td>\n",
       "      <td>NaN</td>\n",
       "    </tr>\n",
       "    <tr>\n",
       "      <th>4509583</th>\n",
       "      <td>6.007354e+09</td>\n",
       "      <td>False</td>\n",
       "      <td>NaN</td>\n",
       "      <td>NaN</td>\n",
       "      <td>NaN</td>\n",
       "      <td>NaN</td>\n",
       "      <td>2019-08-01 14:40:42.983 -0400</td>\n",
       "      <td>NaN</td>\n",
       "    </tr>\n",
       "    <tr>\n",
       "      <th>4509584</th>\n",
       "      <td>2.338990e+07</td>\n",
       "      <td>True</td>\n",
       "      <td>504.0</td>\n",
       "      <td>153.0</td>\n",
       "      <td>183.0</td>\n",
       "      <td>NaN</td>\n",
       "      <td>2019-08-01 14:40:49.982 -0400</td>\n",
       "      <td>False</td>\n",
       "    </tr>\n",
       "    <tr>\n",
       "      <th>4509585</th>\n",
       "      <td>2.088094e+09</td>\n",
       "      <td>False</td>\n",
       "      <td>NaN</td>\n",
       "      <td>NaN</td>\n",
       "      <td>NaN</td>\n",
       "      <td>NaN</td>\n",
       "      <td>2019-08-01 14:42:30.055 -0400</td>\n",
       "      <td>NaN</td>\n",
       "    </tr>\n",
       "  </tbody>\n",
       "</table>\n",
       "<p>4509586 rows × 8 columns</p>\n",
       "</div>"
      ],
      "text/plain": [
       "           profile_id  description  following  followers  n_posts  \\\n",
       "0        4.721050e+09         True      250.0      146.0    170.0   \n",
       "1        5.905830e+08         True      534.0     1145.0   2878.0   \n",
       "2        1.074147e+09         True      469.0      324.0    431.0   \n",
       "3        1.472039e+09        False        NaN        NaN      NaN   \n",
       "4        3.531421e+09        False        NaN        NaN      NaN   \n",
       "...               ...          ...        ...        ...      ...   \n",
       "4509581  1.418322e+09         True      468.0      481.0    497.0   \n",
       "4509582  1.340704e+07        False        NaN        NaN      NaN   \n",
       "4509583  6.007354e+09        False        NaN        NaN      NaN   \n",
       "4509584  2.338990e+07         True      504.0      153.0    183.0   \n",
       "4509585  2.088094e+09        False        NaN        NaN      NaN   \n",
       "\n",
       "                                  url                            cts  \\\n",
       "0                                 NaN  2019-08-01 14:38:55.394 -0400   \n",
       "1        www.etsy.com/shop/MamaHaas69  2019-08-01 14:39:36.526 -0400   \n",
       "2                   elizajanegray.com  2019-08-01 14:39:54.407 -0400   \n",
       "3                                 NaN  2019-08-01 14:40:06.472 -0400   \n",
       "4                                 NaN  2019-08-01 14:40:07.806 -0400   \n",
       "...                               ...                            ...   \n",
       "4509581                           NaN  2019-08-01 14:40:26.554 -0400   \n",
       "4509582                           NaN  2019-08-01 14:40:41.628 -0400   \n",
       "4509583                           NaN  2019-08-01 14:40:42.983 -0400   \n",
       "4509584                           NaN  2019-08-01 14:40:49.982 -0400   \n",
       "4509585                           NaN  2019-08-01 14:42:30.055 -0400   \n",
       "\n",
       "        is_business_account  \n",
       "0                     False  \n",
       "1                     False  \n",
       "2                     False  \n",
       "3                       NaN  \n",
       "4                       NaN  \n",
       "...                     ...  \n",
       "4509581               False  \n",
       "4509582                 NaN  \n",
       "4509583                 NaN  \n",
       "4509584               False  \n",
       "4509585                 NaN  \n",
       "\n",
       "[4509586 rows x 8 columns]"
      ]
     },
     "execution_count": 5,
     "metadata": {},
     "output_type": "execute_result"
    }
   ],
   "source": [
    "#Encoding 'description' content to boolean data.\n",
    "dfPr2['description'] = dfPr2['description'].apply(lambda x: False if pd.isnull(x) else True)\n",
    "dfPr2"
   ]
  },
  {
   "cell_type": "code",
   "execution_count": 6,
   "id": "f326f240",
   "metadata": {},
   "outputs": [
    {
     "data": {
      "text/html": [
       "<div>\n",
       "<style scoped>\n",
       "    .dataframe tbody tr th:only-of-type {\n",
       "        vertical-align: middle;\n",
       "    }\n",
       "\n",
       "    .dataframe tbody tr th {\n",
       "        vertical-align: top;\n",
       "    }\n",
       "\n",
       "    .dataframe thead th {\n",
       "        text-align: right;\n",
       "    }\n",
       "</style>\n",
       "<table border=\"1\" class=\"dataframe\">\n",
       "  <thead>\n",
       "    <tr style=\"text-align: right;\">\n",
       "      <th></th>\n",
       "      <th>profile_id</th>\n",
       "      <th>description</th>\n",
       "      <th>following</th>\n",
       "      <th>followers</th>\n",
       "      <th>n_posts</th>\n",
       "      <th>url</th>\n",
       "      <th>cts</th>\n",
       "      <th>is_business_account</th>\n",
       "    </tr>\n",
       "  </thead>\n",
       "  <tbody>\n",
       "    <tr>\n",
       "      <th>0</th>\n",
       "      <td>4.721050e+09</td>\n",
       "      <td>True</td>\n",
       "      <td>250.0</td>\n",
       "      <td>146.0</td>\n",
       "      <td>170.0</td>\n",
       "      <td>False</td>\n",
       "      <td>2019-08-01 14:38:55.394 -0400</td>\n",
       "      <td>False</td>\n",
       "    </tr>\n",
       "    <tr>\n",
       "      <th>1</th>\n",
       "      <td>5.905830e+08</td>\n",
       "      <td>True</td>\n",
       "      <td>534.0</td>\n",
       "      <td>1145.0</td>\n",
       "      <td>2878.0</td>\n",
       "      <td>True</td>\n",
       "      <td>2019-08-01 14:39:36.526 -0400</td>\n",
       "      <td>False</td>\n",
       "    </tr>\n",
       "    <tr>\n",
       "      <th>2</th>\n",
       "      <td>1.074147e+09</td>\n",
       "      <td>True</td>\n",
       "      <td>469.0</td>\n",
       "      <td>324.0</td>\n",
       "      <td>431.0</td>\n",
       "      <td>True</td>\n",
       "      <td>2019-08-01 14:39:54.407 -0400</td>\n",
       "      <td>False</td>\n",
       "    </tr>\n",
       "    <tr>\n",
       "      <th>3</th>\n",
       "      <td>1.472039e+09</td>\n",
       "      <td>False</td>\n",
       "      <td>NaN</td>\n",
       "      <td>NaN</td>\n",
       "      <td>NaN</td>\n",
       "      <td>False</td>\n",
       "      <td>2019-08-01 14:40:06.472 -0400</td>\n",
       "      <td>NaN</td>\n",
       "    </tr>\n",
       "    <tr>\n",
       "      <th>4</th>\n",
       "      <td>3.531421e+09</td>\n",
       "      <td>False</td>\n",
       "      <td>NaN</td>\n",
       "      <td>NaN</td>\n",
       "      <td>NaN</td>\n",
       "      <td>False</td>\n",
       "      <td>2019-08-01 14:40:07.806 -0400</td>\n",
       "      <td>NaN</td>\n",
       "    </tr>\n",
       "    <tr>\n",
       "      <th>...</th>\n",
       "      <td>...</td>\n",
       "      <td>...</td>\n",
       "      <td>...</td>\n",
       "      <td>...</td>\n",
       "      <td>...</td>\n",
       "      <td>...</td>\n",
       "      <td>...</td>\n",
       "      <td>...</td>\n",
       "    </tr>\n",
       "    <tr>\n",
       "      <th>4509581</th>\n",
       "      <td>1.418322e+09</td>\n",
       "      <td>True</td>\n",
       "      <td>468.0</td>\n",
       "      <td>481.0</td>\n",
       "      <td>497.0</td>\n",
       "      <td>False</td>\n",
       "      <td>2019-08-01 14:40:26.554 -0400</td>\n",
       "      <td>False</td>\n",
       "    </tr>\n",
       "    <tr>\n",
       "      <th>4509582</th>\n",
       "      <td>1.340704e+07</td>\n",
       "      <td>False</td>\n",
       "      <td>NaN</td>\n",
       "      <td>NaN</td>\n",
       "      <td>NaN</td>\n",
       "      <td>False</td>\n",
       "      <td>2019-08-01 14:40:41.628 -0400</td>\n",
       "      <td>NaN</td>\n",
       "    </tr>\n",
       "    <tr>\n",
       "      <th>4509583</th>\n",
       "      <td>6.007354e+09</td>\n",
       "      <td>False</td>\n",
       "      <td>NaN</td>\n",
       "      <td>NaN</td>\n",
       "      <td>NaN</td>\n",
       "      <td>False</td>\n",
       "      <td>2019-08-01 14:40:42.983 -0400</td>\n",
       "      <td>NaN</td>\n",
       "    </tr>\n",
       "    <tr>\n",
       "      <th>4509584</th>\n",
       "      <td>2.338990e+07</td>\n",
       "      <td>True</td>\n",
       "      <td>504.0</td>\n",
       "      <td>153.0</td>\n",
       "      <td>183.0</td>\n",
       "      <td>False</td>\n",
       "      <td>2019-08-01 14:40:49.982 -0400</td>\n",
       "      <td>False</td>\n",
       "    </tr>\n",
       "    <tr>\n",
       "      <th>4509585</th>\n",
       "      <td>2.088094e+09</td>\n",
       "      <td>False</td>\n",
       "      <td>NaN</td>\n",
       "      <td>NaN</td>\n",
       "      <td>NaN</td>\n",
       "      <td>False</td>\n",
       "      <td>2019-08-01 14:42:30.055 -0400</td>\n",
       "      <td>NaN</td>\n",
       "    </tr>\n",
       "  </tbody>\n",
       "</table>\n",
       "<p>4509586 rows × 8 columns</p>\n",
       "</div>"
      ],
      "text/plain": [
       "           profile_id  description  following  followers  n_posts    url  \\\n",
       "0        4.721050e+09         True      250.0      146.0    170.0  False   \n",
       "1        5.905830e+08         True      534.0     1145.0   2878.0   True   \n",
       "2        1.074147e+09         True      469.0      324.0    431.0   True   \n",
       "3        1.472039e+09        False        NaN        NaN      NaN  False   \n",
       "4        3.531421e+09        False        NaN        NaN      NaN  False   \n",
       "...               ...          ...        ...        ...      ...    ...   \n",
       "4509581  1.418322e+09         True      468.0      481.0    497.0  False   \n",
       "4509582  1.340704e+07        False        NaN        NaN      NaN  False   \n",
       "4509583  6.007354e+09        False        NaN        NaN      NaN  False   \n",
       "4509584  2.338990e+07         True      504.0      153.0    183.0  False   \n",
       "4509585  2.088094e+09        False        NaN        NaN      NaN  False   \n",
       "\n",
       "                                   cts is_business_account  \n",
       "0        2019-08-01 14:38:55.394 -0400               False  \n",
       "1        2019-08-01 14:39:36.526 -0400               False  \n",
       "2        2019-08-01 14:39:54.407 -0400               False  \n",
       "3        2019-08-01 14:40:06.472 -0400                 NaN  \n",
       "4        2019-08-01 14:40:07.806 -0400                 NaN  \n",
       "...                                ...                 ...  \n",
       "4509581  2019-08-01 14:40:26.554 -0400               False  \n",
       "4509582  2019-08-01 14:40:41.628 -0400                 NaN  \n",
       "4509583  2019-08-01 14:40:42.983 -0400                 NaN  \n",
       "4509584  2019-08-01 14:40:49.982 -0400               False  \n",
       "4509585  2019-08-01 14:42:30.055 -0400                 NaN  \n",
       "\n",
       "[4509586 rows x 8 columns]"
      ]
     },
     "execution_count": 6,
     "metadata": {},
     "output_type": "execute_result"
    }
   ],
   "source": [
    "#Encoding 'url' content to boolean data.\n",
    "dfPr2['url'] = dfPr2['url'].apply(lambda x: False if pd.isnull(x) else True)\n",
    "dfPr2"
   ]
  },
  {
   "cell_type": "code",
   "execution_count": 12,
   "id": "dcd6210b",
   "metadata": {},
   "outputs": [
    {
     "data": {
      "text/plain": [
       "(1180398, 8)"
      ]
     },
     "execution_count": 12,
     "metadata": {},
     "output_type": "execute_result"
    }
   ],
   "source": [
    "# Number of rows and columns that contain the Null values after dropping some columns\n",
    "dfPr2[dfPr2.isnull().sum(axis=1)!=0].shape"
   ]
  },
  {
   "cell_type": "markdown",
   "id": "5e560691",
   "metadata": {},
   "source": [
    "With the above code, we found that after doing some changes in the dataset, now we have 1180398 rows with null values. We have 2 main ways to handle the missing values: Removing data and imputation. In this case, we cannot drop(remove) the null values, because the number of the null values in comparison to the total dataset is too big (almost one-third). For imputation we can use Mean, Median and Mode or interpolation/extrapolation but in our case we have sampled data randomly out of independent user value. It means that we are not able to fill the null values by help of the other values."
   ]
  },
  {
   "cell_type": "markdown",
   "id": "4d72293a",
   "metadata": {},
   "source": [
    "<b>Outliers:</b> The outliers are the extreme values within the dataset. Outliers can have a big impact on statistical analysis because they impact calculations like mean and standard deviation. We can use various techniques to visualize and identify outliers before deciding whether they should be dropped, kept, or modified. "
   ]
  },
  {
   "cell_type": "code",
   "execution_count": 13,
   "id": "a2c04931",
   "metadata": {},
   "outputs": [
    {
     "data": {
      "image/png": "[encoded data removed]",
      "text/plain": [
       "<Figure size 432x288 with 1 Axes>"
      ]
     },
     "metadata": {
      "needs_background": "light"
     },
     "output_type": "display_data"
    }
   ],
   "source": [
    "#Plot the boxplot in order to check if we have outliers or not\n",
    "numeric_col = [\"following\" , \"followers\" , \"n_posts\"]\n",
    "dfPr2.boxplot(numeric_col)\n",
    "plt.grid(False)"
   ]
  },
  {
   "cell_type": "markdown",
   "id": "5f78c6b7",
   "metadata": {},
   "source": [
    "By watching the boxplot we figure out that we have outliers in all tree numerical columns. So we are going to determine the exact number of the outliers."
   ]
  },
  {
   "cell_type": "code",
   "execution_count": 2,
   "id": "58dfdfd7",
   "metadata": {},
   "outputs": [],
   "source": [
    "#Finding outliers using statistical methods\n",
    "#create a function to find outliers using IQR\n",
    "\n",
    "def find_outliers_IQR(df):\n",
    "    \n",
    "   q1=df.quantile(0.25) \n",
    "\n",
    "   q3=df.quantile(0.75)\n",
    "\n",
    "   IQR=q3-q1\n",
    "\n",
    "   outliers = df[((df<(q1-1.5*IQR)) | (df>(q3+1.5*IQR)))]\n",
    "\n",
    "   return outliers"
   ]
  },
  {
   "cell_type": "code",
   "execution_count": 8,
   "id": "38372e1b",
   "metadata": {},
   "outputs": [
    {
     "name": "stdout",
     "output_type": "stream",
     "text": [
      "number of outliers: 370009\n",
      "max outlier value: 4191080.0\n",
      "min outlier value:3399.0\n"
     ]
    }
   ],
   "source": [
    "#Outliers of the \"following\" column\n",
    "followingOutliers = find_outliers_IQR(dfPr2[\"following\"])  \n",
    "\n",
    "print(\"number of outliers: \"+ str(len(followingOutliers)))\n",
    "\n",
    "print(\"max outlier value: \"+ str(followingOutliers.max()))\n",
    "\n",
    "print(\"min outlier value:\"+ str(followingOutliers.min()))"
   ]
  },
  {
   "cell_type": "code",
   "execution_count": 16,
   "id": "5a8bff31",
   "metadata": {},
   "outputs": [
    {
     "name": "stdout",
     "output_type": "stream",
     "text": [
      "number of outliers: 385054\n",
      "max outlier value: 285457645.0\n",
      "min outlier value:2197.0\n"
     ]
    }
   ],
   "source": [
    "#outliers of the \"followers\" column\n",
    "followersOutliers = find_outliers_IQR(dfPr2[\"followers\"])  \n",
    "\n",
    "print(\"number of outliers: \"+ str(len(followersOutliers)))\n",
    "\n",
    "print(\"max outlier value: \"+ str(followersOutliers.max()))\n",
    "\n",
    "print(\"min outlier value:\"+ str(followersOutliers.min()))"
   ]
  },
  {
   "cell_type": "code",
   "execution_count": 17,
   "id": "1f640f0a",
   "metadata": {},
   "outputs": [
    {
     "name": "stdout",
     "output_type": "stream",
     "text": [
      "number of outliers: 349151\n",
      "max outlier value: 183730.0\n",
      "min outlier value:1018.0\n"
     ]
    }
   ],
   "source": [
    "#outliers of the \"n_posts\" column\n",
    "postsOutliers = find_outliers_IQR(dfPr2[\"n_posts\"])  \n",
    "\n",
    "print(\"number of outliers: \"+ str(len(postsOutliers)))\n",
    "\n",
    "print(\"max outlier value: \"+ str(postsOutliers.max()))\n",
    "\n",
    "print(\"min outlier value:\"+ str(postsOutliers.min()))"
   ]
  },
  {
   "cell_type": "code",
   "execution_count": 18,
   "id": "b7c236d6",
   "metadata": {},
   "outputs": [],
   "source": [
    "#Lets write a code to drop the outliers\n",
    "ls = set([*find_outliers_IQR(dfPr2['following']).index.tolist() , *find_outliers_IQR(dfPr2['followers']).\n",
    "          index.tolist(), *find_outliers_IQR(dfPr2['n_posts']).index.tolist()])\n",
    "dfPr2.drop(ls, inplace = True)"
   ]
  },
  {
   "cell_type": "code",
   "execution_count": 19,
   "id": "69b5fc20",
   "metadata": {},
   "outputs": [
    {
     "data": {
      "image/png": "[encoded data removed]",
      "text/plain": [
       "<Figure size 432x288 with 1 Axes>"
      ]
     },
     "metadata": {
      "needs_background": "light"
     },
     "output_type": "display_data"
    }
   ],
   "source": [
    "# Plotting the boxplot after dropping outliers\n",
    "dfPr2.boxplot(numeric_col)\n",
    "plt.grid(False)"
   ]
  },
  {
   "cell_type": "markdown",
   "id": "9ce24779",
   "metadata": {},
   "source": [
    "We can normalize the data set to have a better understanding and compareability. The challenge here would be to handle the NULL values which prevent us to perform normalization.\n",
    "Due to the size of the NULL values (Around 1 million), we need to decide whether we can afford deleting them or not.\n",
    "\n",
    "We can normalize the dataset through:\n",
    "\n",
    "**dfNormalized = (dfPr2 - dfPr2.mean()) / dfPr2.std()**\n"
   ]
  },
  {
   "cell_type": "code",
   "execution_count": 20,
   "id": "008596dc",
   "metadata": {},
   "outputs": [],
   "source": [
    "valuesD, frequencyD = np.unique(dfPr2.description.astype('str'), return_counts=True)"
   ]
  },
  {
   "cell_type": "code",
   "execution_count": 21,
   "id": "25b0321e",
   "metadata": {},
   "outputs": [],
   "source": [
    "valuesU, frequencyU = np.unique(dfPr2.url.astype('str'), return_counts=True)"
   ]
  },
  {
   "cell_type": "code",
   "execution_count": 22,
   "id": "bb3fea3f",
   "metadata": {},
   "outputs": [],
   "source": [
    "valuesB, frequencyB = np.unique(dfPr2.is_business_account.astype(str), return_counts=True)"
   ]
  },
  {
   "cell_type": "code",
   "execution_count": 23,
   "id": "5468b8e4",
   "metadata": {},
   "outputs": [
    {
     "data": {
      "image/png": "[encoded data removed]",
      "text/plain": [
       "<Figure size 1080x576 with 3 Axes>"
      ]
     },
     "metadata": {},
     "output_type": "display_data"
    }
   ],
   "source": [
    "#plotting pie chart for boolean columns\n",
    "#add colors\n",
    "colors = ['#ff9999','#66b3ff','#99ff99','#ffcc99']\n",
    "explode1= (0.1,0)\n",
    "explode2= (0,0.1,0)\n",
    "fig, axes = plt.subplots(1,3, figsize =(15,8))\n",
    "fig.suptitle('Pie plot for boolean columns')\n",
    "axes[0].pie(frequencyD, labels=valuesD, explode=explode1, colors= colors, autopct='%.0f%%')\n",
    "axes[0].set_title('description')\n",
    "axes[1].pie(frequencyU, labels=valuesU, explode=explode1, colors= colors, autopct='%.0f%%')\n",
    "axes[1].set_title('url')\n",
    "axes[2].pie(frequencyB, labels=valuesB,explode=explode2, colors= colors, autopct='%.0f%%')\n",
    "axes[2].set_title('is_business_account')\n",
    "plt.show()"
   ]
  },
  {
   "cell_type": "markdown",
   "id": "54691ed4",
   "metadata": {},
   "source": [
    "According to the above pie charts, we can figure out that more than half of our users(53%) have 'description' in their instagram' bio, only 14% of our users have 'url' and also, 14% of our users'instagram accout is bussiness type."
   ]
  },
  {
   "cell_type": "code",
   "execution_count": 24,
   "id": "94a8d84d",
   "metadata": {},
   "outputs": [
    {
     "data": {
      "image/png": "[encoded data removed]",
      "text/plain": [
       "<Figure size 936x432 with 3 Axes>"
      ]
     },
     "metadata": {
      "needs_background": "light"
     },
     "output_type": "display_data"
    }
   ],
   "source": [
    "#Distribution of our boolean data\n",
    "fig, ax =plt.subplots(1 , 3 , figsize = (13,6))\n",
    "sns.countplot(x= dfPr2['description'], ax=ax[0], palette = \"Set2\")\n",
    "sns.countplot(x= dfPr2['url'], ax=ax[1], palette = \"Set2\")\n",
    "sns.countplot(x= dfPr2['is_business_account'], ax=ax[2], palette = \"Set2\")\n",
    "fig.show()"
   ]
  },
  {
   "cell_type": "markdown",
   "id": "a28f3ec9",
   "metadata": {},
   "source": [
    "<b>Countplot</b> is used to Show the counts of observations in each categorical bin using bars.\n",
    "\n",
    "According to the above charts, most of our users are not bussines account and don't have url in their instagrams' bio. Also the number of the users that have description is a bit less than the users that have description. "
   ]
  },
  {
   "cell_type": "code",
   "execution_count": 25,
   "id": "38e17853",
   "metadata": {},
   "outputs": [
    {
     "data": {
      "image/png": "[encoded data removed]",
      "text/plain": [
       "<Figure size 432x288 with 2 Axes>"
      ]
     },
     "metadata": {
      "needs_background": "light"
     },
     "output_type": "display_data"
    }
   ],
   "source": [
    "#plotting correlation heatmap\n",
    "sns.heatmap(dfPr2[['n_posts', 'following', 'followers']].corr(), annot=True , cmap='Blues')\n",
    "plt.show()"
   ]
  },
  {
   "cell_type": "markdown",
   "id": "e9ca55d8",
   "metadata": {},
   "source": [
    "<b>Correlation heatmap :</b> This plot allows us to inspect the dataset easily and understand the relationship between variables. We have tree numerical variables in this dataset, as we can see there is no notable relationship between these tree variables. Approximately, there is no relation between the number of the posts, followers and following of an account. "
   ]
  },
  {
   "cell_type": "code",
   "execution_count": 26,
   "id": "6c58ba3e",
   "metadata": {},
   "outputs": [],
   "source": [
    "# Dropping Null values. Drop the rows that they have null values in \"followers\" and \"following\" columns.\n",
    "dfPr2.dropna(subset=['followers' , 'following'], inplace=True)"
   ]
  },
  {
   "cell_type": "code",
   "execution_count": 27,
   "id": "e29f6e50",
   "metadata": {},
   "outputs": [
    {
     "data": {
      "image/png": "[encoded data removed]",
      "text/plain": [
       "<Figure size 432x288 with 1 Axes>"
      ]
     },
     "metadata": {
      "needs_background": "light"
     },
     "output_type": "display_data"
    }
   ],
   "source": [
    "#plotting the density plot for tree numerical variables\n",
    "fig, ax = plt.subplots(1,1)\n",
    "for s in [dfPr2.followers, dfPr2.following]:\n",
    "    s.plot.density()\n",
    "\n",
    "# Plot formatting\n",
    "plt.legend([\"followers\", \"following\"])\n",
    "plt.xlabel('Number')\n",
    "plt.ylabel('Density')\n",
    "plt.show()"
   ]
  },
  {
   "cell_type": "markdown",
   "id": "794e6576",
   "metadata": {},
   "source": [
    "A <b>density plot</b> is a smoothed, continuous version of a histogram estimated (kernel density estimation) from the data. In a density plot the x-axis is the value of the variable, and y-axis is the probability density function for the kernel density estimation.\n",
    "\n",
    "We created a density curve to capture the “shape” of this distribution, in the above plot these two plots are right skewed, it means the mean is greater than the median. Totally, the number of the 'following' is more than 'followers', because the desnsity around the zero for followers is more than the following."
   ]
  },
  {
   "cell_type": "markdown",
   "id": "4abee2ea",
   "metadata": {},
   "source": [
    "### ` instagram_Locations Data : `"
   ]
  },
  {
   "cell_type": "code",
   "execution_count": 27,
   "id": "2552f342",
   "metadata": {},
   "outputs": [],
   "source": [
    "# Read the Location data with pandas\n",
    "dfLoc = pd.read_csv(\"./Data/instagram_locations.csv\" , sep = \"\\t\")"
   ]
  },
  {
   "cell_type": "code",
   "execution_count": 28,
   "id": "a09ba36d",
   "metadata": {},
   "outputs": [
    {
     "data": {
      "text/html": [
       "<div>\n",
       "<style scoped>\n",
       "    .dataframe tbody tr th:only-of-type {\n",
       "        vertical-align: middle;\n",
       "    }\n",
       "\n",
       "    .dataframe tbody tr th {\n",
       "        vertical-align: top;\n",
       "    }\n",
       "\n",
       "    .dataframe thead th {\n",
       "        text-align: right;\n",
       "    }\n",
       "</style>\n",
       "<table border=\"1\" class=\"dataframe\">\n",
       "  <thead>\n",
       "    <tr style=\"text-align: right;\">\n",
       "      <th></th>\n",
       "      <th>sid</th>\n",
       "      <th>id</th>\n",
       "      <th>name</th>\n",
       "      <th>street</th>\n",
       "      <th>zip</th>\n",
       "      <th>city</th>\n",
       "      <th>region</th>\n",
       "      <th>cd</th>\n",
       "      <th>phone</th>\n",
       "      <th>aj_exact_city_match</th>\n",
       "      <th>...</th>\n",
       "      <th>dir_city_name</th>\n",
       "      <th>dir_city_slug</th>\n",
       "      <th>dir_country_id</th>\n",
       "      <th>dir_country_name</th>\n",
       "      <th>lat</th>\n",
       "      <th>lng</th>\n",
       "      <th>primary_alias_on_fb</th>\n",
       "      <th>slug</th>\n",
       "      <th>website</th>\n",
       "      <th>cts</th>\n",
       "    </tr>\n",
       "  </thead>\n",
       "  <tbody>\n",
       "    <tr>\n",
       "      <th>0</th>\n",
       "      <td>719981</td>\n",
       "      <td>110296492939207</td>\n",
       "      <td>Playa de Daimuz - Valencia, España</td>\n",
       "      <td>NaN</td>\n",
       "      <td>NaN</td>\n",
       "      <td>NaN</td>\n",
       "      <td>NaN</td>\n",
       "      <td>NaN</td>\n",
       "      <td>NaN</td>\n",
       "      <td>False</td>\n",
       "      <td>...</td>\n",
       "      <td>NaN</td>\n",
       "      <td>NaN</td>\n",
       "      <td>NaN</td>\n",
       "      <td>NaN</td>\n",
       "      <td>-0.139475</td>\n",
       "      <td>38.974391</td>\n",
       "      <td>daimuzplaya</td>\n",
       "      <td>playa-de-daimuz-valencia-espana</td>\n",
       "      <td>https://es.wikipedia.org/wiki/Daimuz</td>\n",
       "      <td>2019-05-29 01:21:29.987</td>\n",
       "    </tr>\n",
       "    <tr>\n",
       "      <th>1</th>\n",
       "      <td>719983</td>\n",
       "      <td>274391278</td>\n",
       "      <td>Nová Vieska</td>\n",
       "      <td>NaN</td>\n",
       "      <td>NaN</td>\n",
       "      <td>Nová Vieska</td>\n",
       "      <td>NaN</td>\n",
       "      <td>SK</td>\n",
       "      <td>NaN</td>\n",
       "      <td>True</td>\n",
       "      <td>...</td>\n",
       "      <td>Kis-Újfalu</td>\n",
       "      <td>kis-ujfalu</td>\n",
       "      <td>SK</td>\n",
       "      <td>Slovakia</td>\n",
       "      <td>18.466667</td>\n",
       "      <td>47.866667</td>\n",
       "      <td>NaN</td>\n",
       "      <td>nova-vieska</td>\n",
       "      <td>NaN</td>\n",
       "      <td>2019-05-29 01:21:38.037</td>\n",
       "    </tr>\n",
       "    <tr>\n",
       "      <th>2</th>\n",
       "      <td>719985</td>\n",
       "      <td>148885595789195</td>\n",
       "      <td>Everest Today</td>\n",
       "      <td>Himalayas</td>\n",
       "      <td>+977</td>\n",
       "      <td>Kathmandu, Nepal</td>\n",
       "      <td>NaN</td>\n",
       "      <td>NP</td>\n",
       "      <td>NaN</td>\n",
       "      <td>False</td>\n",
       "      <td>...</td>\n",
       "      <td>Pasupati</td>\n",
       "      <td>pasupati</td>\n",
       "      <td>NP</td>\n",
       "      <td>Nepal</td>\n",
       "      <td>85.330150</td>\n",
       "      <td>27.701960</td>\n",
       "      <td>EverestToday</td>\n",
       "      <td>everest-today</td>\n",
       "      <td>NaN</td>\n",
       "      <td>2019-05-29 01:21:46.295</td>\n",
       "    </tr>\n",
       "    <tr>\n",
       "      <th>3</th>\n",
       "      <td>719987</td>\n",
       "      <td>263258277</td>\n",
       "      <td>BULAC - Bibliothèque universitaire des langues...</td>\n",
       "      <td>65, rue des Grands-Moulins</td>\n",
       "      <td>75013</td>\n",
       "      <td>Paris, France</td>\n",
       "      <td>NaN</td>\n",
       "      <td>FR</td>\n",
       "      <td>01 81 69 18 00</td>\n",
       "      <td>False</td>\n",
       "      <td>...</td>\n",
       "      <td>13ème Arrondissement Paris</td>\n",
       "      <td>13eme-arrondissement-paris</td>\n",
       "      <td>FR</td>\n",
       "      <td>France</td>\n",
       "      <td>2.375995</td>\n",
       "      <td>48.827240</td>\n",
       "      <td>BULAC.Paris</td>\n",
       "      <td>bulac-bibliotheque-universitaire-des-langues-e...</td>\n",
       "      <td>www.bulac.fr</td>\n",
       "      <td>2019-05-29 01:21:54.355</td>\n",
       "    </tr>\n",
       "    <tr>\n",
       "      <th>4</th>\n",
       "      <td>326443</td>\n",
       "      <td>406147529857708</td>\n",
       "      <td>ABC Cable Networks Group</td>\n",
       "      <td>3800 W Alameda Ave</td>\n",
       "      <td>91505</td>\n",
       "      <td>Burbank, California</td>\n",
       "      <td>NaN</td>\n",
       "      <td>US</td>\n",
       "      <td>(818) 569-7500</td>\n",
       "      <td>False</td>\n",
       "      <td>...</td>\n",
       "      <td>NaN</td>\n",
       "      <td>NaN</td>\n",
       "      <td>NaN</td>\n",
       "      <td>NaN</td>\n",
       "      <td>-118.341864</td>\n",
       "      <td>34.153265</td>\n",
       "      <td>NaN</td>\n",
       "      <td>abc-cable-networks-group</td>\n",
       "      <td>NaN</td>\n",
       "      <td>2019-04-02 15:22:55.703</td>\n",
       "    </tr>\n",
       "  </tbody>\n",
       "</table>\n",
       "<p>5 rows × 23 columns</p>\n",
       "</div>"
      ],
      "text/plain": [
       "      sid               id                                               name  \\\n",
       "0  719981  110296492939207                 Playa de Daimuz - Valencia, España   \n",
       "1  719983        274391278                                        Nová Vieska   \n",
       "2  719985  148885595789195                                      Everest Today   \n",
       "3  719987        263258277  BULAC - Bibliothèque universitaire des langues...   \n",
       "4  326443  406147529857708                           ABC Cable Networks Group   \n",
       "\n",
       "                       street    zip                 city region   cd  \\\n",
       "0                         NaN    NaN                  NaN    NaN  NaN   \n",
       "1                         NaN    NaN          Nová Vieska    NaN   SK   \n",
       "2                   Himalayas   +977     Kathmandu, Nepal    NaN   NP   \n",
       "3  65, rue des Grands-Moulins  75013        Paris, France    NaN   FR   \n",
       "4          3800 W Alameda Ave  91505  Burbank, California    NaN   US   \n",
       "\n",
       "            phone aj_exact_city_match  ...               dir_city_name  \\\n",
       "0             NaN               False  ...                         NaN   \n",
       "1             NaN                True  ...                  Kis-Újfalu   \n",
       "2             NaN               False  ...                    Pasupati   \n",
       "3  01 81 69 18 00               False  ...  13ème Arrondissement Paris   \n",
       "4  (818) 569-7500               False  ...                         NaN   \n",
       "\n",
       "                dir_city_slug dir_country_id dir_country_name         lat  \\\n",
       "0                         NaN            NaN              NaN   -0.139475   \n",
       "1                  kis-ujfalu             SK         Slovakia   18.466667   \n",
       "2                    pasupati             NP            Nepal   85.330150   \n",
       "3  13eme-arrondissement-paris             FR           France    2.375995   \n",
       "4                         NaN            NaN              NaN -118.341864   \n",
       "\n",
       "         lng primary_alias_on_fb  \\\n",
       "0  38.974391         daimuzplaya   \n",
       "1  47.866667                 NaN   \n",
       "2  27.701960        EverestToday   \n",
       "3  48.827240         BULAC.Paris   \n",
       "4  34.153265                 NaN   \n",
       "\n",
       "                                                slug  \\\n",
       "0                    playa-de-daimuz-valencia-espana   \n",
       "1                                        nova-vieska   \n",
       "2                                      everest-today   \n",
       "3  bulac-bibliotheque-universitaire-des-langues-e...   \n",
       "4                           abc-cable-networks-group   \n",
       "\n",
       "                                website                      cts  \n",
       "0  https://es.wikipedia.org/wiki/Daimuz  2019-05-29 01:21:29.987  \n",
       "1                                   NaN  2019-05-29 01:21:38.037  \n",
       "2                                   NaN  2019-05-29 01:21:46.295  \n",
       "3                          www.bulac.fr  2019-05-29 01:21:54.355  \n",
       "4                                   NaN  2019-04-02 15:22:55.703  \n",
       "\n",
       "[5 rows x 23 columns]"
      ]
     },
     "execution_count": 28,
     "metadata": {},
     "output_type": "execute_result"
    }
   ],
   "source": [
    "# See the first five rows\n",
    "dfLoc.head()"
   ]
  },
  {
   "cell_type": "code",
   "execution_count": 29,
   "id": "c6dca046",
   "metadata": {},
   "outputs": [
    {
     "name": "stdout",
     "output_type": "stream",
     "text": [
      "<class 'pandas.core.frame.DataFrame'>\n",
      "RangeIndex: 1022658 entries, 0 to 1022657\n",
      "Data columns (total 23 columns):\n",
      " #   Column                  Non-Null Count    Dtype  \n",
      "---  ------                  --------------    -----  \n",
      " 0   sid                     1022658 non-null  int64  \n",
      " 1   id                      1022658 non-null  int64  \n",
      " 2   name                    1022658 non-null  object \n",
      " 3   street                  715704 non-null   object \n",
      " 4   zip                     715579 non-null   object \n",
      " 5   city                    937166 non-null   object \n",
      " 6   region                  1760 non-null     object \n",
      " 7   cd                      939010 non-null   object \n",
      " 8   phone                   601688 non-null   object \n",
      " 9   aj_exact_city_match     1000510 non-null  object \n",
      " 10  aj_exact_country_match  1000510 non-null  object \n",
      " 11  blurb                   406705 non-null   object \n",
      " 12  dir_city_id             495698 non-null   object \n",
      " 13  dir_city_name           495698 non-null   object \n",
      " 14  dir_city_slug           495221 non-null   object \n",
      " 15  dir_country_id          495628 non-null   object \n",
      " 16  dir_country_name        495698 non-null   object \n",
      " 17  lat                     1016495 non-null  float64\n",
      " 18  lng                     1016495 non-null  float64\n",
      " 19  primary_alias_on_fb     425531 non-null   object \n",
      " 20  slug                    941668 non-null   object \n",
      " 21  website                 623262 non-null   object \n",
      " 22  cts                     1022658 non-null  object \n",
      "dtypes: float64(2), int64(2), object(19)\n",
      "memory usage: 179.5+ MB\n"
     ]
    }
   ],
   "source": [
    "# Determine the columns of dfLoc\n",
    "dfLoc.info()"
   ]
  },
  {
   "cell_type": "markdown",
   "id": "eb44aa32",
   "metadata": {},
   "source": [
    "This dataset contains 1022658 rows and 23 columns. As we can understand from the above code, the number of the null values in 'region' columns is very big, according to the number of the whole data. So we will drop this column."
   ]
  },
  {
   "cell_type": "code",
   "execution_count": 30,
   "id": "83fd083c",
   "metadata": {},
   "outputs": [
    {
     "data": {
      "text/plain": [
       "True"
      ]
     },
     "execution_count": 30,
     "metadata": {},
     "output_type": "execute_result"
    }
   ],
   "source": [
    "#Check if the Location data contains any duplicate data or not\n",
    "duplicates = dfLoc.duplicated()\n",
    "duplicates[duplicates == True].empty\n",
    "#The Location data doesn't have any duplicate data."
   ]
  },
  {
   "cell_type": "code",
   "execution_count": 31,
   "id": "16eed83e",
   "metadata": {},
   "outputs": [
    {
     "data": {
      "text/plain": [
       "sid                             0\n",
       "id                              0\n",
       "name                            0\n",
       "street                     306954\n",
       "zip                        307079\n",
       "city                        85492\n",
       "region                    1020898\n",
       "cd                          83648\n",
       "phone                      420970\n",
       "aj_exact_city_match         22148\n",
       "aj_exact_country_match      22148\n",
       "blurb                      615953\n",
       "dir_city_id                526960\n",
       "dir_city_name              526960\n",
       "dir_city_slug              527437\n",
       "dir_country_id             527030\n",
       "dir_country_name           526960\n",
       "lat                          6163\n",
       "lng                          6163\n",
       "primary_alias_on_fb        597127\n",
       "slug                        80990\n",
       "website                    399396\n",
       "cts                             0\n",
       "dtype: int64"
      ]
     },
     "execution_count": 31,
     "metadata": {},
     "output_type": "execute_result"
    }
   ],
   "source": [
    "#Number of null values for each feature\n",
    "dfLoc.isna().sum()"
   ]
  },
  {
   "cell_type": "code",
   "execution_count": 32,
   "id": "180f5f68",
   "metadata": {},
   "outputs": [
    {
     "data": {
      "text/plain": [
       "(1022658, 23)"
      ]
     },
     "execution_count": 32,
     "metadata": {},
     "output_type": "execute_result"
    }
   ],
   "source": [
    "# The shape of the null values, the number of the rows that contain null values\n",
    "dfLoc[dfLoc.isnull().sum(axis=1)!=0].shape"
   ]
  },
  {
   "cell_type": "markdown",
   "id": "d28b8818",
   "metadata": {},
   "source": [
    "According to the number of null values, at least we have one Null value in each row. So because of the big number of null values in comparison to the data, we will not drop all the null values.\n",
    "But by watching the result of the above code, we have to drop some rows that contain the big number of null values"
   ]
  },
  {
   "cell_type": "code",
   "execution_count": 33,
   "id": "77056a48",
   "metadata": {},
   "outputs": [],
   "source": [
    "#We take a copy of our main data and work on it in order to keep our main data withou tmanipulation.\n",
    "dfLoc2 = dfLoc.copy()"
   ]
  },
  {
   "cell_type": "code",
   "execution_count": 34,
   "id": "37f0200e",
   "metadata": {},
   "outputs": [
    {
     "data": {
      "text/html": [
       "<div>\n",
       "<style scoped>\n",
       "    .dataframe tbody tr th:only-of-type {\n",
       "        vertical-align: middle;\n",
       "    }\n",
       "\n",
       "    .dataframe tbody tr th {\n",
       "        vertical-align: top;\n",
       "    }\n",
       "\n",
       "    .dataframe thead th {\n",
       "        text-align: right;\n",
       "    }\n",
       "</style>\n",
       "<table border=\"1\" class=\"dataframe\">\n",
       "  <thead>\n",
       "    <tr style=\"text-align: right;\">\n",
       "      <th></th>\n",
       "      <th>sid</th>\n",
       "      <th>street</th>\n",
       "      <th>zip</th>\n",
       "      <th>city</th>\n",
       "      <th>cd</th>\n",
       "      <th>phone</th>\n",
       "      <th>aj_exact_city_match</th>\n",
       "      <th>aj_exact_country_match</th>\n",
       "      <th>dir_city_id</th>\n",
       "      <th>dir_city_name</th>\n",
       "      <th>dir_city_slug</th>\n",
       "      <th>dir_country_id</th>\n",
       "      <th>dir_country_name</th>\n",
       "      <th>lat</th>\n",
       "      <th>lng</th>\n",
       "      <th>slug</th>\n",
       "      <th>website</th>\n",
       "      <th>cts</th>\n",
       "    </tr>\n",
       "  </thead>\n",
       "  <tbody>\n",
       "    <tr>\n",
       "      <th>0</th>\n",
       "      <td>719981</td>\n",
       "      <td>NaN</td>\n",
       "      <td>NaN</td>\n",
       "      <td>NaN</td>\n",
       "      <td>NaN</td>\n",
       "      <td>NaN</td>\n",
       "      <td>False</td>\n",
       "      <td>False</td>\n",
       "      <td>NaN</td>\n",
       "      <td>NaN</td>\n",
       "      <td>NaN</td>\n",
       "      <td>NaN</td>\n",
       "      <td>NaN</td>\n",
       "      <td>-0.139475</td>\n",
       "      <td>38.974391</td>\n",
       "      <td>playa-de-daimuz-valencia-espana</td>\n",
       "      <td>https://es.wikipedia.org/wiki/Daimuz</td>\n",
       "      <td>2019-05-29 01:21:29.987</td>\n",
       "    </tr>\n",
       "    <tr>\n",
       "      <th>1</th>\n",
       "      <td>719983</td>\n",
       "      <td>NaN</td>\n",
       "      <td>NaN</td>\n",
       "      <td>Nová Vieska</td>\n",
       "      <td>SK</td>\n",
       "      <td>NaN</td>\n",
       "      <td>True</td>\n",
       "      <td>False</td>\n",
       "      <td>c2168642</td>\n",
       "      <td>Kis-Újfalu</td>\n",
       "      <td>kis-ujfalu</td>\n",
       "      <td>SK</td>\n",
       "      <td>Slovakia</td>\n",
       "      <td>18.466667</td>\n",
       "      <td>47.866667</td>\n",
       "      <td>nova-vieska</td>\n",
       "      <td>NaN</td>\n",
       "      <td>2019-05-29 01:21:38.037</td>\n",
       "    </tr>\n",
       "    <tr>\n",
       "      <th>2</th>\n",
       "      <td>719985</td>\n",
       "      <td>Himalayas</td>\n",
       "      <td>+977</td>\n",
       "      <td>Kathmandu, Nepal</td>\n",
       "      <td>NP</td>\n",
       "      <td>NaN</td>\n",
       "      <td>False</td>\n",
       "      <td>False</td>\n",
       "      <td>c1670320</td>\n",
       "      <td>Pasupati</td>\n",
       "      <td>pasupati</td>\n",
       "      <td>NP</td>\n",
       "      <td>Nepal</td>\n",
       "      <td>85.330150</td>\n",
       "      <td>27.701960</td>\n",
       "      <td>everest-today</td>\n",
       "      <td>NaN</td>\n",
       "      <td>2019-05-29 01:21:46.295</td>\n",
       "    </tr>\n",
       "    <tr>\n",
       "      <th>3</th>\n",
       "      <td>719987</td>\n",
       "      <td>65, rue des Grands-Moulins</td>\n",
       "      <td>75013</td>\n",
       "      <td>Paris, France</td>\n",
       "      <td>FR</td>\n",
       "      <td>01 81 69 18 00</td>\n",
       "      <td>False</td>\n",
       "      <td>False</td>\n",
       "      <td>c2871953</td>\n",
       "      <td>13ème Arrondissement Paris</td>\n",
       "      <td>13eme-arrondissement-paris</td>\n",
       "      <td>FR</td>\n",
       "      <td>France</td>\n",
       "      <td>2.375995</td>\n",
       "      <td>48.827240</td>\n",
       "      <td>bulac-bibliotheque-universitaire-des-langues-e...</td>\n",
       "      <td>www.bulac.fr</td>\n",
       "      <td>2019-05-29 01:21:54.355</td>\n",
       "    </tr>\n",
       "    <tr>\n",
       "      <th>4</th>\n",
       "      <td>326443</td>\n",
       "      <td>3800 W Alameda Ave</td>\n",
       "      <td>91505</td>\n",
       "      <td>Burbank, California</td>\n",
       "      <td>US</td>\n",
       "      <td>(818) 569-7500</td>\n",
       "      <td>False</td>\n",
       "      <td>False</td>\n",
       "      <td>NaN</td>\n",
       "      <td>NaN</td>\n",
       "      <td>NaN</td>\n",
       "      <td>NaN</td>\n",
       "      <td>NaN</td>\n",
       "      <td>-118.341864</td>\n",
       "      <td>34.153265</td>\n",
       "      <td>abc-cable-networks-group</td>\n",
       "      <td>NaN</td>\n",
       "      <td>2019-04-02 15:22:55.703</td>\n",
       "    </tr>\n",
       "    <tr>\n",
       "      <th>...</th>\n",
       "      <td>...</td>\n",
       "      <td>...</td>\n",
       "      <td>...</td>\n",
       "      <td>...</td>\n",
       "      <td>...</td>\n",
       "      <td>...</td>\n",
       "      <td>...</td>\n",
       "      <td>...</td>\n",
       "      <td>...</td>\n",
       "      <td>...</td>\n",
       "      <td>...</td>\n",
       "      <td>...</td>\n",
       "      <td>...</td>\n",
       "      <td>...</td>\n",
       "      <td>...</td>\n",
       "      <td>...</td>\n",
       "      <td>...</td>\n",
       "      <td>...</td>\n",
       "    </tr>\n",
       "    <tr>\n",
       "      <th>1022653</th>\n",
       "      <td>719973</td>\n",
       "      <td>Suarez de Figueroa # 380</td>\n",
       "      <td>NaN</td>\n",
       "      <td>Santa Cruz de la Sierra, Bolivia</td>\n",
       "      <td>BO</td>\n",
       "      <td>69118383</td>\n",
       "      <td>False</td>\n",
       "      <td>False</td>\n",
       "      <td>c238308</td>\n",
       "      <td>Santa Cruz de la Sierra</td>\n",
       "      <td>santa-cruz-de-la-sierra</td>\n",
       "      <td>BO</td>\n",
       "      <td>Bolivia</td>\n",
       "      <td>-63.185307</td>\n",
       "      <td>-17.786130</td>\n",
       "      <td>baby-season</td>\n",
       "      <td>NaN</td>\n",
       "      <td>2019-05-29 01:20:57.078</td>\n",
       "    </tr>\n",
       "    <tr>\n",
       "      <th>1022654</th>\n",
       "      <td>719975</td>\n",
       "      <td>NaN</td>\n",
       "      <td>NaN</td>\n",
       "      <td>NaN</td>\n",
       "      <td>NaN</td>\n",
       "      <td>+52 81 2089 7776</td>\n",
       "      <td>NaN</td>\n",
       "      <td>NaN</td>\n",
       "      <td>NaN</td>\n",
       "      <td>NaN</td>\n",
       "      <td>NaN</td>\n",
       "      <td>NaN</td>\n",
       "      <td>NaN</td>\n",
       "      <td>-100.359619</td>\n",
       "      <td>25.653550</td>\n",
       "      <td>cueva-carvajal</td>\n",
       "      <td>http://www.cuevacarvajal.mx</td>\n",
       "      <td>2019-05-29 01:21:04.434</td>\n",
       "    </tr>\n",
       "    <tr>\n",
       "      <th>1022655</th>\n",
       "      <td>719977</td>\n",
       "      <td>304 Orland Square Dr</td>\n",
       "      <td>60462</td>\n",
       "      <td>Orland Park, Illinois</td>\n",
       "      <td>US</td>\n",
       "      <td>(708) 873-3747</td>\n",
       "      <td>False</td>\n",
       "      <td>False</td>\n",
       "      <td>c2774592</td>\n",
       "      <td>Manor Homes</td>\n",
       "      <td>manor-homes</td>\n",
       "      <td>US</td>\n",
       "      <td>United States</td>\n",
       "      <td>-87.843649</td>\n",
       "      <td>41.618551</td>\n",
       "      <td>the-cheesecake-factory</td>\n",
       "      <td>http://locations.thecheesecakefactory.com/il/o...</td>\n",
       "      <td>2019-05-29 01:21:13.404</td>\n",
       "    </tr>\n",
       "    <tr>\n",
       "      <th>1022656</th>\n",
       "      <td>719979</td>\n",
       "      <td>2 Gilmer Terrace</td>\n",
       "      <td>NaN</td>\n",
       "      <td>Wellington, New Zealand</td>\n",
       "      <td>NZ</td>\n",
       "      <td>NaN</td>\n",
       "      <td>False</td>\n",
       "      <td>False</td>\n",
       "      <td>NaN</td>\n",
       "      <td>NaN</td>\n",
       "      <td>NaN</td>\n",
       "      <td>NaN</td>\n",
       "      <td>NaN</td>\n",
       "      <td>174.775000</td>\n",
       "      <td>-41.285800</td>\n",
       "      <td>plimmer-towers</td>\n",
       "      <td>NaN</td>\n",
       "      <td>2019-05-29 01:21:21.628</td>\n",
       "    </tr>\n",
       "    <tr>\n",
       "      <th>1022657</th>\n",
       "      <td>720678</td>\n",
       "      <td>Северная улица</td>\n",
       "      <td>NaN</td>\n",
       "      <td>NaN</td>\n",
       "      <td>NaN</td>\n",
       "      <td>NaN</td>\n",
       "      <td>False</td>\n",
       "      <td>False</td>\n",
       "      <td>NaN</td>\n",
       "      <td>NaN</td>\n",
       "      <td>NaN</td>\n",
       "      <td>NaN</td>\n",
       "      <td>NaN</td>\n",
       "      <td>49.444430</td>\n",
       "      <td>55.979180</td>\n",
       "      <td>NaN</td>\n",
       "      <td>NaN</td>\n",
       "      <td>2019-05-29 02:07:00.772</td>\n",
       "    </tr>\n",
       "  </tbody>\n",
       "</table>\n",
       "<p>1022658 rows × 18 columns</p>\n",
       "</div>"
      ],
      "text/plain": [
       "            sid                      street    zip  \\\n",
       "0        719981                         NaN    NaN   \n",
       "1        719983                         NaN    NaN   \n",
       "2        719985                   Himalayas   +977   \n",
       "3        719987  65, rue des Grands-Moulins  75013   \n",
       "4        326443          3800 W Alameda Ave  91505   \n",
       "...         ...                         ...    ...   \n",
       "1022653  719973    Suarez de Figueroa # 380    NaN   \n",
       "1022654  719975                         NaN    NaN   \n",
       "1022655  719977        304 Orland Square Dr  60462   \n",
       "1022656  719979            2 Gilmer Terrace    NaN   \n",
       "1022657  720678              Северная улица    NaN   \n",
       "\n",
       "                                     city   cd             phone  \\\n",
       "0                                     NaN  NaN               NaN   \n",
       "1                             Nová Vieska   SK               NaN   \n",
       "2                        Kathmandu, Nepal   NP               NaN   \n",
       "3                           Paris, France   FR    01 81 69 18 00   \n",
       "4                     Burbank, California   US    (818) 569-7500   \n",
       "...                                   ...  ...               ...   \n",
       "1022653  Santa Cruz de la Sierra, Bolivia   BO          69118383   \n",
       "1022654                               NaN  NaN  +52 81 2089 7776   \n",
       "1022655             Orland Park, Illinois   US    (708) 873-3747   \n",
       "1022656           Wellington, New Zealand   NZ               NaN   \n",
       "1022657                               NaN  NaN               NaN   \n",
       "\n",
       "        aj_exact_city_match aj_exact_country_match dir_city_id  \\\n",
       "0                     False                  False         NaN   \n",
       "1                      True                  False    c2168642   \n",
       "2                     False                  False    c1670320   \n",
       "3                     False                  False    c2871953   \n",
       "4                     False                  False         NaN   \n",
       "...                     ...                    ...         ...   \n",
       "1022653               False                  False     c238308   \n",
       "1022654                 NaN                    NaN         NaN   \n",
       "1022655               False                  False    c2774592   \n",
       "1022656               False                  False         NaN   \n",
       "1022657               False                  False         NaN   \n",
       "\n",
       "                      dir_city_name               dir_city_slug  \\\n",
       "0                               NaN                         NaN   \n",
       "1                        Kis-Újfalu                  kis-ujfalu   \n",
       "2                          Pasupati                    pasupati   \n",
       "3        13ème Arrondissement Paris  13eme-arrondissement-paris   \n",
       "4                               NaN                         NaN   \n",
       "...                             ...                         ...   \n",
       "1022653     Santa Cruz de la Sierra     santa-cruz-de-la-sierra   \n",
       "1022654                         NaN                         NaN   \n",
       "1022655                 Manor Homes                 manor-homes   \n",
       "1022656                         NaN                         NaN   \n",
       "1022657                         NaN                         NaN   \n",
       "\n",
       "        dir_country_id dir_country_name         lat        lng  \\\n",
       "0                  NaN              NaN   -0.139475  38.974391   \n",
       "1                   SK         Slovakia   18.466667  47.866667   \n",
       "2                   NP            Nepal   85.330150  27.701960   \n",
       "3                   FR           France    2.375995  48.827240   \n",
       "4                  NaN              NaN -118.341864  34.153265   \n",
       "...                ...              ...         ...        ...   \n",
       "1022653             BO          Bolivia  -63.185307 -17.786130   \n",
       "1022654            NaN              NaN -100.359619  25.653550   \n",
       "1022655             US    United States  -87.843649  41.618551   \n",
       "1022656            NaN              NaN  174.775000 -41.285800   \n",
       "1022657            NaN              NaN   49.444430  55.979180   \n",
       "\n",
       "                                                      slug  \\\n",
       "0                          playa-de-daimuz-valencia-espana   \n",
       "1                                              nova-vieska   \n",
       "2                                            everest-today   \n",
       "3        bulac-bibliotheque-universitaire-des-langues-e...   \n",
       "4                                 abc-cable-networks-group   \n",
       "...                                                    ...   \n",
       "1022653                                        baby-season   \n",
       "1022654                                     cueva-carvajal   \n",
       "1022655                             the-cheesecake-factory   \n",
       "1022656                                     plimmer-towers   \n",
       "1022657                                                NaN   \n",
       "\n",
       "                                                   website  \\\n",
       "0                     https://es.wikipedia.org/wiki/Daimuz   \n",
       "1                                                      NaN   \n",
       "2                                                      NaN   \n",
       "3                                             www.bulac.fr   \n",
       "4                                                      NaN   \n",
       "...                                                    ...   \n",
       "1022653                                                NaN   \n",
       "1022654                        http://www.cuevacarvajal.mx   \n",
       "1022655  http://locations.thecheesecakefactory.com/il/o...   \n",
       "1022656                                                NaN   \n",
       "1022657                                                NaN   \n",
       "\n",
       "                             cts  \n",
       "0        2019-05-29 01:21:29.987  \n",
       "1        2019-05-29 01:21:38.037  \n",
       "2        2019-05-29 01:21:46.295  \n",
       "3        2019-05-29 01:21:54.355  \n",
       "4        2019-04-02 15:22:55.703  \n",
       "...                          ...  \n",
       "1022653  2019-05-29 01:20:57.078  \n",
       "1022654  2019-05-29 01:21:04.434  \n",
       "1022655  2019-05-29 01:21:13.404  \n",
       "1022656  2019-05-29 01:21:21.628  \n",
       "1022657  2019-05-29 02:07:00.772  \n",
       "\n",
       "[1022658 rows x 18 columns]"
      ]
     },
     "execution_count": 34,
     "metadata": {},
     "output_type": "execute_result"
    }
   ],
   "source": [
    "#drop some columns\n",
    "dfLoc2.drop([\"region\", \"blurb\", \"primary_alias_on_fb\", \"id\", \"name\"], axis=1, inplace = True)\n",
    "dfLoc2"
   ]
  },
  {
   "cell_type": "markdown",
   "id": "63ccb3e5",
   "metadata": {},
   "source": [
    "In <b> Location </b> dataset there are some approaches that can be done in order to drop some columns, for example the first tree columns(sid, id, nsme) are just for identifying so we can keep one of them. With having the langtitude and latitude of a region, we can figure out cd, street, region, zip and city by providing mapping, so these columns can be dropped. In addition, the dir data(dir_city_id,  dir_city_name, dir_city_slug, dir_country_id, dir_country_name) are internal hashing of instagram that provide the information about the location."
   ]
  },
  {
   "cell_type": "code",
   "execution_count": 35,
   "id": "95d39396",
   "metadata": {},
   "outputs": [
    {
     "data": {
      "text/plain": [
       "246"
      ]
     },
     "execution_count": 35,
     "metadata": {},
     "output_type": "execute_result"
    }
   ],
   "source": [
    "#find the number of unique country in this column\n",
    "len(np.unique(dfLoc2.cd.astype(str)))"
   ]
  },
  {
   "cell_type": "markdown",
   "id": "97d52c01",
   "metadata": {},
   "source": [
    "There is 246 unique country code in the cd column "
   ]
  },
  {
   "cell_type": "code",
   "execution_count": 36,
   "id": "b5ff5d49",
   "metadata": {},
   "outputs": [],
   "source": [
    "value, frequency= np.unique(dfLoc2.cd.astype(str), return_counts = True)    "
   ]
  },
  {
   "cell_type": "code",
   "execution_count": 38,
   "id": "132a6fc3",
   "metadata": {},
   "outputs": [],
   "source": [
    "#finding the six countries that have the most frequency in location data set\n",
    "sortTemp = frequency.argsort()\n",
    "sortedFreq = frequency[sortTemp[::-1]]\n",
    "sortedValue = value[sortTemp[::-1]]\n",
    "pieValue = sortedFreq[:7]\n",
    "pieLabel = sortedValue[:7]\n",
    "pieValue = np.append(pieValue, np.sum(sortedFreq[7:]))\n",
    "pieLabel = np.append(pieLabel,'Other')\n",
    "pieValue = np.delete(pieValue, 2)\n",
    "pieLabel = np.delete(pieLabel, 2)"
   ]
  },
  {
   "cell_type": "code",
   "execution_count": 40,
   "id": "912bade8",
   "metadata": {},
   "outputs": [
    {
     "data": {
      "image/png": "[encoded data removed]",
      "text/plain": [
       "<Figure size 2016x504 with 1 Axes>"
      ]
     },
     "metadata": {},
     "output_type": "display_data"
    }
   ],
   "source": [
    "#plot the pie plot for the six countries with most frequencies\n",
    "plt.pie(pieValue, labels=pieLabel, autopct='%.0f%%')\n",
    "plt.legend(title = \"Country\")\n",
    "plt.rcParams['figure.figsize'] = [15, 7]\n",
    "plt.show()"
   ]
  },
  {
   "cell_type": "markdown",
   "id": "69ad8022",
   "metadata": {},
   "source": [
    "According to the above pie plot, US has the most frequency in our dataset, it means that 35% of our posts are posted in US."
   ]
  },
  {
   "cell_type": "markdown",
   "id": "c6d3cdc2",
   "metadata": {},
   "source": [
    "# ` instagram_Posts Data : `"
   ]
  },
  {
   "cell_type": "code",
   "execution_count": 2,
   "id": "c8ee9c95",
   "metadata": {},
   "outputs": [],
   "source": [
    "#making a sample dataframe just by taking the first 100 rows \n",
    "sampleChunkSize = 100;\n",
    "dfSample = pd.read_csv(\"Data/instagram_posts.csv\", delimiter='\\t', chunksize=sampleChunkSize)"
   ]
  },
  {
   "cell_type": "code",
   "execution_count": 3,
   "id": "9844043b",
   "metadata": {},
   "outputs": [
    {
     "data": {
      "text/html": [
       "<div>\n",
       "<style scoped>\n",
       "    .dataframe tbody tr th:only-of-type {\n",
       "        vertical-align: middle;\n",
       "    }\n",
       "\n",
       "    .dataframe tbody tr th {\n",
       "        vertical-align: top;\n",
       "    }\n",
       "\n",
       "    .dataframe thead th {\n",
       "        text-align: right;\n",
       "    }\n",
       "</style>\n",
       "<table border=\"1\" class=\"dataframe\">\n",
       "  <thead>\n",
       "    <tr style=\"text-align: right;\">\n",
       "      <th></th>\n",
       "      <th>sid</th>\n",
       "      <th>sid_profile</th>\n",
       "      <th>post_id</th>\n",
       "      <th>profile_id</th>\n",
       "      <th>location_id</th>\n",
       "      <th>cts</th>\n",
       "      <th>post_type</th>\n",
       "      <th>description</th>\n",
       "      <th>numbr_likes</th>\n",
       "      <th>number_comments</th>\n",
       "    </tr>\n",
       "  </thead>\n",
       "  <tbody>\n",
       "    <tr>\n",
       "      <th>0</th>\n",
       "      <td>28370919</td>\n",
       "      <td>3496776</td>\n",
       "      <td>BXdjjUlgcgq</td>\n",
       "      <td>2237947779</td>\n",
       "      <td>1022366247837915</td>\n",
       "      <td>2017-08-06 20:06:57.000</td>\n",
       "      <td>2</td>\n",
       "      <td>Wreckloose! Deevalley bike park laps on the @i...</td>\n",
       "      <td>80</td>\n",
       "      <td>0</td>\n",
       "    </tr>\n",
       "    <tr>\n",
       "      <th>1</th>\n",
       "      <td>28370932</td>\n",
       "      <td>-1</td>\n",
       "      <td>BVg0pbolYBC</td>\n",
       "      <td>5579335020</td>\n",
       "      <td>457426771112991</td>\n",
       "      <td>2017-06-19 09:31:16.000</td>\n",
       "      <td>1</td>\n",
       "      <td>🙌🏼 believe in ya dreams 🙌🏼 just like I believe...</td>\n",
       "      <td>25</td>\n",
       "      <td>1</td>\n",
       "    </tr>\n",
       "    <tr>\n",
       "      <th>2</th>\n",
       "      <td>28370933</td>\n",
       "      <td>-1</td>\n",
       "      <td>BRgkjcXFp3Q</td>\n",
       "      <td>313429634</td>\n",
       "      <td>457426771112991</td>\n",
       "      <td>2017-03-11 20:05:03.000</td>\n",
       "      <td>1</td>\n",
       "      <td>#meraviglia #incensi #the #candele #profumo #a...</td>\n",
       "      <td>9</td>\n",
       "      <td>0</td>\n",
       "    </tr>\n",
       "    <tr>\n",
       "      <th>3</th>\n",
       "      <td>28370934</td>\n",
       "      <td>-1</td>\n",
       "      <td>BKTKeNhjEA7</td>\n",
       "      <td>1837592700</td>\n",
       "      <td>457426771112991</td>\n",
       "      <td>2016-09-13 16:27:16.000</td>\n",
       "      <td>1</td>\n",
       "      <td>#teatime #scorpion #friends #love #mountains #...</td>\n",
       "      <td>4</td>\n",
       "      <td>0</td>\n",
       "    </tr>\n",
       "    <tr>\n",
       "      <th>4</th>\n",
       "      <td>28370935</td>\n",
       "      <td>-1</td>\n",
       "      <td>8-NQrvoYLX</td>\n",
       "      <td>1131527143</td>\n",
       "      <td>457426771112991</td>\n",
       "      <td>2015-10-18 10:19:27.000</td>\n",
       "      <td>1</td>\n",
       "      <td>thE sky gavE mE a #constEllation</td>\n",
       "      <td>8</td>\n",
       "      <td>0</td>\n",
       "    </tr>\n",
       "    <tr>\n",
       "      <th>5</th>\n",
       "      <td>28370964</td>\n",
       "      <td>-1</td>\n",
       "      <td>BrYDPJeABJQ</td>\n",
       "      <td>16262389</td>\n",
       "      <td>282618748</td>\n",
       "      <td>2018-12-14 18:16:15.000</td>\n",
       "      <td>1</td>\n",
       "      <td>#beautiful #Christmas #lights</td>\n",
       "      <td>138</td>\n",
       "      <td>15</td>\n",
       "    </tr>\n",
       "    <tr>\n",
       "      <th>6</th>\n",
       "      <td>28370957</td>\n",
       "      <td>-1</td>\n",
       "      <td>BmQ418mgSnL</td>\n",
       "      <td>35673872</td>\n",
       "      <td>282618748</td>\n",
       "      <td>2018-08-09 17:53:46.000</td>\n",
       "      <td>1</td>\n",
       "      <td>As per your suggestion. #themerrytriotakeslondon</td>\n",
       "      <td>389</td>\n",
       "      <td>10</td>\n",
       "    </tr>\n",
       "    <tr>\n",
       "      <th>7</th>\n",
       "      <td>28370960</td>\n",
       "      <td>-1</td>\n",
       "      <td>Bm1YQ3Hn1gJ</td>\n",
       "      <td>840873396</td>\n",
       "      <td>282618748</td>\n",
       "      <td>2018-08-23 22:00:59.000</td>\n",
       "      <td>1</td>\n",
       "      <td>-Blue-💙</td>\n",
       "      <td>198</td>\n",
       "      <td>23</td>\n",
       "    </tr>\n",
       "    <tr>\n",
       "      <th>8</th>\n",
       "      <td>28370961</td>\n",
       "      <td>-1</td>\n",
       "      <td>2qBVjbTgzi</td>\n",
       "      <td>329994</td>\n",
       "      <td>282618748</td>\n",
       "      <td>2015-05-14 11:02:05.000</td>\n",
       "      <td>1</td>\n",
       "      <td>everything still feels so surreal ☁️</td>\n",
       "      <td>127</td>\n",
       "      <td>8</td>\n",
       "    </tr>\n",
       "    <tr>\n",
       "      <th>9</th>\n",
       "      <td>28370962</td>\n",
       "      <td>-1</td>\n",
       "      <td>BP5ViC6gaEf</td>\n",
       "      <td>360796468</td>\n",
       "      <td>282618748</td>\n",
       "      <td>2017-01-30 17:52:01.000</td>\n",
       "      <td>1</td>\n",
       "      <td>Guinness O'clock 🍺🍺 #london #pub #guinness #love</td>\n",
       "      <td>154</td>\n",
       "      <td>6</td>\n",
       "    </tr>\n",
       "  </tbody>\n",
       "</table>\n",
       "</div>"
      ],
      "text/plain": [
       "        sid  sid_profile      post_id  profile_id       location_id  \\\n",
       "0  28370919      3496776  BXdjjUlgcgq  2237947779  1022366247837915   \n",
       "1  28370932           -1  BVg0pbolYBC  5579335020   457426771112991   \n",
       "2  28370933           -1  BRgkjcXFp3Q   313429634   457426771112991   \n",
       "3  28370934           -1  BKTKeNhjEA7  1837592700   457426771112991   \n",
       "4  28370935           -1   8-NQrvoYLX  1131527143   457426771112991   \n",
       "5  28370964           -1  BrYDPJeABJQ    16262389         282618748   \n",
       "6  28370957           -1  BmQ418mgSnL    35673872         282618748   \n",
       "7  28370960           -1  Bm1YQ3Hn1gJ   840873396         282618748   \n",
       "8  28370961           -1   2qBVjbTgzi      329994         282618748   \n",
       "9  28370962           -1  BP5ViC6gaEf   360796468         282618748   \n",
       "\n",
       "                       cts  post_type  \\\n",
       "0  2017-08-06 20:06:57.000          2   \n",
       "1  2017-06-19 09:31:16.000          1   \n",
       "2  2017-03-11 20:05:03.000          1   \n",
       "3  2016-09-13 16:27:16.000          1   \n",
       "4  2015-10-18 10:19:27.000          1   \n",
       "5  2018-12-14 18:16:15.000          1   \n",
       "6  2018-08-09 17:53:46.000          1   \n",
       "7  2018-08-23 22:00:59.000          1   \n",
       "8  2015-05-14 11:02:05.000          1   \n",
       "9  2017-01-30 17:52:01.000          1   \n",
       "\n",
       "                                         description  numbr_likes  \\\n",
       "0  Wreckloose! Deevalley bike park laps on the @i...           80   \n",
       "1  🙌🏼 believe in ya dreams 🙌🏼 just like I believe...           25   \n",
       "2  #meraviglia #incensi #the #candele #profumo #a...            9   \n",
       "3  #teatime #scorpion #friends #love #mountains #...            4   \n",
       "4                   thE sky gavE mE a #constEllation            8   \n",
       "5                      #beautiful #Christmas #lights          138   \n",
       "6   As per your suggestion. #themerrytriotakeslondon          389   \n",
       "7                                            -Blue-💙          198   \n",
       "8               everything still feels so surreal ☁️          127   \n",
       "9   Guinness O'clock 🍺🍺 #london #pub #guinness #love          154   \n",
       "\n",
       "   number_comments  \n",
       "0                0  \n",
       "1                1  \n",
       "2                0  \n",
       "3                0  \n",
       "4                0  \n",
       "5               15  \n",
       "6               10  \n",
       "7               23  \n",
       "8                8  \n",
       "9                6  "
      ]
     },
     "execution_count": 3,
     "metadata": {},
     "output_type": "execute_result"
    }
   ],
   "source": [
    "#Posts dataset contains 10 columns and 42,710,197 rows\n",
    "dfSample.get_chunk(10)"
   ]
  },
  {
   "cell_type": "code",
   "execution_count": 25,
   "id": "3a910619",
   "metadata": {},
   "outputs": [],
   "source": [
    "# Importing tqdm library\n",
    "from tqdm import tqdm"
   ]
  },
  {
   "cell_type": "markdown",
   "id": "f23e3860",
   "metadata": {},
   "source": [
    "As we know the size of the post data is so big, so in order to explore this data we can evaluate the columns separately."
   ]
  },
  {
   "cell_type": "markdown",
   "id": "69aa2a48",
   "metadata": {},
   "source": [
    "## Post Type Column\n",
    "In this section we evaluate 'post_type' column"
   ]
  },
  {
   "cell_type": "code",
   "execution_count": 5,
   "id": "75fc919c",
   "metadata": {},
   "outputs": [
    {
     "name": "stderr",
     "output_type": "stream",
     "text": [
      "428it [39:37,  5.56s/it]\n"
     ]
    }
   ],
   "source": [
    "# Importing post type column in chunks with chunkSize=100000\n",
    "dfPostType = pd.DataFrame()\n",
    "chunks = 100000\n",
    "for chunk in tqdm(pd.read_csv('Data/instagram_posts.csv', delimiter='\\t', usecols=['post_type'], chunksize=chunks)):\n",
    "    dfPostType=pd.concat([dfPostType, chunk], axis=0)"
   ]
  },
  {
   "cell_type": "code",
   "execution_count": 6,
   "id": "855b2a2f",
   "metadata": {},
   "outputs": [],
   "source": [
    "#We take a copy of our main data and work on it in order to keep our main data without manipulation\n",
    "dfPostTypeCopy = dfPostType.copy()"
   ]
  },
  {
   "cell_type": "code",
   "execution_count": 7,
   "id": "4b59de3e",
   "metadata": {},
   "outputs": [
    {
     "name": "stdout",
     "output_type": "stream",
     "text": [
      "<class 'pandas.core.frame.DataFrame'>\n",
      "RangeIndex: 42710197 entries, 0 to 42710196\n",
      "Data columns (total 1 columns):\n",
      " #   Column     Non-Null Count     Dtype\n",
      "---  ------     --------------     -----\n",
      " 0   post_type  42710197 non-null  int64\n",
      "dtypes: int64(1)\n",
      "memory usage: 325.9 MB\n"
     ]
    }
   ],
   "source": [
    "#information for 'PostType' column\n",
    "dfPostType.info(show_counts=True)"
   ]
  },
  {
   "cell_type": "code",
   "execution_count": 14,
   "id": "38e00bff",
   "metadata": {},
   "outputs": [
    {
     "data": {
      "text/plain": [
       "0"
      ]
     },
     "execution_count": 14,
     "metadata": {},
     "output_type": "execute_result"
    }
   ],
   "source": [
    "#the number of the null values in postType column is zero\n",
    "dfPostType.isnull().sum().sum()"
   ]
  },
  {
   "cell_type": "code",
   "execution_count": 19,
   "id": "34037895",
   "metadata": {},
   "outputs": [],
   "source": [
    "# Find the frequency of each post type within the dataset\n",
    "vals, frequency = np.unique(dfPostTypeCopy, return_counts=True)\n",
    "postType = {vals[0]:\"Photo\", vals[1]:\"Video\", vals[2]:\"Multi\"}"
   ]
  },
  {
   "cell_type": "code",
   "execution_count": 20,
   "id": "45eeb6c3",
   "metadata": {},
   "outputs": [
    {
     "name": "stdout",
     "output_type": "stream",
     "text": [
      "The frequency of each post type and its proportion WRT the whole dataset:\n",
      "Photo : 41534486 - 97.25%\n",
      "Video : 1134768 - 2.657%\n",
      "Multi : 40943 - 0.09586%\n"
     ]
    }
   ],
   "source": [
    "print(\"The frequency of each post type and its proportion WRT the whole dataset:\")\n",
    "for val, freq in zip(postType.values(), frequency):\n",
    "    print(f\"{val} : {freq} - {freq/len(dfPostTypeCopy)*100:{2}.{4}}%\")"
   ]
  },
  {
   "cell_type": "code",
   "execution_count": 22,
   "id": "53d85591",
   "metadata": {},
   "outputs": [
    {
     "data": {
      "image/png": "[encoded data removed]",
      "text/plain": [
       "<Figure size 504x504 with 1 Axes>"
      ]
     },
     "metadata": {},
     "output_type": "display_data"
    }
   ],
   "source": [
    "#plotting the pie plot for 'PostType' column\n",
    "plt.figure(figsize=(7,7))\n",
    "explodeVals = (0, 0.4, 0.3)\n",
    "colors =  ['#ff9999','#66b3ff', '#000000']\n",
    "plt.pie(frequency, labels=postType.values(), explode=explodeVals, colors=colors, autopct='%1.11f%%', shadow=True)\n",
    "plt.title('\\n\\nProportion of different types of posts within the dataset')\n",
    "plt.show()"
   ]
  },
  {
   "cell_type": "markdown",
   "id": "1cda9c56",
   "metadata": {},
   "source": [
    "According to the above pie plt, that shows the proportions of different types of the posts(Photo, Video, Multi).We figure out that the most of our posts are photos, and the amount of the videos and multies in comparision with photos are very low."
   ]
  },
  {
   "cell_type": "code",
   "execution_count": 18,
   "id": "0672aedd",
   "metadata": {},
   "outputs": [],
   "source": [
    "# Deleting this column to free up the memory\n",
    "del dfPostType"
   ]
  },
  {
   "cell_type": "markdown",
   "id": "e5794ed7",
   "metadata": {},
   "source": [
    "## Number of Likes Column\n",
    "In this section we evaluate 'numbr_likes' column"
   ]
  },
  {
   "cell_type": "code",
   "execution_count": 8,
   "id": "e8ad1109",
   "metadata": {},
   "outputs": [
    {
     "name": "stderr",
     "output_type": "stream",
     "text": [
      "428it [02:46,  2.57it/s]\n"
     ]
    }
   ],
   "source": [
    "# Importing number of likes column in chunks with chunkSize=100000\n",
    "dfNumLikes = pd.DataFrame()\n",
    "chunks = 100000\n",
    "for chunk in tqdm(pd.read_csv('Data/instagram_posts.csv', delimiter='\\t', usecols=['numbr_likes'], chunksize=chunks)):\n",
    "    dfNumLikes=pd.concat([dfNumLikes, chunk], axis=0)"
   ]
  },
  {
   "cell_type": "code",
   "execution_count": 9,
   "id": "45d11986",
   "metadata": {},
   "outputs": [],
   "source": [
    "#We take a copy of our main data and work on it in order to keep our main data without manipulation\n",
    "dfNumLikesCopy = dfNumLikes.copy()"
   ]
  },
  {
   "cell_type": "code",
   "execution_count": 10,
   "id": "69d5c4b3",
   "metadata": {},
   "outputs": [
    {
     "name": "stdout",
     "output_type": "stream",
     "text": [
      "<class 'pandas.core.frame.DataFrame'>\n",
      "RangeIndex: 42710197 entries, 0 to 42710196\n",
      "Data columns (total 1 columns):\n",
      " #   Column       Dtype  \n",
      "---  ------       -----  \n",
      " 0   numbr_likes  float64\n",
      "dtypes: float64(1)\n",
      "memory usage: 325.9 MB\n"
     ]
    }
   ],
   "source": [
    "dfNumLikes.info()"
   ]
  },
  {
   "cell_type": "code",
   "execution_count": 11,
   "id": "29c14c83",
   "metadata": {},
   "outputs": [
    {
     "data": {
      "text/plain": [
       "36"
      ]
     },
     "execution_count": 11,
     "metadata": {},
     "output_type": "execute_result"
    }
   ],
   "source": [
    "# Number of null values\n",
    "dfNumLikesCopy.isnull().sum().sum()"
   ]
  },
  {
   "cell_type": "code",
   "execution_count": 12,
   "id": "7ed2c9ed",
   "metadata": {},
   "outputs": [],
   "source": [
    "# Dropping null values\n",
    "dfNumLikesCopy.dropna(inplace=True)"
   ]
  },
  {
   "cell_type": "code",
   "execution_count": 13,
   "id": "0b0a46bb",
   "metadata": {},
   "outputs": [
    {
     "data": {
      "text/html": [
       "<div>\n",
       "<style scoped>\n",
       "    .dataframe tbody tr th:only-of-type {\n",
       "        vertical-align: middle;\n",
       "    }\n",
       "\n",
       "    .dataframe tbody tr th {\n",
       "        vertical-align: top;\n",
       "    }\n",
       "\n",
       "    .dataframe thead th {\n",
       "        text-align: right;\n",
       "    }\n",
       "</style>\n",
       "<table border=\"1\" class=\"dataframe\">\n",
       "  <thead>\n",
       "    <tr style=\"text-align: right;\">\n",
       "      <th></th>\n",
       "      <th>numbr_likes</th>\n",
       "    </tr>\n",
       "  </thead>\n",
       "  <tbody>\n",
       "    <tr>\n",
       "      <th>count</th>\n",
       "      <td>4.271016e+07</td>\n",
       "    </tr>\n",
       "    <tr>\n",
       "      <th>mean</th>\n",
       "      <td>2.835030e+02</td>\n",
       "    </tr>\n",
       "    <tr>\n",
       "      <th>std</th>\n",
       "      <td>6.124611e+03</td>\n",
       "    </tr>\n",
       "    <tr>\n",
       "      <th>min</th>\n",
       "      <td>0.000000e+00</td>\n",
       "    </tr>\n",
       "    <tr>\n",
       "      <th>25%</th>\n",
       "      <td>2.000000e+01</td>\n",
       "    </tr>\n",
       "    <tr>\n",
       "      <th>50%</th>\n",
       "      <td>4.600000e+01</td>\n",
       "    </tr>\n",
       "    <tr>\n",
       "      <th>75%</th>\n",
       "      <td>1.140000e+02</td>\n",
       "    </tr>\n",
       "    <tr>\n",
       "      <th>max</th>\n",
       "      <td>8.822952e+06</td>\n",
       "    </tr>\n",
       "  </tbody>\n",
       "</table>\n",
       "</div>"
      ],
      "text/plain": [
       "        numbr_likes\n",
       "count  4.271016e+07\n",
       "mean   2.835030e+02\n",
       "std    6.124611e+03\n",
       "min    0.000000e+00\n",
       "25%    2.000000e+01\n",
       "50%    4.600000e+01\n",
       "75%    1.140000e+02\n",
       "max    8.822952e+06"
      ]
     },
     "execution_count": 13,
     "metadata": {},
     "output_type": "execute_result"
    }
   ],
   "source": [
    "dfNumLikesCopy.describe()"
   ]
  },
  {
   "cell_type": "code",
   "execution_count": 27,
   "id": "1861f8f1",
   "metadata": {},
   "outputs": [
    {
     "data": {
      "image/png": "[encoded data removed]",
      "text/plain": [
       "<Figure size 576x432 with 1 Axes>"
      ]
     },
     "metadata": {
      "needs_background": "light"
     },
     "output_type": "display_data"
    }
   ],
   "source": [
    "# Plotting the density of number of likes\n",
    "plt.figure(figsize=(8,6))\n",
    "ax = dfNumLikesCopy['numbr_likes'].plot.density()\n",
    "plt.xlabel('Number of Likes')\n",
    "plt.ylabel('Density')\n",
    "plt.show()"
   ]
  },
  {
   "cell_type": "code",
   "execution_count": 14,
   "id": "62b2a37d",
   "metadata": {},
   "outputs": [],
   "source": [
    "#Finding outliers using statistical methods\n",
    "numLikesOutliers = find_outliers_IQR(dfNumLikesCopy['numbr_likes'])"
   ]
  },
  {
   "cell_type": "code",
   "execution_count": 15,
   "id": "7aaed658",
   "metadata": {},
   "outputs": [],
   "source": [
    "# Dropping outliers\n",
    "dfNumLikesCopy.drop(index=numLikesOutliers.index, inplace=True)"
   ]
  },
  {
   "cell_type": "code",
   "execution_count": 16,
   "id": "b4201c14",
   "metadata": {},
   "outputs": [
    {
     "data": {
      "image/png": "[encoded data removed]",
      "text/plain": [
       "<Figure size 576x432 with 1 Axes>"
      ]
     },
     "metadata": {
      "needs_background": "light"
     },
     "output_type": "display_data"
    }
   ],
   "source": [
    "# Plotting the density of number of likes after dropping outliers\n",
    "plt.figure(figsize=(8,6))\n",
    "ax = dfNumLikesCopy['numbr_likes'].plot.density()\n",
    "plt.xlabel('Number of Likes')\n",
    "plt.ylabel('Density')\n",
    "plt.show()"
   ]
  },
  {
   "cell_type": "markdown",
   "id": "36cc00a8",
   "metadata": {},
   "source": [
    "As you can see above, the distribution is right-skewed which means the mode, median and the mean are all different in this way. In fact in right-skewed distributions mean>mode."
   ]
  },
  {
   "cell_type": "code",
   "execution_count": 17,
   "id": "366bd51c",
   "metadata": {},
   "outputs": [],
   "source": [
    "# Deleting the this column to free up the memory\n",
    "del dfNumLikes"
   ]
  },
  {
   "cell_type": "markdown",
   "id": "2a54bfdd",
   "metadata": {},
   "source": [
    "## Number of Comments Column\n",
    "In this section we evaluate 'number_comments' column"
   ]
  },
  {
   "cell_type": "code",
   "execution_count": 26,
   "id": "3c3c0ca8",
   "metadata": {},
   "outputs": [
    {
     "name": "stderr",
     "output_type": "stream",
     "text": [
      "428it [02:14,  3.18it/s]\n"
     ]
    }
   ],
   "source": [
    "# Importing number of likes column in chunks with chunkSize=100000\n",
    "dfNumComments = pd.DataFrame()\n",
    "chunks = 100000\n",
    "for chunk in tqdm(pd.read_csv('Data/instagram_posts.csv', delimiter='\\t', usecols=['number_comments'], chunksize=chunks)):\n",
    "    dfNumComments=pd.concat([dfNumComments, chunk], axis=0)"
   ]
  },
  {
   "cell_type": "code",
   "execution_count": 27,
   "id": "d74e289e",
   "metadata": {},
   "outputs": [],
   "source": [
    "#We take a copy of our main data and work on it in order to keep our main data without manipulation\n",
    "dfNumCommentsCopy = dfNumComments.copy()"
   ]
  },
  {
   "cell_type": "code",
   "execution_count": 28,
   "id": "dd6412ad",
   "metadata": {},
   "outputs": [
    {
     "name": "stdout",
     "output_type": "stream",
     "text": [
      "<class 'pandas.core.frame.DataFrame'>\n",
      "RangeIndex: 42710197 entries, 0 to 42710196\n",
      "Data columns (total 1 columns):\n",
      " #   Column           Dtype  \n",
      "---  ------           -----  \n",
      " 0   number_comments  float64\n",
      "dtypes: float64(1)\n",
      "memory usage: 325.9 MB\n"
     ]
    }
   ],
   "source": [
    "dfNumComments.info()"
   ]
  },
  {
   "cell_type": "code",
   "execution_count": 26,
   "id": "e801b675",
   "metadata": {},
   "outputs": [
    {
     "data": {
      "text/html": [
       "<div>\n",
       "<style scoped>\n",
       "    .dataframe tbody tr th:only-of-type {\n",
       "        vertical-align: middle;\n",
       "    }\n",
       "\n",
       "    .dataframe tbody tr th {\n",
       "        vertical-align: top;\n",
       "    }\n",
       "\n",
       "    .dataframe thead th {\n",
       "        text-align: right;\n",
       "    }\n",
       "</style>\n",
       "<table border=\"1\" class=\"dataframe\">\n",
       "  <thead>\n",
       "    <tr style=\"text-align: right;\">\n",
       "      <th></th>\n",
       "      <th>number_comments</th>\n",
       "    </tr>\n",
       "  </thead>\n",
       "  <tbody>\n",
       "    <tr>\n",
       "      <th>count</th>\n",
       "      <td>4.271016e+07</td>\n",
       "    </tr>\n",
       "    <tr>\n",
       "      <th>mean</th>\n",
       "      <td>7.595308e+00</td>\n",
       "    </tr>\n",
       "    <tr>\n",
       "      <th>std</th>\n",
       "      <td>1.941476e+02</td>\n",
       "    </tr>\n",
       "    <tr>\n",
       "      <th>min</th>\n",
       "      <td>0.000000e+00</td>\n",
       "    </tr>\n",
       "    <tr>\n",
       "      <th>25%</th>\n",
       "      <td>0.000000e+00</td>\n",
       "    </tr>\n",
       "    <tr>\n",
       "      <th>50%</th>\n",
       "      <td>2.000000e+00</td>\n",
       "    </tr>\n",
       "    <tr>\n",
       "      <th>75%</th>\n",
       "      <td>5.000000e+00</td>\n",
       "    </tr>\n",
       "    <tr>\n",
       "      <th>max</th>\n",
       "      <td>4.889530e+05</td>\n",
       "    </tr>\n",
       "  </tbody>\n",
       "</table>\n",
       "</div>"
      ],
      "text/plain": [
       "       number_comments\n",
       "count     4.271016e+07\n",
       "mean      7.595308e+00\n",
       "std       1.941476e+02\n",
       "min       0.000000e+00\n",
       "25%       0.000000e+00\n",
       "50%       2.000000e+00\n",
       "75%       5.000000e+00\n",
       "max       4.889530e+05"
      ]
     },
     "execution_count": 26,
     "metadata": {},
     "output_type": "execute_result"
    }
   ],
   "source": [
    "dfNumComments.describe()"
   ]
  },
  {
   "cell_type": "code",
   "execution_count": 29,
   "id": "28e99097",
   "metadata": {},
   "outputs": [],
   "source": [
    "# Dropping null and dupplicate values\n",
    "dfNumCommentsCopy.dropna(inplace=True)\n",
    "dfNumCommentsCopy.drop_duplicates(inplace=True)"
   ]
  },
  {
   "cell_type": "code",
   "execution_count": 28,
   "id": "a3ddce87",
   "metadata": {},
   "outputs": [
    {
     "data": {
      "image/png": "[encoded data removed]",
      "text/plain": [
       "<Figure size 576x432 with 1 Axes>"
      ]
     },
     "metadata": {
      "needs_background": "light"
     },
     "output_type": "display_data"
    }
   ],
   "source": [
    "# Plotting the density of number of likes before droppingbm outliers\n",
    "plt.figure(figsize=(8,6))\n",
    "ax = dfNumCommentsCopy['number_comments'].plot.density()\n",
    "plt.xlabel('Number of Comments')\n",
    "plt.ylabel('Density')\n",
    "plt.show()"
   ]
  },
  {
   "cell_type": "markdown",
   "id": "ed10b1b4",
   "metadata": {},
   "source": [
    "Before dropping the outliers, as we can see in the figure above, the density chart has the most density around the zero. "
   ]
  },
  {
   "cell_type": "code",
   "execution_count": 30,
   "id": "448eb417",
   "metadata": {},
   "outputs": [],
   "source": [
    "numCommentsOutliers = find_outliers_IQR(dfNumCommentsCopy['number_comments'])"
   ]
  },
  {
   "cell_type": "code",
   "execution_count": 31,
   "id": "94dc7d63",
   "metadata": {},
   "outputs": [],
   "source": [
    "# Dropping outliers from the dataset\n",
    "dfNumCommentsCopy.drop(index=numCommentsOutliers.index, inplace=True)"
   ]
  },
  {
   "cell_type": "code",
   "execution_count": 31,
   "id": "a95cde90",
   "metadata": {},
   "outputs": [
    {
     "data": {
      "image/png": "[encoded data removed]",
      "text/plain": [
       "<Figure size 576x432 with 1 Axes>"
      ]
     },
     "metadata": {
      "needs_background": "light"
     },
     "output_type": "display_data"
    }
   ],
   "source": [
    "# Plotting the density of number of likes after dropping outliers\n",
    "plt.figure(figsize=(8,6))\n",
    "ax = dfNumCommentsCopy['number_comments'].plot.density()\n",
    "plt.xlabel('Number of Comments')\n",
    "plt.ylabel('Density')\n",
    "plt.show()"
   ]
  },
  {
   "cell_type": "markdown",
   "id": "4076eba6",
   "metadata": {},
   "source": [
    "After dropping the outliers, we can easily see the density of number of the comments in the figure blow. It has the most density between period of 0 to 5000"
   ]
  },
  {
   "cell_type": "code",
   "execution_count": 32,
   "id": "6241fd72",
   "metadata": {},
   "outputs": [
    {
     "data": {
      "text/plain": [
       "0.3389511504380232"
      ]
     },
     "execution_count": 32,
     "metadata": {},
     "output_type": "execute_result"
    }
   ],
   "source": [
    "# Correlation between number of likes and number of comments\n",
    "dfNumCommentsCopy['number_comments'].corr(dfNumLikes['numbr_likes'])"
   ]
  },
  {
   "cell_type": "code",
   "execution_count": 32,
   "id": "1e887b2a",
   "metadata": {},
   "outputs": [],
   "source": [
    "# Concatenating data frames\n",
    "dfTemp = pd.concat([dfPostType, dfNumLikes, dfNumComments], axis= 1)"
   ]
  },
  {
   "cell_type": "code",
   "execution_count": 47,
   "id": "6eeb0d7c",
   "metadata": {},
   "outputs": [
    {
     "data": {
      "image/png": "[encoded data removed]",
      "text/plain": [
       "<Figure size 432x288 with 2 Axes>"
      ]
     },
     "metadata": {
      "needs_background": "light"
     },
     "output_type": "display_data"
    }
   ],
   "source": [
    "# Plot the bar chart to see the amount of the Likes and Comments for different types of posts\n",
    "labels = [\"Photo\", \"Video\", \"Multi\"]\n",
    "\n",
    "#plot1\n",
    "plt.subplot(1, 2, 1)\n",
    "dfTemp1 = dfTemp.groupby(['post_type'])['numbr_likes'].mean()\n",
    "ax1 = dfTemp1.plot(kind='bar')\n",
    "ax1.set_xticks([0,1,2], labels)\n",
    "plt.title(\"NumberOfLikes\")\n",
    "\n",
    "#plot2\n",
    "plt.subplot(1, 2, 2)\n",
    "dfTemp2 = dfTemp.groupby(['post_type'])['number_comments'].mean()\n",
    "ax2 = dfTemp2.plot(kind='bar', color='g')\n",
    "ax2.set_xticks([0,1,2], labels)\n",
    "plt.title(\"NumberOfComments\")\n",
    "\n",
    "\n",
    "\n",
    "plt.suptitle(\"Number of Likes And Comments For each PostType\",y=1.05, fontsize=18, style='italic')\n",
    "plt.show()"
   ]
  },
  {
   "cell_type": "markdown",
   "id": "225aa099",
   "metadata": {},
   "source": [
    "As we can see in the above bar plots, the number of the likes and comments for posts that contain video is more than the other types of the post. Also, multi posts earned the least number of likes and comments."
   ]
  }
 ],
 "metadata": {
  "kernelspec": {
   "display_name": "conda_python3",
   "language": "python",
   "name": "conda_python3"
  },
  "language_info": {
   "codemirror_mode": {
    "name": "ipython",
    "version": 3
   },
   "file_extension": ".py",
   "mimetype": "text/x-python",
   "name": "python",
   "nbconvert_exporter": "python",
   "pygments_lexer": "ipython3",
   "version": "3.8.12"
  }
 },
 "nbformat": 4,
 "nbformat_minor": 5
}
