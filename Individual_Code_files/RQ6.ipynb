{
 "cells": [
  {
   "cell_type": "markdown",
   "id": "60a09ea3",
   "metadata": {},
   "source": [
    "# RQ6"
   ]
  },
  {
   "cell_type": "markdown",
   "id": "2ebfe58d",
   "metadata": {},
   "source": [
    "# Part 1\n",
    "In this part, we will find the average time a user lets pass before publishing another post. We derive the average for all users and after calculate the average over the whole dataset.\n",
    "<br>In addition, we extract top three users who are the most actives between all with their following and followers number."
   ]
  },
  {
   "cell_type": "markdown",
   "id": "3a22b750",
   "metadata": {},
   "source": [
    "#### Importing required libraries"
   ]
  },
  {
   "cell_type": "code",
   "execution_count": 1,
   "id": "70fbdf7c",
   "metadata": {},
   "outputs": [],
   "source": [
    "import pandas as pd\n",
    "import numpy as np\n",
    "from tqdm import tqdm\n",
    "import matplotlib.pyplot as plt\n",
    "from matplotlib import style"
   ]
  },
  {
   "cell_type": "markdown",
   "id": "38b77a9d",
   "metadata": {},
   "source": [
    "#### Importing Data but only the needed columns"
   ]
  },
  {
   "cell_type": "code",
   "execution_count": null,
   "id": "b567aff0",
   "metadata": {},
   "outputs": [
    {
     "name": "stderr",
     "output_type": "stream",
     "text": [
      "428it [1:05:39,  9.20s/it]\n"
     ]
    }
   ],
   "source": [
    "# Importing 100000 rows at a time\n",
    "df = pd.DataFrame()\n",
    "chunks = 100000\n",
    "for chunk in tqdm(pd.read_csv('Data/instagram_posts.csv', delimiter='\\t', usecols=['profile_id', 'cts', 'numbr_likes', 'number_comments'], chunksize=chunks)):\n",
    "    df=pd.concat([df, chunk], axis=0)"
   ]
  },
  {
   "cell_type": "markdown",
   "id": "3acf7d63",
   "metadata": {},
   "source": [
    "#### Getting a copy a the dataset to leave it untouched for further uses"
   ]
  },
  {
   "cell_type": "code",
   "execution_count": 4,
   "id": "9eed5756",
   "metadata": {},
   "outputs": [],
   "source": [
    "dfCopy = df.copy()"
   ]
  },
  {
   "cell_type": "code",
   "execution_count": 5,
   "id": "636917f5",
   "metadata": {},
   "outputs": [
    {
     "data": {
      "text/html": [
       "<div>\n",
       "<style scoped>\n",
       "    .dataframe tbody tr th:only-of-type {\n",
       "        vertical-align: middle;\n",
       "    }\n",
       "\n",
       "    .dataframe tbody tr th {\n",
       "        vertical-align: top;\n",
       "    }\n",
       "\n",
       "    .dataframe thead th {\n",
       "        text-align: right;\n",
       "    }\n",
       "</style>\n",
       "<table border=\"1\" class=\"dataframe\">\n",
       "  <thead>\n",
       "    <tr style=\"text-align: right;\">\n",
       "      <th></th>\n",
       "      <th>profile_id</th>\n",
       "      <th>cts</th>\n",
       "      <th>numbr_likes</th>\n",
       "      <th>number_comments</th>\n",
       "    </tr>\n",
       "  </thead>\n",
       "  <tbody>\n",
       "    <tr>\n",
       "      <th>0</th>\n",
       "      <td>2.237948e+09</td>\n",
       "      <td>2017-08-06 20:06:57.000</td>\n",
       "      <td>80.0</td>\n",
       "      <td>0.0</td>\n",
       "    </tr>\n",
       "    <tr>\n",
       "      <th>1</th>\n",
       "      <td>5.579335e+09</td>\n",
       "      <td>2017-06-19 09:31:16.000</td>\n",
       "      <td>25.0</td>\n",
       "      <td>1.0</td>\n",
       "    </tr>\n",
       "    <tr>\n",
       "      <th>2</th>\n",
       "      <td>3.134296e+08</td>\n",
       "      <td>2017-03-11 20:05:03.000</td>\n",
       "      <td>9.0</td>\n",
       "      <td>0.0</td>\n",
       "    </tr>\n",
       "    <tr>\n",
       "      <th>3</th>\n",
       "      <td>1.837593e+09</td>\n",
       "      <td>2016-09-13 16:27:16.000</td>\n",
       "      <td>4.0</td>\n",
       "      <td>0.0</td>\n",
       "    </tr>\n",
       "    <tr>\n",
       "      <th>4</th>\n",
       "      <td>1.131527e+09</td>\n",
       "      <td>2015-10-18 10:19:27.000</td>\n",
       "      <td>8.0</td>\n",
       "      <td>0.0</td>\n",
       "    </tr>\n",
       "  </tbody>\n",
       "</table>\n",
       "</div>"
      ],
      "text/plain": [
       "     profile_id                      cts  numbr_likes  number_comments\n",
       "0  2.237948e+09  2017-08-06 20:06:57.000         80.0              0.0\n",
       "1  5.579335e+09  2017-06-19 09:31:16.000         25.0              1.0\n",
       "2  3.134296e+08  2017-03-11 20:05:03.000          9.0              0.0\n",
       "3  1.837593e+09  2016-09-13 16:27:16.000          4.0              0.0\n",
       "4  1.131527e+09  2015-10-18 10:19:27.000          8.0              0.0"
      ]
     },
     "execution_count": 5,
     "metadata": {},
     "output_type": "execute_result"
    }
   ],
   "source": [
    "dfCopy.head()"
   ]
  },
  {
   "cell_type": "markdown",
   "id": "3b5a5c9e",
   "metadata": {},
   "source": [
    "#### A general information over the whole dataset including number of non-NULL values, value types, the size, and the shape of the dataset."
   ]
  },
  {
   "cell_type": "code",
   "execution_count": 6,
   "id": "5336cb21",
   "metadata": {},
   "outputs": [
    {
     "name": "stdout",
     "output_type": "stream",
     "text": [
      "<class 'pandas.core.frame.DataFrame'>\n",
      "RangeIndex: 42710197 entries, 0 to 42710196\n",
      "Data columns (total 4 columns):\n",
      " #   Column           Non-Null Count     Dtype  \n",
      "---  ------           --------------     -----  \n",
      " 0   profile_id       40126905 non-null  float64\n",
      " 1   cts              42706865 non-null  object \n",
      " 2   numbr_likes      42710161 non-null  float64\n",
      " 3   number_comments  42710161 non-null  float64\n",
      "dtypes: float64(3), object(1)\n",
      "memory usage: 1.3+ GB\n"
     ]
    }
   ],
   "source": [
    "dfCopy.info(show_counts=True)"
   ]
  },
  {
   "cell_type": "markdown",
   "id": "8836babe",
   "metadata": {},
   "source": [
    "It can be seen there are NULL values in every column"
   ]
  },
  {
   "cell_type": "markdown",
   "id": "9b8c4300",
   "metadata": {},
   "source": [
    "#### Number of NULL values over the entire dataset"
   ]
  },
  {
   "cell_type": "code",
   "execution_count": 7,
   "id": "392f9874",
   "metadata": {},
   "outputs": [
    {
     "data": {
      "text/plain": [
       "2586696"
      ]
     },
     "execution_count": 7,
     "metadata": {},
     "output_type": "execute_result"
    }
   ],
   "source": [
    "dfCopy.isnull().sum().sum()"
   ]
  },
  {
   "cell_type": "markdown",
   "id": "7e6431c1",
   "metadata": {},
   "source": [
    "#### Dropping NULL values and check again to see the result of it"
   ]
  },
  {
   "cell_type": "code",
   "execution_count": 8,
   "id": "7586cbb5",
   "metadata": {},
   "outputs": [
    {
     "name": "stdout",
     "output_type": "stream",
     "text": [
      "<class 'pandas.core.frame.DataFrame'>\n",
      "Int64Index: 40126905 entries, 0 to 42710196\n",
      "Data columns (total 4 columns):\n",
      " #   Column           Non-Null Count     Dtype  \n",
      "---  ------           --------------     -----  \n",
      " 0   profile_id       40126905 non-null  float64\n",
      " 1   cts              40126905 non-null  object \n",
      " 2   numbr_likes      40126905 non-null  float64\n",
      " 3   number_comments  40126905 non-null  float64\n",
      "dtypes: float64(3), object(1)\n",
      "memory usage: 1.5+ GB\n"
     ]
    }
   ],
   "source": [
    "# Dropping NULL values\n",
    "dfCopy.dropna(inplace=True)\n",
    "dfCopy.info(show_counts=True)"
   ]
  },
  {
   "cell_type": "markdown",
   "id": "87f61979",
   "metadata": {},
   "source": [
    "#### Counting the amount of dupplicated values and dropping the extras"
   ]
  },
  {
   "cell_type": "code",
   "execution_count": 9,
   "id": "a5f21a5f",
   "metadata": {},
   "outputs": [
    {
     "data": {
      "text/plain": [
       "920"
      ]
     },
     "execution_count": 9,
     "metadata": {},
     "output_type": "execute_result"
    }
   ],
   "source": [
    "# Check and see if there are duplicate rows\n",
    "np.count_nonzero(dfCopy.duplicated())"
   ]
  },
  {
   "cell_type": "code",
   "execution_count": 10,
   "id": "2fc8d930",
   "metadata": {},
   "outputs": [],
   "source": [
    "# Dropping dupplicates\n",
    "dfCopy.drop_duplicates(keep='first', inplace=True)"
   ]
  },
  {
   "cell_type": "markdown",
   "id": "9fb6ae75",
   "metadata": {},
   "source": [
    "#### Now we find unique profile IDs and the number of posts each of them has published."
   ]
  },
  {
   "cell_type": "code",
   "execution_count": 11,
   "id": "fc9b0454",
   "metadata": {},
   "outputs": [],
   "source": [
    "# Finding unique profiles and their frequency in the data set\n",
    "profiles, freq = np.unique(dfCopy.profile_id, return_counts=True)"
   ]
  },
  {
   "cell_type": "code",
   "execution_count": 12,
   "id": "203d5a81",
   "metadata": {},
   "outputs": [
    {
     "data": {
      "text/plain": [
       "11833765"
      ]
     },
     "execution_count": 12,
     "metadata": {},
     "output_type": "execute_result"
    }
   ],
   "source": [
    "# Number of unique profiles\n",
    "len(profiles)"
   ]
  },
  {
   "cell_type": "markdown",
   "id": "5a063c87",
   "metadata": {},
   "source": [
    "#### Extracting profiles that have published at least two posts. This needs to be done to be able to consider time difference between each two consecutive posts."
   ]
  },
  {
   "cell_type": "code",
   "execution_count": 13,
   "id": "eca30478",
   "metadata": {},
   "outputs": [
    {
     "data": {
      "text/plain": [
       "4354672"
      ]
     },
     "execution_count": 13,
     "metadata": {},
     "output_type": "execute_result"
    }
   ],
   "source": [
    "profiles = profiles[np.where(freq>1)]\n",
    "#freq = freq[np.where(freq>1)]\n",
    "len(profiles)"
   ]
  },
  {
   "cell_type": "markdown",
   "id": "3276b19f",
   "metadata": {},
   "source": [
    "#### Filtering the profiles that have at least two posts recorded for them:"
   ]
  },
  {
   "cell_type": "code",
   "execution_count": 14,
   "id": "834bd89e",
   "metadata": {},
   "outputs": [],
   "source": [
    "dfCopy = dfCopy[dfCopy.profile_id.isin(profiles)]"
   ]
  },
  {
   "cell_type": "markdown",
   "id": "19a9b4c3",
   "metadata": {},
   "source": [
    "#### The length of the data set after dropping NULLs, duplicates, and profiles with less than two posts:"
   ]
  },
  {
   "cell_type": "code",
   "execution_count": 15,
   "id": "0cd3d1f0",
   "metadata": {},
   "outputs": [
    {
     "data": {
      "text/plain": [
       "32646892"
      ]
     },
     "execution_count": 15,
     "metadata": {},
     "output_type": "execute_result"
    }
   ],
   "source": [
    "len(dfCopy)"
   ]
  },
  {
   "cell_type": "markdown",
   "id": "637bb9b3",
   "metadata": {},
   "source": [
    "##### 32646892 posts is published by 4354672 users. <br><br>"
   ]
  },
  {
   "cell_type": "markdown",
   "id": "fcfd77c6",
   "metadata": {},
   "source": [
    "#### Change the format of the timestamps column from string to datetime object to be able to work with it mathematically."
   ]
  },
  {
   "cell_type": "code",
   "execution_count": 16,
   "id": "5d425e7a",
   "metadata": {},
   "outputs": [],
   "source": [
    "# Changing the time stamps format from string to time object\n",
    "dfCopy['cts'] = pd.to_datetime(dfCopy['cts'], format='%Y-%m-%d %H:%M:%S.%f')"
   ]
  },
  {
   "cell_type": "markdown",
   "id": "dbe722cd",
   "metadata": {},
   "source": [
    "#### Sorting the timestamps in ascending order to not create a negative time difference."
   ]
  },
  {
   "cell_type": "code",
   "execution_count": 17,
   "id": "c70f6887",
   "metadata": {},
   "outputs": [],
   "source": [
    "# Sorting data set based on the times posted to maked them incremental\n",
    "dfCopy = dfCopy.sort_values(by='cts')"
   ]
  },
  {
   "cell_type": "markdown",
   "id": "89bf5e94",
   "metadata": {},
   "source": [
    "#### Now we calculate, first, the differnece between each two consecutive posts for a user and then derive the average between them."
   ]
  },
  {
   "cell_type": "code",
   "execution_count": 18,
   "id": "ef0cfd0d",
   "metadata": {},
   "outputs": [],
   "source": [
    "dfMeanTime = dfCopy.groupby(['profile_id']).apply(lambda x: x.cts.diff().sum()/(x.cts.count()-1))"
   ]
  },
  {
   "cell_type": "markdown",
   "id": "f117f1d9",
   "metadata": {},
   "source": [
    "#### An overlook of mean time of posting for each user:"
   ]
  },
  {
   "cell_type": "code",
   "execution_count": 19,
   "id": "9c8bea77",
   "metadata": {},
   "outputs": [
    {
     "data": {
      "text/plain": [
       "profile_id\n",
       "3.0    71 days 12:40:48.923076923\n",
       "4.0    89 days 03:12:52.916666667\n",
       "11.0              6 days 07:28:52\n",
       "19.0      61 days 22:49:06.800000\n",
       "23.0            323 days 15:08:50\n",
       "dtype: timedelta64[ns]"
      ]
     },
     "execution_count": 19,
     "metadata": {},
     "output_type": "execute_result"
    }
   ],
   "source": [
    "dfMeanTime.head()"
   ]
  },
  {
   "cell_type": "markdown",
   "id": "916feedf",
   "metadata": {},
   "source": [
    "#### Calculating the average posting time over all users:"
   ]
  },
  {
   "cell_type": "code",
   "execution_count": 20,
   "id": "5ac4b93b",
   "metadata": {},
   "outputs": [
    {
     "name": "stdout",
     "output_type": "stream",
     "text": [
      "The average time between posts is: \n",
      "76 days 17:06:52.999416750\n",
      "\n"
     ]
    }
   ],
   "source": [
    "meanTime = dfMeanTime.mean()\n",
    "print(f\"The average time between posts is: \\n{str(meanTime)}\\n\")"
   ]
  },
  {
   "cell_type": "markdown",
   "id": "2a1602bc",
   "metadata": {},
   "source": [
    "#### Finding the first three profiles posting more frequently:"
   ]
  },
  {
   "cell_type": "code",
   "execution_count": 21,
   "id": "6c3c2594",
   "metadata": {},
   "outputs": [
    {
     "data": {
      "text/html": [
       "<div>\n",
       "<style scoped>\n",
       "    .dataframe tbody tr th:only-of-type {\n",
       "        vertical-align: middle;\n",
       "    }\n",
       "\n",
       "    .dataframe tbody tr th {\n",
       "        vertical-align: top;\n",
       "    }\n",
       "\n",
       "    .dataframe thead th {\n",
       "        text-align: right;\n",
       "    }\n",
       "</style>\n",
       "<table border=\"1\" class=\"dataframe\">\n",
       "  <thead>\n",
       "    <tr style=\"text-align: right;\">\n",
       "      <th></th>\n",
       "      <th>profile_id</th>\n",
       "      <th>cts</th>\n",
       "    </tr>\n",
       "  </thead>\n",
       "  <tbody>\n",
       "    <tr>\n",
       "      <th>0</th>\n",
       "      <td>1.750194e+09</td>\n",
       "      <td>0 days</td>\n",
       "    </tr>\n",
       "    <tr>\n",
       "      <th>1</th>\n",
       "      <td>3.291067e+09</td>\n",
       "      <td>0 days</td>\n",
       "    </tr>\n",
       "    <tr>\n",
       "      <th>2</th>\n",
       "      <td>1.902414e+08</td>\n",
       "      <td>0 days</td>\n",
       "    </tr>\n",
       "    <tr>\n",
       "      <th>3</th>\n",
       "      <td>9.197905e+09</td>\n",
       "      <td>0 days</td>\n",
       "    </tr>\n",
       "    <tr>\n",
       "      <th>4</th>\n",
       "      <td>2.617240e+08</td>\n",
       "      <td>0 days</td>\n",
       "    </tr>\n",
       "  </tbody>\n",
       "</table>\n",
       "</div>"
      ],
      "text/plain": [
       "     profile_id    cts\n",
       "0  1.750194e+09 0 days\n",
       "1  3.291067e+09 0 days\n",
       "2  1.902414e+08 0 days\n",
       "3  9.197905e+09 0 days\n",
       "4  2.617240e+08 0 days"
      ]
     },
     "execution_count": 21,
     "metadata": {},
     "output_type": "execute_result"
    }
   ],
   "source": [
    "dfMeanTime.sort_values(inplace=True)\n",
    "dfMeanTime=dfMeanTime.to_frame()\n",
    "dfMeanTime['profile_id'] = dfMeanTime.index\n",
    "dfMeanTime.index = np.arange(0, len(dfMeanTime), 1)\n",
    "dfMeanTime.rename(columns={0:'cts'}, inplace=True)\n",
    "dfMeanTime = dfMeanTime[['profile_id', 'cts']]\n",
    "dfMeanTime.head()"
   ]
  },
  {
   "cell_type": "markdown",
   "id": "1c91242a",
   "metadata": {},
   "source": [
    "#### Looking at the pure value of sorted mean times (without looking at their profile_id)."
   ]
  },
  {
   "cell_type": "code",
   "execution_count": 22,
   "id": "412eb77c",
   "metadata": {},
   "outputs": [
    {
     "data": {
      "text/plain": [
       "0              0 days 00:00:00\n",
       "1              0 days 00:00:00\n",
       "2              0 days 00:00:00\n",
       "3              0 days 00:00:00\n",
       "4              0 days 00:00:00\n",
       "5              0 days 00:00:00\n",
       "6              0 days 00:00:00\n",
       "7              0 days 00:00:00\n",
       "8              0 days 00:00:00\n",
       "9              0 days 00:00:00\n",
       "10             0 days 00:00:00\n",
       "11             0 days 00:00:00\n",
       "12             0 days 00:00:00\n",
       "13             0 days 00:00:00\n",
       "14             0 days 00:00:00\n",
       "15             0 days 00:00:00\n",
       "16             0 days 00:00:00\n",
       "17             0 days 00:00:00\n",
       "18             0 days 00:00:00\n",
       "19             0 days 00:00:00\n",
       "20             0 days 00:00:00\n",
       "21             0 days 00:00:00\n",
       "22             0 days 00:00:00\n",
       "23             0 days 00:00:00\n",
       "24             0 days 00:00:00\n",
       "25             0 days 00:00:00\n",
       "26             0 days 00:00:00\n",
       "27             0 days 00:00:00\n",
       "28             0 days 00:00:00\n",
       "29             0 days 00:00:00\n",
       "30             0 days 00:00:00\n",
       "31             0 days 00:00:00\n",
       "32             0 days 00:00:00\n",
       "33             0 days 00:00:00\n",
       "34             0 days 00:00:00\n",
       "35             0 days 00:00:00\n",
       "36             0 days 00:00:00\n",
       "37             0 days 00:00:00\n",
       "38             0 days 00:00:00\n",
       "39      0 days 00:00:00.125000\n",
       "40   0 days 00:00:00.166666666\n",
       "41   0 days 00:00:00.333333333\n",
       "42      0 days 00:00:00.400000\n",
       "43   0 days 00:00:00.454545454\n",
       "44      0 days 00:00:00.500000\n",
       "45      0 days 00:00:00.500000\n",
       "46      0 days 00:00:00.500000\n",
       "47      0 days 00:00:00.500000\n",
       "48      0 days 00:00:00.500000\n",
       "49      0 days 00:00:00.500000\n",
       "Name: cts, dtype: timedelta64[ns]"
      ]
     },
     "execution_count": 22,
     "metadata": {},
     "output_type": "execute_result"
    }
   ],
   "source": [
    "dfMeanTime.cts[:50]"
   ]
  },
  {
   "cell_type": "markdown",
   "id": "4f186612",
   "metadata": {},
   "source": [
    "**Above** you can see there are 39 samples with 0s of average time difference between their posts. <br>\n",
    "<br>\n",
    "#### In order to be sure about the results of the **dfMeanTime** about the users with the average of 0s, we do a simple check on one of them:"
   ]
  },
  {
   "cell_type": "code",
   "execution_count": 23,
   "id": "43d908c9",
   "metadata": {},
   "outputs": [
    {
     "data": {
      "text/html": [
       "<div>\n",
       "<style scoped>\n",
       "    .dataframe tbody tr th:only-of-type {\n",
       "        vertical-align: middle;\n",
       "    }\n",
       "\n",
       "    .dataframe tbody tr th {\n",
       "        vertical-align: top;\n",
       "    }\n",
       "\n",
       "    .dataframe thead th {\n",
       "        text-align: right;\n",
       "    }\n",
       "</style>\n",
       "<table border=\"1\" class=\"dataframe\">\n",
       "  <thead>\n",
       "    <tr style=\"text-align: right;\">\n",
       "      <th></th>\n",
       "      <th>profile_id</th>\n",
       "      <th>cts</th>\n",
       "      <th>numbr_likes</th>\n",
       "      <th>number_comments</th>\n",
       "    </tr>\n",
       "  </thead>\n",
       "  <tbody>\n",
       "    <tr>\n",
       "      <th>6768877</th>\n",
       "      <td>1.750194e+09</td>\n",
       "      <td>2019-04-13 21:22:32</td>\n",
       "      <td>140.0</td>\n",
       "      <td>3.0</td>\n",
       "    </tr>\n",
       "    <tr>\n",
       "      <th>6768879</th>\n",
       "      <td>1.750194e+09</td>\n",
       "      <td>2019-04-13 21:22:32</td>\n",
       "      <td>130.0</td>\n",
       "      <td>0.0</td>\n",
       "    </tr>\n",
       "    <tr>\n",
       "      <th>6768878</th>\n",
       "      <td>1.750194e+09</td>\n",
       "      <td>2019-04-13 21:22:32</td>\n",
       "      <td>232.0</td>\n",
       "      <td>15.0</td>\n",
       "    </tr>\n",
       "  </tbody>\n",
       "</table>\n",
       "</div>"
      ],
      "text/plain": [
       "           profile_id                 cts  numbr_likes  number_comments\n",
       "6768877  1.750194e+09 2019-04-13 21:22:32        140.0              3.0\n",
       "6768879  1.750194e+09 2019-04-13 21:22:32        130.0              0.0\n",
       "6768878  1.750194e+09 2019-04-13 21:22:32        232.0             15.0"
      ]
     },
     "execution_count": 23,
     "metadata": {},
     "output_type": "execute_result"
    }
   ],
   "source": [
    "dfCopy[dfCopy.profile_id==dfMeanTime.profile_id[0]]"
   ]
  },
  {
   "cell_type": "markdown",
   "id": "80a848f1",
   "metadata": {},
   "source": [
    "#### Importing **instagram_profiles.csv** dataset."
   ]
  },
  {
   "cell_type": "code",
   "execution_count": 24,
   "id": "2d7c5ce2",
   "metadata": {},
   "outputs": [],
   "source": [
    "# import profile data and compare it to the topThreeProfile\n",
    "dfProfiles = pd.read_csv(\"Data/instagram_profiles.csv\", delimiter='\\t')"
   ]
  },
  {
   "cell_type": "markdown",
   "id": "fbb6bc18",
   "metadata": {},
   "source": [
    "#### Since dfMeanTime is sorted, merging it with **instagram_profiles.csv** dataset, gives out the shared profiles sorted in ascending oreder in terms of average posting time"
   ]
  },
  {
   "cell_type": "code",
   "execution_count": 25,
   "id": "637d6c01",
   "metadata": {},
   "outputs": [
    {
     "data": {
      "text/html": [
       "<div>\n",
       "<style scoped>\n",
       "    .dataframe tbody tr th:only-of-type {\n",
       "        vertical-align: middle;\n",
       "    }\n",
       "\n",
       "    .dataframe tbody tr th {\n",
       "        vertical-align: top;\n",
       "    }\n",
       "\n",
       "    .dataframe thead th {\n",
       "        text-align: right;\n",
       "    }\n",
       "</style>\n",
       "<table border=\"1\" class=\"dataframe\">\n",
       "  <thead>\n",
       "    <tr style=\"text-align: right;\">\n",
       "      <th></th>\n",
       "      <th>profile_id</th>\n",
       "      <th>cts</th>\n",
       "      <th>following</th>\n",
       "      <th>followers</th>\n",
       "    </tr>\n",
       "  </thead>\n",
       "  <tbody>\n",
       "    <tr>\n",
       "      <th>0</th>\n",
       "      <td>9.197905e+09</td>\n",
       "      <td>0 days</td>\n",
       "      <td>30.0</td>\n",
       "      <td>37.0</td>\n",
       "    </tr>\n",
       "    <tr>\n",
       "      <th>1</th>\n",
       "      <td>1.823732e+09</td>\n",
       "      <td>0 days</td>\n",
       "      <td>1009.0</td>\n",
       "      <td>30.0</td>\n",
       "    </tr>\n",
       "    <tr>\n",
       "      <th>2</th>\n",
       "      <td>6.324740e+09</td>\n",
       "      <td>0 days</td>\n",
       "      <td>1377.0</td>\n",
       "      <td>288.0</td>\n",
       "    </tr>\n",
       "    <tr>\n",
       "      <th>3</th>\n",
       "      <td>1.036093e+10</td>\n",
       "      <td>0 days</td>\n",
       "      <td>5115.0</td>\n",
       "      <td>149.0</td>\n",
       "    </tr>\n",
       "    <tr>\n",
       "      <th>4</th>\n",
       "      <td>6.824888e+09</td>\n",
       "      <td>0 days</td>\n",
       "      <td>556.0</td>\n",
       "      <td>27.0</td>\n",
       "    </tr>\n",
       "  </tbody>\n",
       "</table>\n",
       "</div>"
      ],
      "text/plain": [
       "     profile_id    cts  following  followers\n",
       "0  9.197905e+09 0 days       30.0       37.0\n",
       "1  1.823732e+09 0 days     1009.0       30.0\n",
       "2  6.324740e+09 0 days     1377.0      288.0\n",
       "3  1.036093e+10 0 days     5115.0      149.0\n",
       "4  6.824888e+09 0 days      556.0       27.0"
      ]
     },
     "execution_count": 25,
     "metadata": {},
     "output_type": "execute_result"
    }
   ],
   "source": [
    "# Users with the average posting time of 0s:\n",
    "topUsers = dfMeanTime.merge(dfProfiles[['profile_id', 'following', 'followers']])\n",
    "topUsers.head()"
   ]
  },
  {
   "cell_type": "markdown",
   "id": "3c0f4c86",
   "metadata": {},
   "source": [
    "#### Bar plotting of #followers and #followings for top three most active users"
   ]
  },
  {
   "cell_type": "code",
   "execution_count": 26,
   "id": "74ccb922",
   "metadata": {},
   "outputs": [
    {
     "data": {
      "image/png": "[encoded data removed]",
      "text/plain": [
       "<Figure size 720x576 with 1 Axes>"
      ]
     },
     "metadata": {
      "needs_background": "light"
     },
     "output_type": "display_data"
    }
   ],
   "source": [
    "style.use('seaborn-dark-palette')\n",
    "ax = topUsers.iloc[:3].plot(kind='bar', y=[\"following\", \"followers\"], figsize=(10,8))\n",
    "labels = topUsers.profile_id.iloc[:3]\n",
    "ax.set_xticks([0,1,2], labels)\n",
    "plt.title(\"Top three users' following and followers.\")\n",
    "plt.xlabel(\"Profile IDs\")\n",
    "plt.show()"
   ]
  },
  {
   "cell_type": "markdown",
   "id": "333f5173",
   "metadata": {},
   "source": [
    "# Part 2\n",
    "In this part, we aggregate samples in defined time intervals and then examine to see in which time intervals highest number of likes and comments have been recorded."
   ]
  },
  {
   "cell_type": "markdown",
   "id": "e71a7fa9",
   "metadata": {},
   "source": [
    "#### Taking a copy a the dataset we imported previously"
   ]
  },
  {
   "cell_type": "code",
   "execution_count": 27,
   "id": "b4852938",
   "metadata": {},
   "outputs": [],
   "source": [
    "dfTimeIntervals = df.copy()"
   ]
  },
  {
   "cell_type": "markdown",
   "id": "314b2793",
   "metadata": {},
   "source": [
    "#### Changing the format of timestamps like before from string to datetime, but this time, we only need the hour value. We intend to define time intervals over a day, 24H, therefore only the hour is needed."
   ]
  },
  {
   "cell_type": "code",
   "execution_count": 28,
   "id": "a03e4eac",
   "metadata": {},
   "outputs": [],
   "source": [
    "# Changing the time stamps format from string to time object\n",
    "dfTimeIntervals['cts'] = pd.to_datetime(dfTimeIntervals['cts'], format='%Y-%m-%d %H:%M:%S.%f')\n",
    "dfCopy = dfTimeIntervals.copy()"
   ]
  },
  {
   "cell_type": "code",
   "execution_count": 29,
   "id": "ee2d4975",
   "metadata": {},
   "outputs": [],
   "source": [
    "# Changing the time stamps into hour only\n",
    "dfCopy['cts'] = dfCopy.cts.dt.hour"
   ]
  },
  {
   "cell_type": "markdown",
   "id": "f07fedab",
   "metadata": {},
   "source": [
    "#### Aggregating data based on 2H time interval starting from 00:00:00 until 23:59:59 and then grouping by intervals."
   ]
  },
  {
   "cell_type": "code",
   "execution_count": 30,
   "id": "5bed4f5e",
   "metadata": {
    "collapsed": true,
    "jupyter": {
     "outputs_hidden": true
    }
   },
   "outputs": [
    {
     "name": "stderr",
     "output_type": "stream",
     "text": [
      "/tmp/ipykernel_7412/1042340825.py:1: FutureWarning: Indexing with multiple keys (implicitly converted to a tuple of keys) will be deprecated, use a list instead.\n",
      "  aggregatedData = dfCopy.groupby(pd.cut(dfCopy['cts'],  np.arange(0, 26, 2)))['numbr_likes', 'number_comments'].mean()\n"
     ]
    }
   ],
   "source": [
    "aggregatedData = dfCopy.groupby(pd.cut(dfCopy['cts'],  np.arange(0, 26, 2)))['numbr_likes', 'number_comments'].mean()"
   ]
  },
  {
   "cell_type": "code",
   "execution_count": 36,
   "id": "0323abd5",
   "metadata": {},
   "outputs": [
    {
     "data": {
      "text/html": [
       "<div>\n",
       "<style scoped>\n",
       "    .dataframe tbody tr th:only-of-type {\n",
       "        vertical-align: middle;\n",
       "    }\n",
       "\n",
       "    .dataframe tbody tr th {\n",
       "        vertical-align: top;\n",
       "    }\n",
       "\n",
       "    .dataframe thead th {\n",
       "        text-align: right;\n",
       "    }\n",
       "</style>\n",
       "<table border=\"1\" class=\"dataframe\">\n",
       "  <thead>\n",
       "    <tr style=\"text-align: right;\">\n",
       "      <th></th>\n",
       "      <th>numbr_likes</th>\n",
       "      <th>number_comments</th>\n",
       "    </tr>\n",
       "    <tr>\n",
       "      <th>cts</th>\n",
       "      <th></th>\n",
       "      <th></th>\n",
       "    </tr>\n",
       "  </thead>\n",
       "  <tbody>\n",
       "    <tr>\n",
       "      <th>(0, 2]</th>\n",
       "      <td>272.520189</td>\n",
       "      <td>7.726647</td>\n",
       "    </tr>\n",
       "    <tr>\n",
       "      <th>(2, 4]</th>\n",
       "      <td>267.665914</td>\n",
       "      <td>7.135964</td>\n",
       "    </tr>\n",
       "    <tr>\n",
       "      <th>(4, 6]</th>\n",
       "      <td>257.449635</td>\n",
       "      <td>6.703394</td>\n",
       "    </tr>\n",
       "    <tr>\n",
       "      <th>(6, 8]</th>\n",
       "      <td>263.997820</td>\n",
       "      <td>7.393859</td>\n",
       "    </tr>\n",
       "    <tr>\n",
       "      <th>(8, 10]</th>\n",
       "      <td>277.757407</td>\n",
       "      <td>7.493787</td>\n",
       "    </tr>\n",
       "  </tbody>\n",
       "</table>\n",
       "</div>"
      ],
      "text/plain": [
       "         numbr_likes  number_comments\n",
       "cts                                  \n",
       "(0, 2]    272.520189         7.726647\n",
       "(2, 4]    267.665914         7.135964\n",
       "(4, 6]    257.449635         6.703394\n",
       "(6, 8]    263.997820         7.393859\n",
       "(8, 10]   277.757407         7.493787"
      ]
     },
     "execution_count": 36,
     "metadata": {},
     "output_type": "execute_result"
    }
   ],
   "source": [
    "aggregatedData.head()"
   ]
  },
  {
   "cell_type": "code",
   "execution_count": 54,
   "id": "493b698c",
   "metadata": {},
   "outputs": [
    {
     "name": "stdout",
     "output_type": "stream",
     "text": [
      "Highest average of likes: 301.6\n",
      "Highest average of comments: 8.07\n"
     ]
    }
   ],
   "source": [
    "print(f\"Highest average of likes: {aggregatedData.numbr_likes.max():{2}.{5}}\")\n",
    "print(f\"Highest average of comments: {aggregatedData.number_comments.max():{2}.{3}}\")"
   ]
  },
  {
   "cell_type": "markdown",
   "id": "8d1399a5",
   "metadata": {},
   "source": [
    "#### Taking out maximum likes and comments and associated indices which are the time ranges."
   ]
  },
  {
   "cell_type": "code",
   "execution_count": 31,
   "id": "fc6f6249",
   "metadata": {},
   "outputs": [],
   "source": [
    "for i in aggregatedData.columns:\n",
    "    likesMax = aggregatedData.numbr_likes.max()\n",
    "    likesMaxID = aggregatedData.numbr_likes.idxmax()\n",
    "    commentsMax = aggregatedData.number_comments.max()\n",
    "    commentsMaxID = aggregatedData.number_comments.idxmax()"
   ]
  },
  {
   "cell_type": "code",
   "execution_count": 56,
   "id": "b06369c8",
   "metadata": {},
   "outputs": [
    {
     "name": "stdout",
     "output_type": "stream",
     "text": [
      "The maximum amount of average likes is 301.6 and is recorded between 16:00:00 and 18:00:00\n",
      "The maximum amount of average comments is 8.069 and is recorded between 18:00:00 and 20:00:00\n"
     ]
    }
   ],
   "source": [
    "print(f\"The maximum amount of average likes is {likesMax:{2}.{4}} and is recorded between {likesMaxID.left}:00:00 and {likesMaxID.right}:00:00\")\n",
    "print(f\"The maximum amount of average comments is {commentsMax:{2}.{4}} and is recorded between {commentsMaxID.left}:00:00 and {commentsMaxID.right}:00:00\")"
   ]
  },
  {
   "cell_type": "markdown",
   "id": "939d7e4c",
   "metadata": {},
   "source": [
    "#### Plotting the achieved results both for likes and comments."
   ]
  },
  {
   "cell_type": "code",
   "execution_count": 35,
   "id": "1b872fd0",
   "metadata": {},
   "outputs": [],
   "source": [
    "labels = [\"00:00:00-02:00:00\",\"02:00:00-04:00:00\",\"04:00:00-06:00:00\",\"06:00:00-08:00:00\",\"08:00:00-10:00:00\",\"10:00:00-12:00:00\",\n",
    "         \"12:00:00-14:00:00\", \"14:00:00-16:00:00\",\"16:00:00-18:00:00\",\"18:00:00-20:00:00\",\"20:00:00-22:00:00\",\"22:00:00-23:59:59\"]"
   ]
  },
  {
   "cell_type": "code",
   "execution_count": 48,
   "id": "89e07d66",
   "metadata": {},
   "outputs": [
    {
     "data": {
      "image/png": "[encoded data removed]",
      "text/plain": [
       "<Figure size 576x432 with 1 Axes>"
      ]
     },
     "metadata": {
      "needs_background": "light"
     },
     "output_type": "display_data"
    }
   ],
   "source": [
    "style.use('seaborn-dark-palette')\n",
    "aggregatedData.plot(kind='bar', y='numbr_likes', figsize=(8,6))\n",
    "plt.title(\"Average number of likes recorded each 2 hours in a day.\")\n",
    "plt.xlabel(\"\\nTime Intervals within 24H\")\n",
    "plt.ylabel(\"Average number of likes.\")\n",
    "plt.xticks(ticks=np.arange(0,12,1),labels=labels)\n",
    "plt.show()"
   ]
  },
  {
   "cell_type": "code",
   "execution_count": 49,
   "id": "b2bc0f59",
   "metadata": {},
   "outputs": [
    {
     "data": {
      "image/png": "[encoded data removed]",
      "text/plain": [
       "<Figure size 576x432 with 1 Axes>"
      ]
     },
     "metadata": {
      "needs_background": "light"
     },
     "output_type": "display_data"
    }
   ],
   "source": [
    "aggregatedData.plot(kind='bar', y='number_comments', figsize=(8,6))\n",
    "plt.title(\"Average number of comments recorded each 2 hours in a day.\")\n",
    "plt.xlabel(\"\\nTime Intervals within 24H.\")\n",
    "plt.ylabel(\"Average number of comments.\")\n",
    "plt.xticks(ticks=np.arange(0,12,1),labels=labels)\n",
    "plt.show()"
   ]
  },
  {
   "cell_type": "markdown",
   "id": "8c6e16b0",
   "metadata": {},
   "source": [
    "#### Based on the plots above, the most comments and likes are recorded on\n",
    "##### For likes: 16:00:00-18:00:00 -> 301.6\n",
    "##### For Comments: 18:00:00-20:00:00 -> 8.07"
   ]
  }
 ],
 "metadata": {
  "kernelspec": {
   "display_name": "conda_python3",
   "language": "python",
   "name": "conda_python3"
  },
  "language_info": {
   "codemirror_mode": {
    "name": "ipython",
    "version": 3
   },
   "file_extension": ".py",
   "mimetype": "text/x-python",
   "name": "python",
   "nbconvert_exporter": "python",
   "pygments_lexer": "ipython3",
   "version": "3.8.12"
  }
 },
 "nbformat": 4,
 "nbformat_minor": 5
}
